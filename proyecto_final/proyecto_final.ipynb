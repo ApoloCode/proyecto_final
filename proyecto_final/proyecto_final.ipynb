{
 "cells": [
  {
   "cell_type": "markdown",
   "source": [
    "# Proyecto de Telecomunicaciones: Identificar operadores ineficaces\n",
    "\n",
    "El servicio de telefonía virtual CallMeMaybe está desarrollando una nueva función que brindará a los supervisores y las supervisores información sobre los operadores menos eficaces. Se considera que un operador es ineficaz si tiene una gran cantidad de llamadas entrantes perdidas (internas y externas) y un tiempo de espera prolongado para las llamadas entrantes. Además, si se supone que un operador debe realizar llamadas salientes, un número reducido de ellas también será un signo de ineficacia."
   ],
   "metadata": {
    "collapsed": false
   }
  },
  {
   "cell_type": "markdown",
   "source": [
    "# Fases del proyecto\n",
    "\n",
    "- Objetivo de proyecto: Identificar a los operadores más ineficaces para poder realizar acciones especificas en ese personal y poder mejorar el rendimiento del servicio.\n",
    "\n",
    "1. Descarga de datos y estudio de la información general\n",
    "- En esta fase se descargaran los datos a ocupar y se vera una muestra de ellos, junto con información general (tipos de datos, columnas, etc) para identificar ajustes a realizar en la siguiente fase\n",
    "2. Preprocesamiento de datos\n",
    "- En esta fase se realizaran los ajustes previamente identificados y se prepara los datos para el análisis.\n",
    "3. Análisis Exploratorio de los datos (EDA)\n",
    "- Describe el comportamiento de los operadores. Identifica cuantos operadores están activos, su número de llamadas tanto salientes como entrantes, número total de llamadas y llamadas perdidas, calcula el tiempo de espera y tiempo de duración de llamadas promedio.\n",
    "- Describe el comportamiento de los clientes. Identifica que clientes ocupan más el servicio, su tarifa actual, que tanto tiempo llevan con el servicio.\n",
    "4. Análisis\n",
    "- Analiza e identifica a los 5 operadores que menos eficacia tienen respecto al resto.\n",
    "- Analiza e identifica a los 5 operadores que más eficacia tienen respecto al resto\n",
    "5. Prueba las hipótesis\n",
    "- Prueba que el número promedio de llamadas entrantes perdidas de los operadores identificados como menos eficaces y de los operadores identificados como más eficaces difiere.\n",
    "- Prueba que el tiempo de espera promedio de los operadores identificados como menos eficaces y de los operadores identificados como más eficaces difiere.\n",
    "- Prueba que el número promedio de llamadas salientes de los operadores identificados como menos eficaces y de los operadores identificados como más eficaces difiere.\n",
    "6. Conclusiones generales, recomendaciones finales y posibles siguientes pasos.\n",
    "- Comenta las conclusiones y recomendaciones finales de todo el proceso.\n",
    "- Escribe los posibles next steps basados en tus conclusiones y recomendaciones finales"
   ],
   "metadata": {
    "collapsed": false
   }
  },
  {
   "cell_type": "markdown",
   "source": [
    "## Tabla de contenidos <a id='back'></a>\n",
    "\n",
    "- [Descarga de datos y estudio de la información general](#descarga_datos)\n",
    "- [Preprocesamiento de datos](#preprocesamiento)\n",
    "- [Análisis exploratorio de datos (EDA)](#eda)\n",
    "- [Análisis de los top y low 5](#analisis)\n",
    "- [Prueba las hipótesis](#hipotesis)\n",
    "- [Conclusiones generales, recomendaciones finales y posibles siguientes pasos](#conclusiones_recomendaciones)"
   ],
   "metadata": {
    "collapsed": false
   }
  },
  {
   "cell_type": "markdown",
   "source": [
    "## Descarga de datos y estudio de la información general\n",
    "\n",
    "En esta fase se descargaran los datos a ocupar y se vera una muestra de ellos, junto con información general (tipos de datos, columnas, etc) para identificar ajustes a realizar en la siguiente fase\n"
   ],
   "metadata": {
    "collapsed": false
   }
  },
  {
   "cell_type": "code",
   "execution_count": 1,
   "outputs": [],
   "source": [
    "# Cargar todas las librerías\n",
    "import pandas as pd\n",
    "import numpy as np\n",
    "from datetime import datetime\n",
    "import seaborn as sns\n",
    "import matplotlib.pyplot as plt\n",
    "from plotly import graph_objects as go\n",
    "from scipy import stats as st"
   ],
   "metadata": {
    "collapsed": false,
    "ExecuteTime": {
     "end_time": "2023-07-14T05:45:11.901645200Z",
     "start_time": "2023-07-14T05:45:11.755647900Z"
    }
   }
  },
  {
   "cell_type": "markdown",
   "source": [
    "Vamos a cargar los datos de los siguientes datasets:\n",
    "\n",
    "- `telecom_clients_us.csv`\n",
    "- `telecom_dataset_us.csv`"
   ],
   "metadata": {
    "collapsed": false
   }
  },
  {
   "cell_type": "code",
   "execution_count": 2,
   "outputs": [
    {
     "name": "stdout",
     "output_type": "stream",
     "text": [
      "   user_id tariff_plan  date_start\n",
      "0   166713           A  2019-08-15\n",
      "1   166901           A  2019-08-23\n",
      "2   168527           A  2019-10-29\n",
      "3   167097           A  2019-09-01\n",
      "4   168193           A  2019-10-16\n",
      "\n",
      "\n",
      "   user_id                       date direction internal  operator_id  \\\n",
      "0   166377  2019-08-04 00:00:00+03:00        in    False          NaN   \n",
      "1   166377  2019-08-05 00:00:00+03:00       out     True     880022.0   \n",
      "2   166377  2019-08-05 00:00:00+03:00       out     True     880020.0   \n",
      "3   166377  2019-08-05 00:00:00+03:00       out     True     880020.0   \n",
      "4   166377  2019-08-05 00:00:00+03:00       out    False     880022.0   \n",
      "\n",
      "   is_missed_call  calls_count  call_duration  total_call_duration  \n",
      "0            True            2              0                    4  \n",
      "1            True            3              0                    5  \n",
      "2            True            1              0                    1  \n",
      "3           False            1             10                   18  \n",
      "4            True            3              0                   25  \n"
     ]
    }
   ],
   "source": [
    "# Carga de los archivos de datos\n",
    "data_clients = pd.read_csv('data/telecom_clients_us.csv')\n",
    "data = pd.read_csv('data/telecom_dataset_us.csv')\n",
    "\n",
    "# Verificamos que los datos se hayan cargado correctamente\n",
    "print(data_clients.head())\n",
    "print('\\n')\n",
    "print(data.head())"
   ],
   "metadata": {
    "collapsed": false,
    "ExecuteTime": {
     "end_time": "2023-07-14T05:45:12.068647300Z",
     "start_time": "2023-07-14T05:45:11.769647Z"
    }
   }
  },
  {
   "cell_type": "markdown",
   "source": [
    "Los datos se han cargado correctamente. Vamos a estudiar los datos que continen nuestros datasets y verificar que los tipos de datos sean correctos para nuestro análisis"
   ],
   "metadata": {
    "collapsed": false
   }
  },
  {
   "cell_type": "code",
   "execution_count": 3,
   "outputs": [
    {
     "name": "stdout",
     "output_type": "stream",
     "text": [
      "<class 'pandas.core.frame.DataFrame'>\n",
      "RangeIndex: 732 entries, 0 to 731\n",
      "Data columns (total 3 columns):\n",
      " #   Column       Non-Null Count  Dtype \n",
      "---  ------       --------------  ----- \n",
      " 0   user_id      732 non-null    int64 \n",
      " 1   tariff_plan  732 non-null    object\n",
      " 2   date_start   732 non-null    object\n",
      "dtypes: int64(1), object(2)\n",
      "memory usage: 17.3+ KB\n"
     ]
    }
   ],
   "source": [
    "# Imprimimos la información general/resumen sobre nuestro primer dataset data_clients\n",
    "data_clients.info()"
   ],
   "metadata": {
    "collapsed": false,
    "ExecuteTime": {
     "end_time": "2023-07-14T05:45:12.071646800Z",
     "start_time": "2023-07-14T05:45:11.860648400Z"
    }
   }
  },
  {
   "cell_type": "code",
   "execution_count": 4,
   "outputs": [
    {
     "data": {
      "text/plain": "   user_id tariff_plan  date_start\n0   166713           A  2019-08-15\n1   166901           A  2019-08-23\n2   168527           A  2019-10-29\n3   167097           A  2019-09-01\n4   168193           A  2019-10-16",
      "text/html": "<div>\n<style scoped>\n    .dataframe tbody tr th:only-of-type {\n        vertical-align: middle;\n    }\n\n    .dataframe tbody tr th {\n        vertical-align: top;\n    }\n\n    .dataframe thead th {\n        text-align: right;\n    }\n</style>\n<table border=\"1\" class=\"dataframe\">\n  <thead>\n    <tr style=\"text-align: right;\">\n      <th></th>\n      <th>user_id</th>\n      <th>tariff_plan</th>\n      <th>date_start</th>\n    </tr>\n  </thead>\n  <tbody>\n    <tr>\n      <th>0</th>\n      <td>166713</td>\n      <td>A</td>\n      <td>2019-08-15</td>\n    </tr>\n    <tr>\n      <th>1</th>\n      <td>166901</td>\n      <td>A</td>\n      <td>2019-08-23</td>\n    </tr>\n    <tr>\n      <th>2</th>\n      <td>168527</td>\n      <td>A</td>\n      <td>2019-10-29</td>\n    </tr>\n    <tr>\n      <th>3</th>\n      <td>167097</td>\n      <td>A</td>\n      <td>2019-09-01</td>\n    </tr>\n    <tr>\n      <th>4</th>\n      <td>168193</td>\n      <td>A</td>\n      <td>2019-10-16</td>\n    </tr>\n  </tbody>\n</table>\n</div>"
     },
     "execution_count": 4,
     "metadata": {},
     "output_type": "execute_result"
    }
   ],
   "source": [
    "data_clients.head()"
   ],
   "metadata": {
    "collapsed": false,
    "ExecuteTime": {
     "end_time": "2023-07-14T05:45:12.081671200Z",
     "start_time": "2023-07-14T05:45:11.878649500Z"
    }
   }
  },
  {
   "cell_type": "markdown",
   "source": [
    "Nuestro dataset `data_clients` que son los datos de los clientes del servicio, contiene los siguientes datos:\n",
    "\n",
    "- `user_id`: ID de usuario/a\n",
    "- `tariff_plan`: tarifa actual de la clientela\n",
    "- `date_start`: fecha de registro de la clientela"
   ],
   "metadata": {
    "collapsed": false
   }
  },
  {
   "cell_type": "code",
   "execution_count": 5,
   "outputs": [
    {
     "name": "stdout",
     "output_type": "stream",
     "text": [
      "Datos duplicados en el dataset: 0\n",
      "Datos duplicados en el user_id del dataset: 0\n"
     ]
    }
   ],
   "source": [
    "# Verificamos que no haya datos duplicados en el dataset completo\n",
    "print('Datos duplicados en el dataset:', data_clients.duplicated().sum())\n",
    "# Verificamos que no haya datos duplicados en user_id\n",
    "print('Datos duplicados en el user_id del dataset:', data_clients['user_id'].duplicated().sum())"
   ],
   "metadata": {
    "collapsed": false,
    "ExecuteTime": {
     "end_time": "2023-07-14T05:45:12.082650400Z",
     "start_time": "2023-07-14T05:45:11.910649900Z"
    }
   }
  },
  {
   "cell_type": "markdown",
   "source": [
    "### Conclusiones del dataset\n",
    "\n",
    "Al ver la muestra y resumen del dataset, no encontramos duplicados ni ausentes. Sin embargo, es necesario cambiar el tipo de dato de la columna `date_start` a datetime para poder realizar operaciones con fechas."
   ],
   "metadata": {
    "collapsed": false
   }
  },
  {
   "cell_type": "code",
   "execution_count": 6,
   "outputs": [
    {
     "name": "stdout",
     "output_type": "stream",
     "text": [
      "<class 'pandas.core.frame.DataFrame'>\n",
      "RangeIndex: 53902 entries, 0 to 53901\n",
      "Data columns (total 9 columns):\n",
      " #   Column               Non-Null Count  Dtype  \n",
      "---  ------               --------------  -----  \n",
      " 0   user_id              53902 non-null  int64  \n",
      " 1   date                 53902 non-null  object \n",
      " 2   direction            53902 non-null  object \n",
      " 3   internal             53785 non-null  object \n",
      " 4   operator_id          45730 non-null  float64\n",
      " 5   is_missed_call       53902 non-null  bool   \n",
      " 6   calls_count          53902 non-null  int64  \n",
      " 7   call_duration        53902 non-null  int64  \n",
      " 8   total_call_duration  53902 non-null  int64  \n",
      "dtypes: bool(1), float64(1), int64(4), object(3)\n",
      "memory usage: 3.3+ MB\n"
     ]
    }
   ],
   "source": [
    "# Imprimimos la información general/resumen sobre nuestro segundo dataset data\n",
    "data.info()"
   ],
   "metadata": {
    "collapsed": false,
    "ExecuteTime": {
     "end_time": "2023-07-14T05:45:12.083648500Z",
     "start_time": "2023-07-14T05:45:11.925650600Z"
    }
   }
  },
  {
   "cell_type": "code",
   "execution_count": 7,
   "outputs": [
    {
     "data": {
      "text/plain": "   user_id                       date direction internal  operator_id  \\\n0   166377  2019-08-04 00:00:00+03:00        in    False          NaN   \n1   166377  2019-08-05 00:00:00+03:00       out     True     880022.0   \n2   166377  2019-08-05 00:00:00+03:00       out     True     880020.0   \n3   166377  2019-08-05 00:00:00+03:00       out     True     880020.0   \n4   166377  2019-08-05 00:00:00+03:00       out    False     880022.0   \n\n   is_missed_call  calls_count  call_duration  total_call_duration  \n0            True            2              0                    4  \n1            True            3              0                    5  \n2            True            1              0                    1  \n3           False            1             10                   18  \n4            True            3              0                   25  ",
      "text/html": "<div>\n<style scoped>\n    .dataframe tbody tr th:only-of-type {\n        vertical-align: middle;\n    }\n\n    .dataframe tbody tr th {\n        vertical-align: top;\n    }\n\n    .dataframe thead th {\n        text-align: right;\n    }\n</style>\n<table border=\"1\" class=\"dataframe\">\n  <thead>\n    <tr style=\"text-align: right;\">\n      <th></th>\n      <th>user_id</th>\n      <th>date</th>\n      <th>direction</th>\n      <th>internal</th>\n      <th>operator_id</th>\n      <th>is_missed_call</th>\n      <th>calls_count</th>\n      <th>call_duration</th>\n      <th>total_call_duration</th>\n    </tr>\n  </thead>\n  <tbody>\n    <tr>\n      <th>0</th>\n      <td>166377</td>\n      <td>2019-08-04 00:00:00+03:00</td>\n      <td>in</td>\n      <td>False</td>\n      <td>NaN</td>\n      <td>True</td>\n      <td>2</td>\n      <td>0</td>\n      <td>4</td>\n    </tr>\n    <tr>\n      <th>1</th>\n      <td>166377</td>\n      <td>2019-08-05 00:00:00+03:00</td>\n      <td>out</td>\n      <td>True</td>\n      <td>880022.0</td>\n      <td>True</td>\n      <td>3</td>\n      <td>0</td>\n      <td>5</td>\n    </tr>\n    <tr>\n      <th>2</th>\n      <td>166377</td>\n      <td>2019-08-05 00:00:00+03:00</td>\n      <td>out</td>\n      <td>True</td>\n      <td>880020.0</td>\n      <td>True</td>\n      <td>1</td>\n      <td>0</td>\n      <td>1</td>\n    </tr>\n    <tr>\n      <th>3</th>\n      <td>166377</td>\n      <td>2019-08-05 00:00:00+03:00</td>\n      <td>out</td>\n      <td>True</td>\n      <td>880020.0</td>\n      <td>False</td>\n      <td>1</td>\n      <td>10</td>\n      <td>18</td>\n    </tr>\n    <tr>\n      <th>4</th>\n      <td>166377</td>\n      <td>2019-08-05 00:00:00+03:00</td>\n      <td>out</td>\n      <td>False</td>\n      <td>880022.0</td>\n      <td>True</td>\n      <td>3</td>\n      <td>0</td>\n      <td>25</td>\n    </tr>\n  </tbody>\n</table>\n</div>"
     },
     "execution_count": 7,
     "metadata": {},
     "output_type": "execute_result"
    }
   ],
   "source": [
    "data.head()"
   ],
   "metadata": {
    "collapsed": false,
    "ExecuteTime": {
     "end_time": "2023-07-14T05:45:12.083648500Z",
     "start_time": "2023-07-14T05:45:11.972650900Z"
    }
   }
  },
  {
   "cell_type": "markdown",
   "source": [
    "Nuestro dataset `data` que son los datos sobre las llamadas realizadas por los operadores o recibidas por ellos, contiene las siguientes columnas:\n",
    "\n",
    "- `user_id`: ID de la cuenta de cliente\n",
    "- `date`: fecha en la que se recuperaron las estadísticas\n",
    "- `direction`: - \"dirección\" de llamada (`out` para saliente, `in` para entrante)\n",
    "- `internal`: si la llamada fue interna (entre los operadores de un cliente o clienta)\n",
    "- `operator_id`: identificador del operador\n",
    "- `is_missed_call`: si fue una llamada perdida\n",
    "- `calls_count`: número de llamadas\n",
    "- `call_duration`: duración de la llamada (sin incluir el tiempo de espera)\n",
    "- `total_call_duration`: duración de la llamada (incluido el tiempo de espera)"
   ],
   "metadata": {
    "collapsed": false
   }
  },
  {
   "cell_type": "code",
   "execution_count": 8,
   "outputs": [
    {
     "name": "stdout",
     "output_type": "stream",
     "text": [
      "Datos duplicados en el dataset: 4900\n"
     ]
    }
   ],
   "source": [
    "# Verificamos que no haya datos duplicados en el dataset completo\n",
    "print('Datos duplicados en el dataset:', data.duplicated().sum())"
   ],
   "metadata": {
    "collapsed": false,
    "ExecuteTime": {
     "end_time": "2023-07-14T05:45:12.084646600Z",
     "start_time": "2023-07-14T05:45:12.002647200Z"
    }
   }
  },
  {
   "cell_type": "markdown",
   "source": [
    "### Conclusiones del dataset\n",
    "\n",
    "Al ver la muestra y resumen del dataset, encontramos 2 columnas con datos ausentes `internal` y `operator_id`; por la muestra que vimos de los datos si la llamada es dirección entrante el operator_id no es registrado y de ahi los nulos de esta columna, sin embargo, se debe hacer un análisis a fondo para tomar la mejor decision para tratarlos. Junto a esto, se detectaron 4900 datos duplicados, estos también deben investigarse para tomar la mejor decisión de como tratarlos. Finalmente se deben cambiar los tipos de datos de las siguientes columnas `date` a datetime, `internal` a bool y `operator_id` a int."
   ],
   "metadata": {
    "collapsed": false
   }
  },
  {
   "cell_type": "markdown",
   "source": [
    "## Preprocesamiento de datos\n",
    "\n",
    "En esta fase haremos los ajustes identificados en la fase anterior, los cuales se encuentran ambos datasets."
   ],
   "metadata": {
    "collapsed": false
   }
  },
  {
   "cell_type": "markdown",
   "source": [
    "### Datos Ausentes\n",
    "\n",
    "Como comentamos anteriormente, se encontraron 2 columnas con datos ausentes\n",
    "\n",
    "- `internal`\n",
    "- `operator_id`\n",
    "\n",
    "Investiguemos las columnas para tomar la mejor decisión de como procesarlos."
   ],
   "metadata": {
    "collapsed": false
   }
  },
  {
   "cell_type": "code",
   "execution_count": 9,
   "outputs": [
    {
     "data": {
      "text/plain": "user_id                 0.000000\ndate                    0.000000\ndirection               0.000000\ninternal                0.217061\noperator_id            15.160847\nis_missed_call          0.000000\ncalls_count             0.000000\ncall_duration           0.000000\ntotal_call_duration     0.000000\ndtype: float64"
     },
     "execution_count": 9,
     "metadata": {},
     "output_type": "execute_result"
    }
   ],
   "source": [
    "# Vamos a checar el porcentaje de valores ausentes en general\n",
    "porcentaje_nulos = lambda x: x * 100 / data.user_id.size\n",
    "data.isna().sum().apply(porcentaje_nulos)"
   ],
   "metadata": {
    "collapsed": false,
    "ExecuteTime": {
     "end_time": "2023-07-14T05:45:12.236647400Z",
     "start_time": "2023-07-14T05:45:12.051648800Z"
    }
   }
  },
  {
   "cell_type": "code",
   "execution_count": 10,
   "outputs": [
    {
     "data": {
      "text/plain": "      user_id                       date direction internal  operator_id  \\\n1007   166405  2019-09-18 00:00:00+03:00        in      NaN          NaN   \n1090   166405  2019-10-01 00:00:00+03:00        in      NaN          NaN   \n1864   166406  2019-08-20 00:00:00+03:00        in      NaN          NaN   \n1924   166406  2019-09-02 00:00:00+03:00        in      NaN     879898.0   \n6210   166541  2019-09-26 00:00:00+03:00        in      NaN     908960.0   \n\n      is_missed_call  calls_count  call_duration  total_call_duration  \n1007            True            1              0                   59  \n1090            True            1              0                    1  \n1864            True            1              0                   36  \n1924           False            1              2                    9  \n6210           False            1            393                  423  ",
      "text/html": "<div>\n<style scoped>\n    .dataframe tbody tr th:only-of-type {\n        vertical-align: middle;\n    }\n\n    .dataframe tbody tr th {\n        vertical-align: top;\n    }\n\n    .dataframe thead th {\n        text-align: right;\n    }\n</style>\n<table border=\"1\" class=\"dataframe\">\n  <thead>\n    <tr style=\"text-align: right;\">\n      <th></th>\n      <th>user_id</th>\n      <th>date</th>\n      <th>direction</th>\n      <th>internal</th>\n      <th>operator_id</th>\n      <th>is_missed_call</th>\n      <th>calls_count</th>\n      <th>call_duration</th>\n      <th>total_call_duration</th>\n    </tr>\n  </thead>\n  <tbody>\n    <tr>\n      <th>1007</th>\n      <td>166405</td>\n      <td>2019-09-18 00:00:00+03:00</td>\n      <td>in</td>\n      <td>NaN</td>\n      <td>NaN</td>\n      <td>True</td>\n      <td>1</td>\n      <td>0</td>\n      <td>59</td>\n    </tr>\n    <tr>\n      <th>1090</th>\n      <td>166405</td>\n      <td>2019-10-01 00:00:00+03:00</td>\n      <td>in</td>\n      <td>NaN</td>\n      <td>NaN</td>\n      <td>True</td>\n      <td>1</td>\n      <td>0</td>\n      <td>1</td>\n    </tr>\n    <tr>\n      <th>1864</th>\n      <td>166406</td>\n      <td>2019-08-20 00:00:00+03:00</td>\n      <td>in</td>\n      <td>NaN</td>\n      <td>NaN</td>\n      <td>True</td>\n      <td>1</td>\n      <td>0</td>\n      <td>36</td>\n    </tr>\n    <tr>\n      <th>1924</th>\n      <td>166406</td>\n      <td>2019-09-02 00:00:00+03:00</td>\n      <td>in</td>\n      <td>NaN</td>\n      <td>879898.0</td>\n      <td>False</td>\n      <td>1</td>\n      <td>2</td>\n      <td>9</td>\n    </tr>\n    <tr>\n      <th>6210</th>\n      <td>166541</td>\n      <td>2019-09-26 00:00:00+03:00</td>\n      <td>in</td>\n      <td>NaN</td>\n      <td>908960.0</td>\n      <td>False</td>\n      <td>1</td>\n      <td>393</td>\n      <td>423</td>\n    </tr>\n  </tbody>\n</table>\n</div>"
     },
     "execution_count": 10,
     "metadata": {},
     "output_type": "execute_result"
    }
   ],
   "source": [
    "## Investiguemos la columna internal\n",
    "# Veamos una muestra de los datos donde hay ausentes\n",
    "data[data['internal'].isna()].head()"
   ],
   "metadata": {
    "collapsed": false,
    "ExecuteTime": {
     "end_time": "2023-07-14T05:45:12.238650500Z",
     "start_time": "2023-07-14T05:45:12.097647400Z"
    }
   }
  },
  {
   "cell_type": "markdown",
   "source": [
    "Parece indicar que todas las llamadas internas vacías son llamadas entrantes, verifiquemos."
   ],
   "metadata": {
    "collapsed": false
   }
  },
  {
   "cell_type": "code",
   "execution_count": 11,
   "outputs": [
    {
     "data": {
      "text/plain": "in     115\nout      2\nName: direction, dtype: int64"
     },
     "execution_count": 11,
     "metadata": {},
     "output_type": "execute_result"
    }
   ],
   "source": [
    "# Vemos los valores en direction de las rows con valores ausentes en internal\n",
    "data[data['internal'].isna()]['direction'].value_counts()"
   ],
   "metadata": {
    "collapsed": false,
    "ExecuteTime": {
     "end_time": "2023-07-14T05:45:12.289644700Z",
     "start_time": "2023-07-14T05:45:12.131648700Z"
    }
   }
  },
  {
   "cell_type": "markdown",
   "source": [
    "Como podemos observar, tenemos 115 llamadas entrantes y 2 salientes; por lo que nuestra hipotesis del inicio no fue cierta. Tomando en cuenta que sin otra posible conexion con las demás columnas no seria posible recuperar los posibles datos faltantes y que los datos ausentes representan un 0.21% de nuestra total data, se toma la decisión de eliminar los datos ausentes de esta columna."
   ],
   "metadata": {
    "collapsed": false
   }
  },
  {
   "cell_type": "code",
   "execution_count": 12,
   "outputs": [
    {
     "data": {
      "text/plain": "user_id                 0.00000\ndate                    0.00000\ndirection               0.00000\ninternal                0.00000\noperator_id            15.08785\nis_missed_call          0.00000\ncalls_count             0.00000\ncall_duration           0.00000\ntotal_call_duration     0.00000\ndtype: float64"
     },
     "execution_count": 12,
     "metadata": {},
     "output_type": "execute_result"
    }
   ],
   "source": [
    "# Eliminamos los datos ausentes de la columna internal\n",
    "data = data[~data['internal'].isna()]\n",
    "# Vamos a checar el porcentaje de valores ausentes en general\n",
    "porcentaje_nulos = lambda x: x * 100 / data.user_id.size\n",
    "data.isna().sum().apply(porcentaje_nulos)"
   ],
   "metadata": {
    "collapsed": false,
    "ExecuteTime": {
     "end_time": "2023-07-14T05:45:12.384647Z",
     "start_time": "2023-07-14T05:45:12.146648700Z"
    }
   }
  },
  {
   "cell_type": "code",
   "execution_count": 13,
   "outputs": [
    {
     "data": {
      "text/plain": "    user_id                       date direction internal  operator_id  \\\n0    166377  2019-08-04 00:00:00+03:00        in    False          NaN   \n7    166377  2019-08-05 00:00:00+03:00        in    False          NaN   \n9    166377  2019-08-06 00:00:00+03:00        in    False          NaN   \n17   166377  2019-08-07 00:00:00+03:00        in    False          NaN   \n27   166377  2019-08-12 00:00:00+03:00        in    False          NaN   \n\n    is_missed_call  calls_count  call_duration  total_call_duration  \n0             True            2              0                    4  \n7             True            6              0                   35  \n9             True            4              0                   62  \n17            True            2              0                   24  \n27            True            2              0                   34  ",
      "text/html": "<div>\n<style scoped>\n    .dataframe tbody tr th:only-of-type {\n        vertical-align: middle;\n    }\n\n    .dataframe tbody tr th {\n        vertical-align: top;\n    }\n\n    .dataframe thead th {\n        text-align: right;\n    }\n</style>\n<table border=\"1\" class=\"dataframe\">\n  <thead>\n    <tr style=\"text-align: right;\">\n      <th></th>\n      <th>user_id</th>\n      <th>date</th>\n      <th>direction</th>\n      <th>internal</th>\n      <th>operator_id</th>\n      <th>is_missed_call</th>\n      <th>calls_count</th>\n      <th>call_duration</th>\n      <th>total_call_duration</th>\n    </tr>\n  </thead>\n  <tbody>\n    <tr>\n      <th>0</th>\n      <td>166377</td>\n      <td>2019-08-04 00:00:00+03:00</td>\n      <td>in</td>\n      <td>False</td>\n      <td>NaN</td>\n      <td>True</td>\n      <td>2</td>\n      <td>0</td>\n      <td>4</td>\n    </tr>\n    <tr>\n      <th>7</th>\n      <td>166377</td>\n      <td>2019-08-05 00:00:00+03:00</td>\n      <td>in</td>\n      <td>False</td>\n      <td>NaN</td>\n      <td>True</td>\n      <td>6</td>\n      <td>0</td>\n      <td>35</td>\n    </tr>\n    <tr>\n      <th>9</th>\n      <td>166377</td>\n      <td>2019-08-06 00:00:00+03:00</td>\n      <td>in</td>\n      <td>False</td>\n      <td>NaN</td>\n      <td>True</td>\n      <td>4</td>\n      <td>0</td>\n      <td>62</td>\n    </tr>\n    <tr>\n      <th>17</th>\n      <td>166377</td>\n      <td>2019-08-07 00:00:00+03:00</td>\n      <td>in</td>\n      <td>False</td>\n      <td>NaN</td>\n      <td>True</td>\n      <td>2</td>\n      <td>0</td>\n      <td>24</td>\n    </tr>\n    <tr>\n      <th>27</th>\n      <td>166377</td>\n      <td>2019-08-12 00:00:00+03:00</td>\n      <td>in</td>\n      <td>False</td>\n      <td>NaN</td>\n      <td>True</td>\n      <td>2</td>\n      <td>0</td>\n      <td>34</td>\n    </tr>\n  </tbody>\n</table>\n</div>"
     },
     "execution_count": 13,
     "metadata": {},
     "output_type": "execute_result"
    }
   ],
   "source": [
    "## Investiguemos la columna operator_id\n",
    "# Veamos una muestra de los datos donde hay ausentes\n",
    "data[data['operator_id'].isna()].head()"
   ],
   "metadata": {
    "collapsed": false,
    "ExecuteTime": {
     "end_time": "2023-07-14T05:45:12.385648500Z",
     "start_time": "2023-07-14T05:45:12.208650600Z"
    }
   }
  },
  {
   "cell_type": "code",
   "execution_count": 14,
   "outputs": [
    {
     "name": "stdout",
     "output_type": "stream",
     "text": [
      "Direction\n",
      "in     7917\n",
      "out     198\n",
      "Name: direction, dtype: int64\n",
      "\n",
      "Internal\n",
      "False    7760\n",
      "True      355\n",
      "Name: internal, dtype: int64\n",
      "\n",
      "Is_missed_call\n",
      "True     7993\n",
      "False     122\n",
      "Name: is_missed_call, dtype: int64\n",
      "\n",
      "user_id\n",
      "168252    145\n",
      "166405    120\n",
      "166582    118\n",
      "166782    117\n",
      "166658    111\n",
      "         ... \n",
      "168010      1\n",
      "167139      1\n",
      "166507      1\n",
      "166554      1\n",
      "168013      1\n",
      "Name: user_id, Length: 305, dtype: int64\n"
     ]
    }
   ],
   "source": [
    "# Veamos los valores unicos de las columnas direction, internal, is_missed_call y user_id\n",
    "print('Direction')\n",
    "print(data[data['operator_id'].isna()]['direction'].value_counts())\n",
    "print('\\nInternal')\n",
    "print(data[data['operator_id'].isna()]['internal'].value_counts())\n",
    "print('\\nIs_missed_call')\n",
    "print(data[data['operator_id'].isna()]['is_missed_call'].value_counts())\n",
    "print('\\nuser_id')\n",
    "print(data[data['operator_id'].isna()]['user_id'].value_counts())"
   ],
   "metadata": {
    "collapsed": false,
    "ExecuteTime": {
     "end_time": "2023-07-14T05:45:12.558647500Z",
     "start_time": "2023-07-14T05:45:12.240647800Z"
    }
   }
  },
  {
   "cell_type": "markdown",
   "source": [
    "Como podemos ver, las primeras 3 columnas tienen datos ausentes en las 2 opciones por lo que no podriamos generar una relación desde ellas para rellenar estos datos, sin embargo podemos ver que tenemos 305 clientes sin operador_id y si cada cliente tiene un unico operador, podemos generar una relación y recuperar los datos. Primero verifiquemos que cada cliente tiene un solo operador."
   ],
   "metadata": {
    "collapsed": false
   }
  },
  {
   "cell_type": "code",
   "execution_count": 15,
   "outputs": [
    {
     "data": {
      "text/plain": "user_id\n166377     5\n166391     2\n166392     3\n166399     1\n166405    10\n          ..\n168583     2\n168598     1\n168601     2\n168603     1\n168606     1\nName: operator_id, Length: 307, dtype: int64"
     },
     "execution_count": 15,
     "metadata": {},
     "output_type": "execute_result"
    }
   ],
   "source": [
    "# Verificamos si cada cliente tiene un solo operador\n",
    "data.groupby('user_id')['operator_id'].nunique()"
   ],
   "metadata": {
    "collapsed": false,
    "ExecuteTime": {
     "end_time": "2023-07-14T05:45:12.579646600Z",
     "start_time": "2023-07-14T05:45:12.270650100Z"
    }
   }
  },
  {
   "cell_type": "markdown",
   "source": [
    "Como podemos ver en la tabla, hay clientes que tiene hasta 10 operadores por lo que no es posible saber con seguridad que operador cubrio la llamada. Tomando en cuenta todo esto se decide por ultimo eliminarlos del dataset, la perdida seria del 15% de nuestra información, sin embargo, al no poder recuperar los datos del operador no podriamos realizar un análisis correctamente."
   ],
   "metadata": {
    "collapsed": false
   }
  },
  {
   "cell_type": "code",
   "execution_count": 16,
   "outputs": [
    {
     "data": {
      "text/plain": "user_id                0.0\ndate                   0.0\ndirection              0.0\ninternal               0.0\noperator_id            0.0\nis_missed_call         0.0\ncalls_count            0.0\ncall_duration          0.0\ntotal_call_duration    0.0\ndtype: float64"
     },
     "execution_count": 16,
     "metadata": {},
     "output_type": "execute_result"
    }
   ],
   "source": [
    "# Eliminamos los datos ausentes de la columna internal\n",
    "data = data[~data['operator_id'].isna()]\n",
    "# Vamos a checar el porcentaje de valores ausentes en general\n",
    "porcentaje_nulos = lambda x: x * 100 / data.user_id.size\n",
    "data.isna().sum().apply(porcentaje_nulos)"
   ],
   "metadata": {
    "collapsed": false,
    "ExecuteTime": {
     "end_time": "2023-07-14T05:45:12.617645500Z",
     "start_time": "2023-07-14T05:45:12.301648600Z"
    }
   }
  },
  {
   "cell_type": "code",
   "execution_count": 17,
   "outputs": [
    {
     "name": "stdout",
     "output_type": "stream",
     "text": [
      "<class 'pandas.core.frame.DataFrame'>\n",
      "Int64Index: 45670 entries, 1 to 53900\n",
      "Data columns (total 9 columns):\n",
      " #   Column               Non-Null Count  Dtype  \n",
      "---  ------               --------------  -----  \n",
      " 0   user_id              45670 non-null  int64  \n",
      " 1   date                 45670 non-null  object \n",
      " 2   direction            45670 non-null  object \n",
      " 3   internal             45670 non-null  object \n",
      " 4   operator_id          45670 non-null  float64\n",
      " 5   is_missed_call       45670 non-null  bool   \n",
      " 6   calls_count          45670 non-null  int64  \n",
      " 7   call_duration        45670 non-null  int64  \n",
      " 8   total_call_duration  45670 non-null  int64  \n",
      "dtypes: bool(1), float64(1), int64(4), object(3)\n",
      "memory usage: 3.2+ MB\n"
     ]
    }
   ],
   "source": [
    "data.info()"
   ],
   "metadata": {
    "collapsed": false,
    "ExecuteTime": {
     "end_time": "2023-07-14T05:45:12.618646500Z",
     "start_time": "2023-07-14T05:45:12.355648900Z"
    }
   }
  },
  {
   "cell_type": "markdown",
   "source": [
    "Al eliminar los datos ausentes, pasamos de 53,902 rows a 45,670 rows, un número todavia apto para realizar nuestro análisis."
   ],
   "metadata": {
    "collapsed": false
   }
  },
  {
   "cell_type": "markdown",
   "source": [
    "### Datos duplicados\n",
    "\n",
    "Se detectaron un total de 4,900 datos duplicados, los cuales deben estudiarse para ver la mejor opción para tratarlos"
   ],
   "metadata": {
    "collapsed": false
   }
  },
  {
   "cell_type": "code",
   "execution_count": 18,
   "outputs": [
    {
     "data": {
      "text/plain": "       user_id                       date direction internal  operator_id  \\\n8       166377  2019-08-05 00:00:00+03:00       out    False     880020.0   \n44      166377  2019-08-14 00:00:00+03:00       out    False     880026.0   \n51      166377  2019-08-15 00:00:00+03:00       out    False     880026.0   \n62      166377  2019-08-19 00:00:00+03:00       out    False     880026.0   \n78      166377  2019-08-22 00:00:00+03:00       out    False     880026.0   \n...        ...                        ...       ...      ...          ...   \n53861   168601  2019-11-20 00:00:00+03:00       out    False     952914.0   \n53869   168601  2019-11-25 00:00:00+03:00        in    False     952914.0   \n53874   168601  2019-11-26 00:00:00+03:00        in    False     952914.0   \n53885   168603  2019-11-20 00:00:00+03:00       out    False     959118.0   \n53900   168606  2019-11-15 00:00:00+03:00       out     True     957922.0   \n\n       is_missed_call  calls_count  call_duration  total_call_duration  \n8                True            8              0                   50  \n44              False           10           1567                 1654  \n51              False           11           1413                 1473  \n62              False           14           1519                 1598  \n78               True            6              0                   55  \n...               ...          ...            ...                  ...  \n53861            True            1              0                    2  \n53869           False            7           1229                 1282  \n53874           False            4            539                  562  \n53885            True            3              0                   89  \n53900           False            4           3130                 3190  \n\n[4179 rows x 9 columns]",
      "text/html": "<div>\n<style scoped>\n    .dataframe tbody tr th:only-of-type {\n        vertical-align: middle;\n    }\n\n    .dataframe tbody tr th {\n        vertical-align: top;\n    }\n\n    .dataframe thead th {\n        text-align: right;\n    }\n</style>\n<table border=\"1\" class=\"dataframe\">\n  <thead>\n    <tr style=\"text-align: right;\">\n      <th></th>\n      <th>user_id</th>\n      <th>date</th>\n      <th>direction</th>\n      <th>internal</th>\n      <th>operator_id</th>\n      <th>is_missed_call</th>\n      <th>calls_count</th>\n      <th>call_duration</th>\n      <th>total_call_duration</th>\n    </tr>\n  </thead>\n  <tbody>\n    <tr>\n      <th>8</th>\n      <td>166377</td>\n      <td>2019-08-05 00:00:00+03:00</td>\n      <td>out</td>\n      <td>False</td>\n      <td>880020.0</td>\n      <td>True</td>\n      <td>8</td>\n      <td>0</td>\n      <td>50</td>\n    </tr>\n    <tr>\n      <th>44</th>\n      <td>166377</td>\n      <td>2019-08-14 00:00:00+03:00</td>\n      <td>out</td>\n      <td>False</td>\n      <td>880026.0</td>\n      <td>False</td>\n      <td>10</td>\n      <td>1567</td>\n      <td>1654</td>\n    </tr>\n    <tr>\n      <th>51</th>\n      <td>166377</td>\n      <td>2019-08-15 00:00:00+03:00</td>\n      <td>out</td>\n      <td>False</td>\n      <td>880026.0</td>\n      <td>False</td>\n      <td>11</td>\n      <td>1413</td>\n      <td>1473</td>\n    </tr>\n    <tr>\n      <th>62</th>\n      <td>166377</td>\n      <td>2019-08-19 00:00:00+03:00</td>\n      <td>out</td>\n      <td>False</td>\n      <td>880026.0</td>\n      <td>False</td>\n      <td>14</td>\n      <td>1519</td>\n      <td>1598</td>\n    </tr>\n    <tr>\n      <th>78</th>\n      <td>166377</td>\n      <td>2019-08-22 00:00:00+03:00</td>\n      <td>out</td>\n      <td>False</td>\n      <td>880026.0</td>\n      <td>True</td>\n      <td>6</td>\n      <td>0</td>\n      <td>55</td>\n    </tr>\n    <tr>\n      <th>...</th>\n      <td>...</td>\n      <td>...</td>\n      <td>...</td>\n      <td>...</td>\n      <td>...</td>\n      <td>...</td>\n      <td>...</td>\n      <td>...</td>\n      <td>...</td>\n    </tr>\n    <tr>\n      <th>53861</th>\n      <td>168601</td>\n      <td>2019-11-20 00:00:00+03:00</td>\n      <td>out</td>\n      <td>False</td>\n      <td>952914.0</td>\n      <td>True</td>\n      <td>1</td>\n      <td>0</td>\n      <td>2</td>\n    </tr>\n    <tr>\n      <th>53869</th>\n      <td>168601</td>\n      <td>2019-11-25 00:00:00+03:00</td>\n      <td>in</td>\n      <td>False</td>\n      <td>952914.0</td>\n      <td>False</td>\n      <td>7</td>\n      <td>1229</td>\n      <td>1282</td>\n    </tr>\n    <tr>\n      <th>53874</th>\n      <td>168601</td>\n      <td>2019-11-26 00:00:00+03:00</td>\n      <td>in</td>\n      <td>False</td>\n      <td>952914.0</td>\n      <td>False</td>\n      <td>4</td>\n      <td>539</td>\n      <td>562</td>\n    </tr>\n    <tr>\n      <th>53885</th>\n      <td>168603</td>\n      <td>2019-11-20 00:00:00+03:00</td>\n      <td>out</td>\n      <td>False</td>\n      <td>959118.0</td>\n      <td>True</td>\n      <td>3</td>\n      <td>0</td>\n      <td>89</td>\n    </tr>\n    <tr>\n      <th>53900</th>\n      <td>168606</td>\n      <td>2019-11-15 00:00:00+03:00</td>\n      <td>out</td>\n      <td>True</td>\n      <td>957922.0</td>\n      <td>False</td>\n      <td>4</td>\n      <td>3130</td>\n      <td>3190</td>\n    </tr>\n  </tbody>\n</table>\n<p>4179 rows × 9 columns</p>\n</div>"
     },
     "execution_count": 18,
     "metadata": {},
     "output_type": "execute_result"
    }
   ],
   "source": [
    "# Veamos una muestra de los datos donde hay ausentes\n",
    "data[data.duplicated()]"
   ],
   "metadata": {
    "collapsed": false,
    "ExecuteTime": {
     "end_time": "2023-07-14T05:45:12.649646200Z",
     "start_time": "2023-07-14T05:45:12.415655600Z"
    }
   }
  },
  {
   "cell_type": "markdown",
   "source": [
    "Una vez viendo una muestra podemos ver que los datos que se encontraron duplicados fue en su mayoria porque compartian user_id, operator_id y otras columnas que tienden a repetirse debido a la naturaleza de como estan los datos, sin embargo las fechas difieren para cada columna."
   ],
   "metadata": {
    "collapsed": false
   }
  },
  {
   "cell_type": "markdown",
   "source": [
    "### Cambio de tipo de datos\n",
    "\n",
    "Como comentamos anteriormente, se identifico 3 columnas que hay que hacer un cambio en el tipo de datos que tienen. Estas son:\n",
    "\n",
    "- `date_start` a datetime\n",
    "- `date` a datetime\n",
    "- `internal` a bool\n",
    "- `operator_id` a int"
   ],
   "metadata": {
    "collapsed": false
   }
  },
  {
   "cell_type": "code",
   "execution_count": 19,
   "outputs": [
    {
     "name": "stdout",
     "output_type": "stream",
     "text": [
      "<class 'pandas.core.frame.DataFrame'>\n",
      "RangeIndex: 732 entries, 0 to 731\n",
      "Data columns (total 3 columns):\n",
      " #   Column       Non-Null Count  Dtype         \n",
      "---  ------       --------------  -----         \n",
      " 0   user_id      732 non-null    int64         \n",
      " 1   tariff_plan  732 non-null    object        \n",
      " 2   date_start   732 non-null    datetime64[ns]\n",
      "dtypes: datetime64[ns](1), int64(1), object(1)\n",
      "memory usage: 17.3+ KB\n",
      "None\n",
      "\n",
      "<class 'pandas.core.frame.DataFrame'>\n",
      "Int64Index: 45670 entries, 1 to 53900\n",
      "Data columns (total 9 columns):\n",
      " #   Column               Non-Null Count  Dtype         \n",
      "---  ------               --------------  -----         \n",
      " 0   user_id              45670 non-null  int64         \n",
      " 1   date                 45670 non-null  datetime64[ns]\n",
      " 2   direction            45670 non-null  object        \n",
      " 3   internal             45670 non-null  bool          \n",
      " 4   operator_id          45670 non-null  int64         \n",
      " 5   is_missed_call       45670 non-null  bool          \n",
      " 6   calls_count          45670 non-null  int64         \n",
      " 7   call_duration        45670 non-null  int64         \n",
      " 8   total_call_duration  45670 non-null  int64         \n",
      "dtypes: bool(2), datetime64[ns](1), int64(5), object(1)\n",
      "memory usage: 2.9+ MB\n",
      "None\n"
     ]
    }
   ],
   "source": [
    "## Ajustamos los datos de fechas\n",
    "data_clients['date_start'] = pd.to_datetime(data_clients.date_start)\n",
    "data['date'] = pd.to_datetime(pd.to_datetime(data.date).dt.date)\n",
    "\n",
    "# Ajustamos los demas datos\n",
    "data['internal'] = data['internal'].astype(bool)\n",
    "data['operator_id'] = data['operator_id'].apply(int)\n",
    "\n",
    "# Verificamos los cambios\n",
    "print(data_clients.info())\n",
    "print()\n",
    "print(data.info())"
   ],
   "metadata": {
    "collapsed": false,
    "ExecuteTime": {
     "end_time": "2023-07-14T05:45:12.832644200Z",
     "start_time": "2023-07-14T05:45:12.476648600Z"
    }
   }
  },
  {
   "cell_type": "markdown",
   "source": [
    "Con estos ajustes, nuestros datos estan listos para ser analizados."
   ],
   "metadata": {
    "collapsed": false
   }
  },
  {
   "cell_type": "markdown",
   "source": [
    "## Análisis Exploratorio de los datos (EDA)\n",
    "\n",
    "En esta fase se deben realizar los siguientes pasos:\n",
    "\n",
    "- Describe el comportamiento de los operadores. Identifica cuantos operadores están activos, su número de llamadas tanto salientes como entrantes, número total de llamadas y llamadas perdidas, calcula el tiempo de espera y tiempo de duración de llamadas promedio.\n",
    "- Describe el comportamiento de los clientes. Identifica que clientes ocupan más el servicio, su tarifa actual, que tanto tiempo llevan con el servicio."
   ],
   "metadata": {
    "collapsed": false
   }
  },
  {
   "cell_type": "code",
   "execution_count": 23,
   "outputs": [
    {
     "name": "stdout",
     "output_type": "stream",
     "text": [
      "Tenemos un total de 1092 operadores activos\n"
     ]
    }
   ],
   "source": [
    "# Número de operadores activos\n",
    "print('Tenemos un total de', data.operator_id.nunique(), 'operadores activos')"
   ],
   "metadata": {
    "collapsed": false,
    "ExecuteTime": {
     "end_time": "2023-07-14T05:48:36.047598600Z",
     "start_time": "2023-07-14T05:48:36.024571900Z"
    }
   }
  },
  {
   "cell_type": "code",
   "execution_count": 94,
   "outputs": [
    {
     "data": {
      "text/plain": "     operator_id  llamadas_totales  llamadas_perdidas  llamadas_entrantes  \\\n0         879896              1131                 50                  60   \n1         879898              7973                100                 117   \n2         880020                54                  7                   8   \n3         880022               219                 33                   8   \n4         880026              2439                 94                  25   \n..           ...               ...                ...                 ...   \n539       970244                 4                  1                   2   \n540       970252                 8                  1                   1   \n541       970254                12                  2                   3   \n542       972412                61                  2                   1   \n543       972460                70                  3                   2   \n\n     llamadas_salientes  \n0                  1071  \n1                  7856  \n2                    46  \n3                   211  \n4                  2414  \n..                  ...  \n539                   2  \n540                   7  \n541                   9  \n542                  60  \n543                  68  \n\n[544 rows x 5 columns]",
      "text/html": "<div>\n<style scoped>\n    .dataframe tbody tr th:only-of-type {\n        vertical-align: middle;\n    }\n\n    .dataframe tbody tr th {\n        vertical-align: top;\n    }\n\n    .dataframe thead th {\n        text-align: right;\n    }\n</style>\n<table border=\"1\" class=\"dataframe\">\n  <thead>\n    <tr style=\"text-align: right;\">\n      <th></th>\n      <th>operator_id</th>\n      <th>llamadas_totales</th>\n      <th>llamadas_perdidas</th>\n      <th>llamadas_entrantes</th>\n      <th>llamadas_salientes</th>\n    </tr>\n  </thead>\n  <tbody>\n    <tr>\n      <th>0</th>\n      <td>879896</td>\n      <td>1131</td>\n      <td>50</td>\n      <td>60</td>\n      <td>1071</td>\n    </tr>\n    <tr>\n      <th>1</th>\n      <td>879898</td>\n      <td>7973</td>\n      <td>100</td>\n      <td>117</td>\n      <td>7856</td>\n    </tr>\n    <tr>\n      <th>2</th>\n      <td>880020</td>\n      <td>54</td>\n      <td>7</td>\n      <td>8</td>\n      <td>46</td>\n    </tr>\n    <tr>\n      <th>3</th>\n      <td>880022</td>\n      <td>219</td>\n      <td>33</td>\n      <td>8</td>\n      <td>211</td>\n    </tr>\n    <tr>\n      <th>4</th>\n      <td>880026</td>\n      <td>2439</td>\n      <td>94</td>\n      <td>25</td>\n      <td>2414</td>\n    </tr>\n    <tr>\n      <th>...</th>\n      <td>...</td>\n      <td>...</td>\n      <td>...</td>\n      <td>...</td>\n      <td>...</td>\n    </tr>\n    <tr>\n      <th>539</th>\n      <td>970244</td>\n      <td>4</td>\n      <td>1</td>\n      <td>2</td>\n      <td>2</td>\n    </tr>\n    <tr>\n      <th>540</th>\n      <td>970252</td>\n      <td>8</td>\n      <td>1</td>\n      <td>1</td>\n      <td>7</td>\n    </tr>\n    <tr>\n      <th>541</th>\n      <td>970254</td>\n      <td>12</td>\n      <td>2</td>\n      <td>3</td>\n      <td>9</td>\n    </tr>\n    <tr>\n      <th>542</th>\n      <td>972412</td>\n      <td>61</td>\n      <td>2</td>\n      <td>1</td>\n      <td>60</td>\n    </tr>\n    <tr>\n      <th>543</th>\n      <td>972460</td>\n      <td>70</td>\n      <td>3</td>\n      <td>2</td>\n      <td>68</td>\n    </tr>\n  </tbody>\n</table>\n<p>544 rows × 5 columns</p>\n</div>"
     },
     "execution_count": 94,
     "metadata": {},
     "output_type": "execute_result"
    }
   ],
   "source": [
    "# Tabla con los datos para cada operador como su número de llamadas (salientes, entrantes, perdidas y totales)\n",
    "operator_data = data.groupby('operator_id').agg({'calls_count': 'sum', 'is_missed_call': 'sum'}).reset_index()\n",
    "\n",
    "# Tabla de llamadas entrantes y salientes\n",
    "operator_direction = data.groupby(['operator_id', 'direction'])['calls_count'].sum().reset_index()\n",
    "\n",
    "# Juntamos ambas tablas para crear una tabla unificada\n",
    "operator_data = operator_data.merge(operator_direction.query('direction == \"in\"')[['operator_id','calls_count']], on='operator_id')\n",
    "operator_data = operator_data.merge(operator_direction.query('direction == \"out\"')[['operator_id','calls_count']], on='operator_id')\n",
    "operator_data.rename(columns={\"calls_count_x\": \"llamadas_totales\", \"is_missed_call\": \"llamadas_perdidas\", \"calls_count_y\": \"llamadas_entrantes\", \"calls_count\": \"llamadas_salientes\"}, inplace=True)\n",
    "operator_data"
   ],
   "metadata": {
    "collapsed": false,
    "ExecuteTime": {
     "end_time": "2023-07-14T06:49:50.195143600Z",
     "start_time": "2023-07-14T06:49:50.144109600Z"
    }
   }
  },
  {
   "cell_type": "code",
   "execution_count": 95,
   "outputs": [
    {
     "data": {
      "text/plain": "     operator_id  llamadas_totales  llamadas_perdidas  llamadas_entrantes  \\\n17        885876             66049                135                1152   \n18        885890             66016                110                1363   \n293       925922             22210                 33                 456   \n1         879898              7973                100                 117   \n61        893804              6570                130                2632   \n..           ...               ...                ...                 ...   \n456       946072                 2                  1                   1   \n538       970240                 2                  1                   1   \n235       918988                 2                  1                   1   \n494       954318                 2                  1                   1   \n119       902238                 2                  1                   1   \n\n     llamadas_salientes  call_duration    call_wait  total_call_duration  \n17                64897   14620.545455  4816.241379         19436.786834  \n18                64653   13238.747292  5727.133574         18965.880866  \n293               21754   11759.924051  5907.443038         17667.367089  \n1                  7856    1115.504000   451.860000          1567.364000  \n61                 3938     944.867692   269.089231          1213.956923  \n..                  ...            ...          ...                  ...  \n456                   1      87.500000     3.500000            91.000000  \n538                   1      10.000000    26.500000            36.500000  \n235                   1       8.000000     6.500000            14.500000  \n494                   1       6.000000     5.000000            11.000000  \n119                   1      10.500000     6.500000            17.000000  \n\n[544 rows x 8 columns]",
      "text/html": "<div>\n<style scoped>\n    .dataframe tbody tr th:only-of-type {\n        vertical-align: middle;\n    }\n\n    .dataframe tbody tr th {\n        vertical-align: top;\n    }\n\n    .dataframe thead th {\n        text-align: right;\n    }\n</style>\n<table border=\"1\" class=\"dataframe\">\n  <thead>\n    <tr style=\"text-align: right;\">\n      <th></th>\n      <th>operator_id</th>\n      <th>llamadas_totales</th>\n      <th>llamadas_perdidas</th>\n      <th>llamadas_entrantes</th>\n      <th>llamadas_salientes</th>\n      <th>call_duration</th>\n      <th>call_wait</th>\n      <th>total_call_duration</th>\n    </tr>\n  </thead>\n  <tbody>\n    <tr>\n      <th>17</th>\n      <td>885876</td>\n      <td>66049</td>\n      <td>135</td>\n      <td>1152</td>\n      <td>64897</td>\n      <td>14620.545455</td>\n      <td>4816.241379</td>\n      <td>19436.786834</td>\n    </tr>\n    <tr>\n      <th>18</th>\n      <td>885890</td>\n      <td>66016</td>\n      <td>110</td>\n      <td>1363</td>\n      <td>64653</td>\n      <td>13238.747292</td>\n      <td>5727.133574</td>\n      <td>18965.880866</td>\n    </tr>\n    <tr>\n      <th>293</th>\n      <td>925922</td>\n      <td>22210</td>\n      <td>33</td>\n      <td>456</td>\n      <td>21754</td>\n      <td>11759.924051</td>\n      <td>5907.443038</td>\n      <td>17667.367089</td>\n    </tr>\n    <tr>\n      <th>1</th>\n      <td>879898</td>\n      <td>7973</td>\n      <td>100</td>\n      <td>117</td>\n      <td>7856</td>\n      <td>1115.504000</td>\n      <td>451.860000</td>\n      <td>1567.364000</td>\n    </tr>\n    <tr>\n      <th>61</th>\n      <td>893804</td>\n      <td>6570</td>\n      <td>130</td>\n      <td>2632</td>\n      <td>3938</td>\n      <td>944.867692</td>\n      <td>269.089231</td>\n      <td>1213.956923</td>\n    </tr>\n    <tr>\n      <th>...</th>\n      <td>...</td>\n      <td>...</td>\n      <td>...</td>\n      <td>...</td>\n      <td>...</td>\n      <td>...</td>\n      <td>...</td>\n      <td>...</td>\n    </tr>\n    <tr>\n      <th>456</th>\n      <td>946072</td>\n      <td>2</td>\n      <td>1</td>\n      <td>1</td>\n      <td>1</td>\n      <td>87.500000</td>\n      <td>3.500000</td>\n      <td>91.000000</td>\n    </tr>\n    <tr>\n      <th>538</th>\n      <td>970240</td>\n      <td>2</td>\n      <td>1</td>\n      <td>1</td>\n      <td>1</td>\n      <td>10.000000</td>\n      <td>26.500000</td>\n      <td>36.500000</td>\n    </tr>\n    <tr>\n      <th>235</th>\n      <td>918988</td>\n      <td>2</td>\n      <td>1</td>\n      <td>1</td>\n      <td>1</td>\n      <td>8.000000</td>\n      <td>6.500000</td>\n      <td>14.500000</td>\n    </tr>\n    <tr>\n      <th>494</th>\n      <td>954318</td>\n      <td>2</td>\n      <td>1</td>\n      <td>1</td>\n      <td>1</td>\n      <td>6.000000</td>\n      <td>5.000000</td>\n      <td>11.000000</td>\n    </tr>\n    <tr>\n      <th>119</th>\n      <td>902238</td>\n      <td>2</td>\n      <td>1</td>\n      <td>1</td>\n      <td>1</td>\n      <td>10.500000</td>\n      <td>6.500000</td>\n      <td>17.000000</td>\n    </tr>\n  </tbody>\n</table>\n<p>544 rows × 8 columns</p>\n</div>"
     },
     "execution_count": 95,
     "metadata": {},
     "output_type": "execute_result"
    }
   ],
   "source": [
    "# Agregamos al dataset original el tiempo de espera\n",
    "data['call_wait'] = data.total_call_duration - data.call_duration\n",
    "\n",
    "# Tabla de duracion de llamadas y tiempo de espera promedio\n",
    "operator_time_data = data.groupby('operator_id').agg({'call_duration': 'mean', 'call_wait': 'mean', 'total_call_duration': 'mean'}).reset_index()\n",
    "\n",
    "# Unimos nuestras 2 tablas para hacer una tabla unificada\n",
    "operator_data = operator_data.merge(operator_time_data, on='operator_id').sort_values(by='llamadas_totales', ascending=False)\n",
    "operator_data"
   ],
   "metadata": {
    "collapsed": false,
    "ExecuteTime": {
     "end_time": "2023-07-14T06:49:51.976614500Z",
     "start_time": "2023-07-14T06:49:51.934617400Z"
    }
   }
  },
  {
   "cell_type": "code",
   "execution_count": 62,
   "outputs": [
    {
     "name": "stdout",
     "output_type": "stream",
     "text": [
      "Tenemos un total de 732 clientes activos\n"
     ]
    }
   ],
   "source": [
    "# Numero de clientes con el servicio\n",
    "print('Tenemos un total de', data_clients.user_id.nunique(), 'clientes activos')"
   ],
   "metadata": {
    "collapsed": false,
    "ExecuteTime": {
     "end_time": "2023-07-14T06:29:30.072383600Z",
     "start_time": "2023-07-14T06:29:30.049384400Z"
    }
   }
  },
  {
   "cell_type": "code",
   "execution_count": 73,
   "outputs": [
    {
     "data": {
      "text/plain": "  tariff_plan  user_id\n0           A       76\n1           B      261\n2           C      395",
      "text/html": "<div>\n<style scoped>\n    .dataframe tbody tr th:only-of-type {\n        vertical-align: middle;\n    }\n\n    .dataframe tbody tr th {\n        vertical-align: top;\n    }\n\n    .dataframe thead th {\n        text-align: right;\n    }\n</style>\n<table border=\"1\" class=\"dataframe\">\n  <thead>\n    <tr style=\"text-align: right;\">\n      <th></th>\n      <th>tariff_plan</th>\n      <th>user_id</th>\n    </tr>\n  </thead>\n  <tbody>\n    <tr>\n      <th>0</th>\n      <td>A</td>\n      <td>76</td>\n    </tr>\n    <tr>\n      <th>1</th>\n      <td>B</td>\n      <td>261</td>\n    </tr>\n    <tr>\n      <th>2</th>\n      <td>C</td>\n      <td>395</td>\n    </tr>\n  </tbody>\n</table>\n</div>"
     },
     "execution_count": 73,
     "metadata": {},
     "output_type": "execute_result"
    }
   ],
   "source": [
    "# Numero de clientes con los diferentes planes\n",
    "data_clients.groupby('tariff_plan')['user_id'].nunique().reset_index()"
   ],
   "metadata": {
    "collapsed": false,
    "ExecuteTime": {
     "end_time": "2023-07-14T06:35:28.301526100Z",
     "start_time": "2023-07-14T06:35:28.277639100Z"
    }
   }
  },
  {
   "cell_type": "code",
   "execution_count": 86,
   "outputs": [
    {
     "data": {
      "text/plain": "     user_id  llamadas_totales_cliente fecha_final tariff_plan fecha_inicio  \\\n0     166582                    154272  2019-11-28           A   2019-08-09   \n1     167626                     77247  2019-10-20           A   2019-09-24   \n2     168361                     71405  2019-11-28           A   2019-10-23   \n3     167827                     42048  2019-11-28           C   2019-10-02   \n4     168062                     26744  2019-11-28           A   2019-10-11   \n..       ...                       ...         ...         ...          ...   \n285   167364                         1  2019-11-14           C   2019-09-13   \n286   166481                         1  2019-08-09           A   2019-08-05   \n287   167139                         1  2019-11-08           C   2019-09-03   \n288   166548                         1  2019-11-09           B   2019-08-08   \n289   168366                         1  2019-11-05           C   2019-10-23   \n\n    dias_antiguedad  \n0          111 days  \n1           26 days  \n2           36 days  \n3           57 days  \n4           48 days  \n..              ...  \n285         62 days  \n286          4 days  \n287         66 days  \n288         93 days  \n289         13 days  \n\n[290 rows x 6 columns]",
      "text/html": "<div>\n<style scoped>\n    .dataframe tbody tr th:only-of-type {\n        vertical-align: middle;\n    }\n\n    .dataframe tbody tr th {\n        vertical-align: top;\n    }\n\n    .dataframe thead th {\n        text-align: right;\n    }\n</style>\n<table border=\"1\" class=\"dataframe\">\n  <thead>\n    <tr style=\"text-align: right;\">\n      <th></th>\n      <th>user_id</th>\n      <th>llamadas_totales_cliente</th>\n      <th>fecha_final</th>\n      <th>tariff_plan</th>\n      <th>fecha_inicio</th>\n      <th>dias_antiguedad</th>\n    </tr>\n  </thead>\n  <tbody>\n    <tr>\n      <th>0</th>\n      <td>166582</td>\n      <td>154272</td>\n      <td>2019-11-28</td>\n      <td>A</td>\n      <td>2019-08-09</td>\n      <td>111 days</td>\n    </tr>\n    <tr>\n      <th>1</th>\n      <td>167626</td>\n      <td>77247</td>\n      <td>2019-10-20</td>\n      <td>A</td>\n      <td>2019-09-24</td>\n      <td>26 days</td>\n    </tr>\n    <tr>\n      <th>2</th>\n      <td>168361</td>\n      <td>71405</td>\n      <td>2019-11-28</td>\n      <td>A</td>\n      <td>2019-10-23</td>\n      <td>36 days</td>\n    </tr>\n    <tr>\n      <th>3</th>\n      <td>167827</td>\n      <td>42048</td>\n      <td>2019-11-28</td>\n      <td>C</td>\n      <td>2019-10-02</td>\n      <td>57 days</td>\n    </tr>\n    <tr>\n      <th>4</th>\n      <td>168062</td>\n      <td>26744</td>\n      <td>2019-11-28</td>\n      <td>A</td>\n      <td>2019-10-11</td>\n      <td>48 days</td>\n    </tr>\n    <tr>\n      <th>...</th>\n      <td>...</td>\n      <td>...</td>\n      <td>...</td>\n      <td>...</td>\n      <td>...</td>\n      <td>...</td>\n    </tr>\n    <tr>\n      <th>285</th>\n      <td>167364</td>\n      <td>1</td>\n      <td>2019-11-14</td>\n      <td>C</td>\n      <td>2019-09-13</td>\n      <td>62 days</td>\n    </tr>\n    <tr>\n      <th>286</th>\n      <td>166481</td>\n      <td>1</td>\n      <td>2019-08-09</td>\n      <td>A</td>\n      <td>2019-08-05</td>\n      <td>4 days</td>\n    </tr>\n    <tr>\n      <th>287</th>\n      <td>167139</td>\n      <td>1</td>\n      <td>2019-11-08</td>\n      <td>C</td>\n      <td>2019-09-03</td>\n      <td>66 days</td>\n    </tr>\n    <tr>\n      <th>288</th>\n      <td>166548</td>\n      <td>1</td>\n      <td>2019-11-09</td>\n      <td>B</td>\n      <td>2019-08-08</td>\n      <td>93 days</td>\n    </tr>\n    <tr>\n      <th>289</th>\n      <td>168366</td>\n      <td>1</td>\n      <td>2019-11-05</td>\n      <td>C</td>\n      <td>2019-10-23</td>\n      <td>13 days</td>\n    </tr>\n  </tbody>\n</table>\n<p>290 rows × 6 columns</p>\n</div>"
     },
     "execution_count": 86,
     "metadata": {},
     "output_type": "execute_result"
    }
   ],
   "source": [
    "# Creamos la tabla con las llamadas realizadas por el usuario o hacia el usuario y su fecha ultima de llamada\n",
    "clients_data_calls = data.query('internal == False').groupby('user_id').agg({'calls_count': 'sum', 'date': 'max'}).sort_values(by='calls_count', ascending=False).reset_index()\n",
    "\n",
    "# Creamos una tabla unica con el plan tarifario y la fecha de inicio\n",
    "clients_data_calls = clients_data_calls.merge(data_clients, on='user_id')\n",
    "# Renombramos columnas\n",
    "clients_data_calls.rename(columns={'calls_count': 'llamadas_totales_cliente', 'date': 'fecha_final', 'date_start' : 'fecha_inicio'}, inplace=True)\n",
    "\n",
    "# Creamos la columna de dia de antiguedad\n",
    "clients_data_calls['dias_antiguedad'] = clients_data_calls.fecha_final - clients_data_calls.fecha_inicio\n",
    "clients_data_calls"
   ],
   "metadata": {
    "collapsed": false,
    "ExecuteTime": {
     "end_time": "2023-07-14T06:45:38.569845800Z",
     "start_time": "2023-07-14T06:45:38.500796Z"
    }
   }
  },
  {
   "cell_type": "markdown",
   "source": [
    "### Conclusiones intermedias\n",
    "\n",
    "- Tenemos un total de 1,092 operadores para un total de 732 clientes\n",
    "- De estos 732 clientes, 395 están con el plan C, 261 con el plan B y solo 76 con el plan A\n",
    "- El cliente que mayor número de llamadas tiene tiene 111 dias de antiguiedad, es del plan A y ha realizado 154,272 llamadas\n",
    "- El operador que mayor número de llamadas tiene es el 885876 y tiene un total de 66,049 llamadas de las cuales solo ha perdido 135"
   ],
   "metadata": {
    "collapsed": false
   }
  },
  {
   "cell_type": "markdown",
   "source": [
    "## Análisis\n",
    "\n",
    "Para esta fase, se deben realizar los siguientes pasos:\n",
    "\n",
    "- Analiza e identifica a los 5 operadores que menos eficacia tienen respecto al resto.\n",
    "- Analiza e identifica a los 5 operadores que más eficacia tienen respecto al resto"
   ],
   "metadata": {
    "collapsed": false
   }
  },
  {
   "cell_type": "markdown",
   "source": [
    "### Top 5 operadores con mayor eficacia\n",
    "\n",
    "Son los operadores con menor cantidad de llamadas perdidas y un tiempo pequeño de tiempo de espera para las llamadas entrantes. Aunado a esto, son los que mayor número de llamadas salientes tengan"
   ],
   "metadata": {
    "collapsed": false
   }
  },
  {
   "cell_type": "code",
   "execution_count": 156,
   "outputs": [
    {
     "data": {
      "text/plain": "     operator_id  llamadas_totales  llamadas_perdidas  llamadas_entrantes  \\\n17        885876             66049                135                1152   \n18        885890             66016                110                1363   \n293       925922             22210                 33                 456   \n1         879898              7973                100                 117   \n61        893804              6570                130                2632   \n..           ...               ...                ...                 ...   \n456       946072                 2                  1                   1   \n538       970240                 2                  1                   1   \n235       918988                 2                  1                   1   \n494       954318                 2                  1                   1   \n119       902238                 2                  1                   1   \n\n     llamadas_salientes  call_duration    call_wait  total_call_duration  \\\n17                64897   14620.545455  4816.241379         19436.786834   \n18                64653   13238.747292  5727.133574         18965.880866   \n293               21754   11759.924051  5907.443038         17667.367089   \n1                  7856    1115.504000   451.860000          1567.364000   \n61                 3938     944.867692   269.089231          1213.956923   \n..                  ...            ...          ...                  ...   \n456                   1      87.500000     3.500000            91.000000   \n538                   1      10.000000    26.500000            36.500000   \n235                   1       8.000000     6.500000            14.500000   \n494                   1       6.000000     5.000000            11.000000   \n119                   1      10.500000     6.500000            17.000000   \n\n     % llamadas perdidas  % llamadas salientes  % tiempo de espera  \n17              0.204394             98.255840           24.779000  \n18              0.166626             97.935349           30.197034  \n293             0.148582             97.946871           33.437031  \n1               1.254233             98.532547           28.829296  \n61              1.978691             59.939117           22.166292  \n..                   ...                   ...                 ...  \n456            50.000000             50.000000            3.846154  \n538            50.000000             50.000000           72.602740  \n235            50.000000             50.000000           44.827586  \n494            50.000000             50.000000           45.454545  \n119            50.000000             50.000000           38.235294  \n\n[544 rows x 11 columns]",
      "text/html": "<div>\n<style scoped>\n    .dataframe tbody tr th:only-of-type {\n        vertical-align: middle;\n    }\n\n    .dataframe tbody tr th {\n        vertical-align: top;\n    }\n\n    .dataframe thead th {\n        text-align: right;\n    }\n</style>\n<table border=\"1\" class=\"dataframe\">\n  <thead>\n    <tr style=\"text-align: right;\">\n      <th></th>\n      <th>operator_id</th>\n      <th>llamadas_totales</th>\n      <th>llamadas_perdidas</th>\n      <th>llamadas_entrantes</th>\n      <th>llamadas_salientes</th>\n      <th>call_duration</th>\n      <th>call_wait</th>\n      <th>total_call_duration</th>\n      <th>% llamadas perdidas</th>\n      <th>% llamadas salientes</th>\n      <th>% tiempo de espera</th>\n    </tr>\n  </thead>\n  <tbody>\n    <tr>\n      <th>17</th>\n      <td>885876</td>\n      <td>66049</td>\n      <td>135</td>\n      <td>1152</td>\n      <td>64897</td>\n      <td>14620.545455</td>\n      <td>4816.241379</td>\n      <td>19436.786834</td>\n      <td>0.204394</td>\n      <td>98.255840</td>\n      <td>24.779000</td>\n    </tr>\n    <tr>\n      <th>18</th>\n      <td>885890</td>\n      <td>66016</td>\n      <td>110</td>\n      <td>1363</td>\n      <td>64653</td>\n      <td>13238.747292</td>\n      <td>5727.133574</td>\n      <td>18965.880866</td>\n      <td>0.166626</td>\n      <td>97.935349</td>\n      <td>30.197034</td>\n    </tr>\n    <tr>\n      <th>293</th>\n      <td>925922</td>\n      <td>22210</td>\n      <td>33</td>\n      <td>456</td>\n      <td>21754</td>\n      <td>11759.924051</td>\n      <td>5907.443038</td>\n      <td>17667.367089</td>\n      <td>0.148582</td>\n      <td>97.946871</td>\n      <td>33.437031</td>\n    </tr>\n    <tr>\n      <th>1</th>\n      <td>879898</td>\n      <td>7973</td>\n      <td>100</td>\n      <td>117</td>\n      <td>7856</td>\n      <td>1115.504000</td>\n      <td>451.860000</td>\n      <td>1567.364000</td>\n      <td>1.254233</td>\n      <td>98.532547</td>\n      <td>28.829296</td>\n    </tr>\n    <tr>\n      <th>61</th>\n      <td>893804</td>\n      <td>6570</td>\n      <td>130</td>\n      <td>2632</td>\n      <td>3938</td>\n      <td>944.867692</td>\n      <td>269.089231</td>\n      <td>1213.956923</td>\n      <td>1.978691</td>\n      <td>59.939117</td>\n      <td>22.166292</td>\n    </tr>\n    <tr>\n      <th>...</th>\n      <td>...</td>\n      <td>...</td>\n      <td>...</td>\n      <td>...</td>\n      <td>...</td>\n      <td>...</td>\n      <td>...</td>\n      <td>...</td>\n      <td>...</td>\n      <td>...</td>\n      <td>...</td>\n    </tr>\n    <tr>\n      <th>456</th>\n      <td>946072</td>\n      <td>2</td>\n      <td>1</td>\n      <td>1</td>\n      <td>1</td>\n      <td>87.500000</td>\n      <td>3.500000</td>\n      <td>91.000000</td>\n      <td>50.000000</td>\n      <td>50.000000</td>\n      <td>3.846154</td>\n    </tr>\n    <tr>\n      <th>538</th>\n      <td>970240</td>\n      <td>2</td>\n      <td>1</td>\n      <td>1</td>\n      <td>1</td>\n      <td>10.000000</td>\n      <td>26.500000</td>\n      <td>36.500000</td>\n      <td>50.000000</td>\n      <td>50.000000</td>\n      <td>72.602740</td>\n    </tr>\n    <tr>\n      <th>235</th>\n      <td>918988</td>\n      <td>2</td>\n      <td>1</td>\n      <td>1</td>\n      <td>1</td>\n      <td>8.000000</td>\n      <td>6.500000</td>\n      <td>14.500000</td>\n      <td>50.000000</td>\n      <td>50.000000</td>\n      <td>44.827586</td>\n    </tr>\n    <tr>\n      <th>494</th>\n      <td>954318</td>\n      <td>2</td>\n      <td>1</td>\n      <td>1</td>\n      <td>1</td>\n      <td>6.000000</td>\n      <td>5.000000</td>\n      <td>11.000000</td>\n      <td>50.000000</td>\n      <td>50.000000</td>\n      <td>45.454545</td>\n    </tr>\n    <tr>\n      <th>119</th>\n      <td>902238</td>\n      <td>2</td>\n      <td>1</td>\n      <td>1</td>\n      <td>1</td>\n      <td>10.500000</td>\n      <td>6.500000</td>\n      <td>17.000000</td>\n      <td>50.000000</td>\n      <td>50.000000</td>\n      <td>38.235294</td>\n    </tr>\n  </tbody>\n</table>\n<p>544 rows × 11 columns</p>\n</div>"
     },
     "execution_count": 156,
     "metadata": {},
     "output_type": "execute_result"
    }
   ],
   "source": [
    "operator_data['% llamadas perdidas'] = (operator_data['llamadas_perdidas'] / operator_data['llamadas_totales']) * 100\n",
    "operator_data['% llamadas salientes'] = (operator_data['llamadas_salientes'] / operator_data['llamadas_totales']) * 100\n",
    "operator_data['% tiempo de espera'] = (operator_data['call_wait'] / operator_data['total_call_duration']) * 100\n",
    "operator_data"
   ],
   "metadata": {
    "collapsed": false,
    "ExecuteTime": {
     "end_time": "2023-07-14T07:31:07.300834400Z",
     "start_time": "2023-07-14T07:31:07.253960700Z"
    }
   }
  },
  {
   "cell_type": "code",
   "execution_count": 157,
   "outputs": [],
   "source": [
    "# Operadores con menor cantidad de llamadas perdidas\n",
    "top_menos_perdidas = operator_data.query('llamadas_totales > 1000').sort_values(by='% llamadas perdidas').head(50)\n",
    "\n",
    "# Operadores con menor cantidad de llamadas perdidas\n",
    "top_menos_espera = operator_data.query('llamadas_totales > 1000').sort_values(by='% tiempo de espera').head(50)\n",
    "\n",
    "# Operadores con mayor cantidad de llamadas salientes\n",
    "top_mas_salientes = operator_data.query('llamadas_totales > 1000').sort_values(by='% llamadas salientes', ascending=False).head(50)"
   ],
   "metadata": {
    "collapsed": false,
    "ExecuteTime": {
     "end_time": "2023-07-14T07:31:08.914219700Z",
     "start_time": "2023-07-14T07:31:08.886175300Z"
    }
   }
  },
  {
   "cell_type": "code",
   "execution_count": 158,
   "outputs": [
    {
     "data": {
      "text/plain": "   operator_id  llamadas_totales  llamadas_perdidas  llamadas_entrantes  \\\n0       894656              3416                 72                  20   \n1       926486              2626                 50                  16   \n2       887282              2452                 51                  29   \n3       882686              3931                 88                 837   \n4       937752              2253                 32                 493   \n\n   llamadas_salientes  call_duration   call_wait  total_call_duration  \\\n0                3396     844.117284  204.746914          1048.864198   \n1                2610    1941.640351  517.631579          2459.271930   \n2                2423    1456.720339  299.889831          1756.610169   \n3                3094    1689.527426  291.890295          1981.417722   \n4                1760    1310.899083  353.990826          1664.889908   \n\n   % llamadas perdidas  % llamadas salientes  % tiempo de espera  \n0             2.107728             99.414520           19.520822  \n1             1.904037             99.390708           21.048164  \n2             2.079935             98.817292           17.072076  \n3             2.238616             78.707708           14.731386  \n4             1.420328             78.118065           21.262116  ",
      "text/html": "<div>\n<style scoped>\n    .dataframe tbody tr th:only-of-type {\n        vertical-align: middle;\n    }\n\n    .dataframe tbody tr th {\n        vertical-align: top;\n    }\n\n    .dataframe thead th {\n        text-align: right;\n    }\n</style>\n<table border=\"1\" class=\"dataframe\">\n  <thead>\n    <tr style=\"text-align: right;\">\n      <th></th>\n      <th>operator_id</th>\n      <th>llamadas_totales</th>\n      <th>llamadas_perdidas</th>\n      <th>llamadas_entrantes</th>\n      <th>llamadas_salientes</th>\n      <th>call_duration</th>\n      <th>call_wait</th>\n      <th>total_call_duration</th>\n      <th>% llamadas perdidas</th>\n      <th>% llamadas salientes</th>\n      <th>% tiempo de espera</th>\n    </tr>\n  </thead>\n  <tbody>\n    <tr>\n      <th>0</th>\n      <td>894656</td>\n      <td>3416</td>\n      <td>72</td>\n      <td>20</td>\n      <td>3396</td>\n      <td>844.117284</td>\n      <td>204.746914</td>\n      <td>1048.864198</td>\n      <td>2.107728</td>\n      <td>99.414520</td>\n      <td>19.520822</td>\n    </tr>\n    <tr>\n      <th>1</th>\n      <td>926486</td>\n      <td>2626</td>\n      <td>50</td>\n      <td>16</td>\n      <td>2610</td>\n      <td>1941.640351</td>\n      <td>517.631579</td>\n      <td>2459.271930</td>\n      <td>1.904037</td>\n      <td>99.390708</td>\n      <td>21.048164</td>\n    </tr>\n    <tr>\n      <th>2</th>\n      <td>887282</td>\n      <td>2452</td>\n      <td>51</td>\n      <td>29</td>\n      <td>2423</td>\n      <td>1456.720339</td>\n      <td>299.889831</td>\n      <td>1756.610169</td>\n      <td>2.079935</td>\n      <td>98.817292</td>\n      <td>17.072076</td>\n    </tr>\n    <tr>\n      <th>3</th>\n      <td>882686</td>\n      <td>3931</td>\n      <td>88</td>\n      <td>837</td>\n      <td>3094</td>\n      <td>1689.527426</td>\n      <td>291.890295</td>\n      <td>1981.417722</td>\n      <td>2.238616</td>\n      <td>78.707708</td>\n      <td>14.731386</td>\n    </tr>\n    <tr>\n      <th>4</th>\n      <td>937752</td>\n      <td>2253</td>\n      <td>32</td>\n      <td>493</td>\n      <td>1760</td>\n      <td>1310.899083</td>\n      <td>353.990826</td>\n      <td>1664.889908</td>\n      <td>1.420328</td>\n      <td>78.118065</td>\n      <td>21.262116</td>\n    </tr>\n  </tbody>\n</table>\n</div>"
     },
     "execution_count": 158,
     "metadata": {},
     "output_type": "execute_result"
    }
   ],
   "source": [
    "# Unimos los top 50 de cada tabla para ver coincidencias\n",
    "top_menos_perdidas_mas_salientes = pd.merge(top_mas_salientes, top_menos_perdidas, on='operator_id')['operator_id']\n",
    "top_unificado = pd.merge(top_menos_perdidas_mas_salientes, top_menos_espera, on='operator_id')\n",
    "top_unificado"
   ],
   "metadata": {
    "collapsed": false,
    "ExecuteTime": {
     "end_time": "2023-07-14T07:31:10.430958Z",
     "start_time": "2023-07-14T07:31:10.384935200Z"
    }
   }
  },
  {
   "cell_type": "markdown",
   "source": [
    "### Top 5 operadores con menor eficacia\n",
    "\n",
    "Son los operadores con mayor cantidad de llamadas perdidas y un tiempo prolongado de tiempo de espera para las llamadas entrantes. Aunado a esto, son los que menor número de llamadas salientes tengan"
   ],
   "metadata": {
    "collapsed": false
   }
  },
  {
   "cell_type": "code",
   "execution_count": 159,
   "outputs": [],
   "source": [
    "# Operadores con mayor cantidad de llamadas perdidas\n",
    "top_mayor_perdidas = operator_data.query('llamadas_totales > 1000').sort_values(by='% llamadas perdidas', ascending=False).head(50)\n",
    "\n",
    "# Operadores con mayor cantidad de llamadas perdidas\n",
    "top_mayor_espera = operator_data.query('llamadas_totales > 1000').sort_values(by='% tiempo de espera', ascending=False).head(50)\n",
    "\n",
    "# Operadores con menor cantidad de llamadas salientes\n",
    "top_menos_salientes = operator_data.query('llamadas_totales > 1000').sort_values(by='% llamadas salientes', ascending=True).head(50)"
   ],
   "metadata": {
    "collapsed": false,
    "ExecuteTime": {
     "end_time": "2023-07-14T07:31:14.314308900Z",
     "start_time": "2023-07-14T07:31:14.263725400Z"
    }
   }
  },
  {
   "cell_type": "code",
   "execution_count": 160,
   "outputs": [
    {
     "data": {
      "text/plain": "   operator_id  llamadas_totales  llamadas_perdidas  llamadas_entrantes  \\\n0       921306              1067                 43                 475   \n1       923526              3053                 70                1016   \n2       937760              1113                 32                 351   \n3       899082              2372                 79                 713   \n4       889410              1568                 83                 464   \n5       937966              1130                 36                 265   \n\n   llamadas_salientes  call_duration   call_wait  total_call_duration  \\\n0                 592     464.779412  178.875000           643.654412   \n1                2037     631.033981  213.383495           844.417476   \n2                 762     471.533333  183.666667           655.200000   \n3                1659     426.964286  198.781250           625.745536   \n4                1104     306.706107   85.354962           392.061069   \n5                 865     481.554455  193.188119           674.742574   \n\n   % llamadas perdidas  % llamadas salientes  % tiempo de espera  \n0             4.029991             55.482662           27.790534  \n1             2.292827             66.721258           25.269905  \n2             2.875112             68.463612           28.032153  \n3             3.330523             69.940978           31.767106  \n4             5.293367             70.408163           21.770833  \n5             3.185841             76.548673           28.631381  ",
      "text/html": "<div>\n<style scoped>\n    .dataframe tbody tr th:only-of-type {\n        vertical-align: middle;\n    }\n\n    .dataframe tbody tr th {\n        vertical-align: top;\n    }\n\n    .dataframe thead th {\n        text-align: right;\n    }\n</style>\n<table border=\"1\" class=\"dataframe\">\n  <thead>\n    <tr style=\"text-align: right;\">\n      <th></th>\n      <th>operator_id</th>\n      <th>llamadas_totales</th>\n      <th>llamadas_perdidas</th>\n      <th>llamadas_entrantes</th>\n      <th>llamadas_salientes</th>\n      <th>call_duration</th>\n      <th>call_wait</th>\n      <th>total_call_duration</th>\n      <th>% llamadas perdidas</th>\n      <th>% llamadas salientes</th>\n      <th>% tiempo de espera</th>\n    </tr>\n  </thead>\n  <tbody>\n    <tr>\n      <th>0</th>\n      <td>921306</td>\n      <td>1067</td>\n      <td>43</td>\n      <td>475</td>\n      <td>592</td>\n      <td>464.779412</td>\n      <td>178.875000</td>\n      <td>643.654412</td>\n      <td>4.029991</td>\n      <td>55.482662</td>\n      <td>27.790534</td>\n    </tr>\n    <tr>\n      <th>1</th>\n      <td>923526</td>\n      <td>3053</td>\n      <td>70</td>\n      <td>1016</td>\n      <td>2037</td>\n      <td>631.033981</td>\n      <td>213.383495</td>\n      <td>844.417476</td>\n      <td>2.292827</td>\n      <td>66.721258</td>\n      <td>25.269905</td>\n    </tr>\n    <tr>\n      <th>2</th>\n      <td>937760</td>\n      <td>1113</td>\n      <td>32</td>\n      <td>351</td>\n      <td>762</td>\n      <td>471.533333</td>\n      <td>183.666667</td>\n      <td>655.200000</td>\n      <td>2.875112</td>\n      <td>68.463612</td>\n      <td>28.032153</td>\n    </tr>\n    <tr>\n      <th>3</th>\n      <td>899082</td>\n      <td>2372</td>\n      <td>79</td>\n      <td>713</td>\n      <td>1659</td>\n      <td>426.964286</td>\n      <td>198.781250</td>\n      <td>625.745536</td>\n      <td>3.330523</td>\n      <td>69.940978</td>\n      <td>31.767106</td>\n    </tr>\n    <tr>\n      <th>4</th>\n      <td>889410</td>\n      <td>1568</td>\n      <td>83</td>\n      <td>464</td>\n      <td>1104</td>\n      <td>306.706107</td>\n      <td>85.354962</td>\n      <td>392.061069</td>\n      <td>5.293367</td>\n      <td>70.408163</td>\n      <td>21.770833</td>\n    </tr>\n    <tr>\n      <th>5</th>\n      <td>937966</td>\n      <td>1130</td>\n      <td>36</td>\n      <td>265</td>\n      <td>865</td>\n      <td>481.554455</td>\n      <td>193.188119</td>\n      <td>674.742574</td>\n      <td>3.185841</td>\n      <td>76.548673</td>\n      <td>28.631381</td>\n    </tr>\n  </tbody>\n</table>\n</div>"
     },
     "execution_count": 160,
     "metadata": {},
     "output_type": "execute_result"
    }
   ],
   "source": [
    "# Unimos los top 50 de cada tabla para ver coincidencias\n",
    "top_mayor_perdidas_mayor_salientes = pd.merge(top_menos_salientes, top_mayor_perdidas, on='operator_id')['operator_id']\n",
    "low_unificado = pd.merge(top_mayor_perdidas_mayor_salientes, top_mayor_espera, on='operator_id')\n",
    "low_unificado"
   ],
   "metadata": {
    "collapsed": false,
    "ExecuteTime": {
     "end_time": "2023-07-14T07:31:16.467770300Z",
     "start_time": "2023-07-14T07:31:16.426441300Z"
    }
   }
  },
  {
   "cell_type": "markdown",
   "source": [
    "Con en este análisis tenemos nuestro top operadores con mayor y menor eficacia"
   ],
   "metadata": {
    "collapsed": false
   }
  },
  {
   "cell_type": "markdown",
   "source": [
    "## Prueba las hipótesis\n",
    "\n",
    "Para esta fase realizaremos las siguientes pruebas:\n",
    "\n",
    "- Prueba que el porcentaje promedio de llamadas entrantes perdidas de los operadores identificados como menos eficaces y de los operadores identificados como más eficaces difiere.\n",
    "- Prueba que el porcentaje promedio de tiempo de espera de los operadores identificados como menos eficaces y de los operadores identificados como más eficaces difiere.\n",
    "- Prueba que el porcentaje promedio de llamadas salientes de los operadores identificados como menos eficaces y de los operadores identificados como más eficaces difiere."
   ],
   "metadata": {
    "collapsed": false
   }
  },
  {
   "cell_type": "markdown",
   "source": [
    "### Prueba 1\n",
    "\n",
    "Para esta prueba, nuestra hipotesis nula es que \"el porcentaje promedio de llamadas entrantes perdidas de los operadores identificados como menos eficaces y de los operadores identificados como más eficaces son iguales\".\n",
    "\n",
    "Nuestra hipotesis alternativa es que \"el porcentaje promedio de llamadas entrantes perdidas de los operadores identificados como menos eficaces y de los operadores identificados como más eficaces difiere.\"\n",
    "\n",
    "Como prueba estadistica realizaremos la prueba de igualdad de las medias de dos poblaciones y nuestro indice de confianza sera del 95%"
   ],
   "metadata": {
    "collapsed": false
   }
  },
  {
   "cell_type": "code",
   "execution_count": 163,
   "outputs": [
    {
     "name": "stdout",
     "output_type": "stream",
     "text": [
      "p-value:  0.011380262682745213\n",
      "Rechazamos la hipótesis nula\n"
     ]
    }
   ],
   "source": [
    "sample_top = top_unificado['% llamadas perdidas']\n",
    "\n",
    "sample_low = low_unificado['% llamadas perdidas']\n",
    "\n",
    "alpha = 0.05\n",
    "\n",
    "results = st.ttest_ind(sample_top, sample_low)\n",
    "\n",
    "print('p-value: ', results.pvalue)\n",
    "\n",
    "if results.pvalue < alpha:\n",
    "    print(\"Rechazamos la hipótesis nula\")\n",
    "else:\n",
    "    print(\"No rechazamos la hipótesis nula\")"
   ],
   "metadata": {
    "collapsed": false,
    "ExecuteTime": {
     "end_time": "2023-07-14T07:34:47.696344500Z",
     "start_time": "2023-07-14T07:34:47.667350700Z"
    }
   }
  },
  {
   "cell_type": "markdown",
   "source": [
    "Una vez realizado la prueba, podemos ver que nuestro valor p es bastante bajo a nuestro nivel de confianza (95% = 0.05), esto nos indica que la hipotesis nula es rechazada y las medias de porcentaje de llamadas perdidas tienen diferencias significativas\n",
    "\n",
    "Con esta información y las observaciones anteriormente expuestas, podemos concluir que los operadores identificados son bastante menos eficaces que nuestro top identificado y podriamos enfocarnos en ellos para aumentar su rendimiento en este KPI"
   ],
   "metadata": {
    "collapsed": false
   }
  },
  {
   "cell_type": "markdown",
   "source": [
    "### Prueba 2\n",
    "\n",
    "Para esta prueba, nuestra hipotesis nula es que \"el porcentaje de tiempo de espera promedio de los operadores identificados como menos eficaces y de los operadores identificados como más eficaces son iguales\".\n",
    "\n",
    "Nuestra hipotesis alternativa es que \"el porcentaje de tiempo de espera promedio de los operadores identificados como menos eficaces y de los operadores identificados como más eficaces difiere.\"\n",
    "\n",
    "Como prueba estadistica realizaremos la prueba de igualdad de las medias de dos poblaciones y nuestro indice de confianza sera del 95%"
   ],
   "metadata": {
    "collapsed": false
   }
  },
  {
   "cell_type": "code",
   "execution_count": 164,
   "outputs": [
    {
     "name": "stdout",
     "output_type": "stream",
     "text": [
      "p-value:  0.001548352858882087\n",
      "Rechazamos la hipótesis nula\n"
     ]
    }
   ],
   "source": [
    "sample_top = top_unificado['% tiempo de espera']\n",
    "\n",
    "sample_low = low_unificado['% tiempo de espera']\n",
    "\n",
    "alpha = 0.05\n",
    "\n",
    "results = st.ttest_ind(sample_top, sample_low)\n",
    "\n",
    "print('p-value: ', results.pvalue)\n",
    "\n",
    "if results.pvalue < alpha:\n",
    "    print(\"Rechazamos la hipótesis nula\")\n",
    "else:\n",
    "    print(\"No rechazamos la hipótesis nula\")"
   ],
   "metadata": {
    "collapsed": false,
    "ExecuteTime": {
     "end_time": "2023-07-14T07:35:49.921824900Z",
     "start_time": "2023-07-14T07:35:49.896831800Z"
    }
   }
  },
  {
   "cell_type": "markdown",
   "source": [
    "Una vez realizado la prueba, podemos ver que nuestro valor p es bastante bajo a nuestro nivel de confianza (95% = 0.05), esto nos indica que la hipotesis nula es rechazada y las medias de porcentaje de tiempo de espera tienen diferencias significativas\n",
    "\n",
    "Con esta información y las observaciones anteriormente expuestas, podemos concluir que los operadores identificados son bastante menos eficaces que nuestro top identificado y podriamos enfocarnos en ellos para aumentar su rendimiento en este KPI"
   ],
   "metadata": {
    "collapsed": false
   }
  },
  {
   "cell_type": "markdown",
   "source": [
    "### Prueba 3\n",
    "\n",
    "Para esta prueba, nuestra hipotesis nula es que \"el porcentaje promedio de llamadas salientes de los operadores identificados como menos eficaces y de los operadores identificados como más eficaces son iguales\".\n",
    "\n",
    "Nuestra hipotesis alternativa es que \"el porcentaje promedio de llamadas salientes de los operadores identificados como menos eficaces y de los operadores identificados como más eficaces difiere.\"\n",
    "\n",
    "Como prueba estadistica realizaremos la prueba de igualdad de las medias de dos poblaciones y nuestro indice de confianza sera del 95%"
   ],
   "metadata": {
    "collapsed": false
   }
  },
  {
   "cell_type": "code",
   "execution_count": 165,
   "outputs": [
    {
     "name": "stdout",
     "output_type": "stream",
     "text": [
      "p-value:  0.0025772646028303756\n",
      "Rechazamos la hipótesis nula\n"
     ]
    }
   ],
   "source": [
    "sample_top = top_unificado['% llamadas salientes']\n",
    "\n",
    "sample_low = low_unificado['% llamadas salientes']\n",
    "\n",
    "alpha = 0.05\n",
    "\n",
    "results = st.ttest_ind(sample_top, sample_low)\n",
    "\n",
    "print('p-value: ', results.pvalue)\n",
    "\n",
    "if results.pvalue < alpha:\n",
    "    print(\"Rechazamos la hipótesis nula\")\n",
    "else:\n",
    "    print(\"No rechazamos la hipótesis nula\")"
   ],
   "metadata": {
    "collapsed": false,
    "ExecuteTime": {
     "end_time": "2023-07-14T07:37:10.680510600Z",
     "start_time": "2023-07-14T07:37:10.630232900Z"
    }
   }
  },
  {
   "cell_type": "markdown",
   "source": [
    "Una vez realizado la prueba, podemos ver que nuestro valor p es bastante bajo a nuestro nivel de confianza (95% = 0.05), esto nos indica que la hipotesis nula es rechazada y las medias de porcentaje de llamadas salientes tienen diferencias significativas\n",
    "\n",
    "Con esta información y las observaciones anteriormente expuestas, podemos concluir que los operadores identificados son bastante menos eficaces que nuestro top identificado y podriamos enfocarnos en ellos para aumentar su rendimiento en este KPI"
   ],
   "metadata": {
    "collapsed": false
   }
  },
  {
   "cell_type": "markdown",
   "source": [
    "## Conclusiones generales, recomendaciones finales y posibles siguientes pasos."
   ],
   "metadata": {
    "collapsed": false
   }
  },
  {
   "cell_type": "markdown",
   "source": [
    "Una vez realizadas las pruebas podemos dar las siguientes conclusiones y recomendaciones:\n",
    "\n",
    "Conclusiones\n",
    "- En las 3 pruebas se detecto una diferencia estadisticamente significativa por lo que podemos confirmar que tenemos operadores que estan siendo ineficaces y que comparados con los de mejor rendimiento, las diferencias son superiores a la media\n",
    "- De los operadores más eficaces podemos ver que el porcentaje de llamadas perdidas no supera el 2.3% mientras que el porcentaje de llamadas salientes de casi del 80-85% en promedio, mientras que los operadores menos eficaces tienen un porcentaje de llamadas perdidas mayor a 2% llegando uno al 5% mientras que en el porcentaje de llamadas salientes presentan porcentajes menores al 75% hasta casi el 50%.\n",
    "- El porcentaje de tiempo de espera de operadores eficaces es inferior al 21.5% respecto al total del tiempo de llamada mientras que el de los operadores menos eficaces es superior al 21% llegando algunos al 31%.\n",
    "\n",
    "Recomendaciones y Next Steps\n",
    "- Viendo los resultados, nuestra principal recomendación es generar un cuadro de mando donde mensualmente podamos ver las metricas de los operadores y cuando empiecen a bajar de las medias, hablar con ellos y ver que opciones se pueden tomar para recuperar su productividad\n",
    "- Un futuro next step podria ser desarollar un modelo que identifique la probabilidad que un operador baje su rendimiento en los proximos meses y con ello, poder generar estrategias enfocados a evitar que esto suceda"
   ],
   "metadata": {
    "collapsed": false
   }
  }
 ],
 "metadata": {
  "kernelspec": {
   "display_name": "Python 3",
   "language": "python",
   "name": "python3"
  },
  "language_info": {
   "codemirror_mode": {
    "name": "ipython",
    "version": 2
   },
   "file_extension": ".py",
   "mimetype": "text/x-python",
   "name": "python",
   "nbconvert_exporter": "python",
   "pygments_lexer": "ipython2",
   "version": "2.7.6"
  }
 },
 "nbformat": 4,
 "nbformat_minor": 0
}
