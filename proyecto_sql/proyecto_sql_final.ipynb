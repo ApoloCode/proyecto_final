{
 "cells": [
  {
   "cell_type": "markdown",
   "metadata": {},
   "source": [
    "# Proyecto SQL\n",
    "\n",
    "El coronavirus tomó al mundo entero por sorpresa, cambiando la rutina diaria de todos y todas. Los habitantes de las ciudades ya no pasaban su tiempo libre fuera, yendo a cafés y centros comerciales; sino que más gente se quedaba en casa, leyendo libros. Eso atrajo la atención de las startups (empresas emergentes) que se apresuraron a desarrollar nuevas aplicaciones para los amantes de los libros.\n",
    "\n",
    "Te han dado una base de datos de uno de los servicios que compiten en este mercado. Contiene datos sobre libros, editoriales, autores y calificaciones de clientes y reseñas de libros. Esta información se utilizará para generar una propuesta de valor para un nuevo producto."
   ]
  },
  {
   "cell_type": "markdown",
   "metadata": {},
   "source": [
    "# Tabla de contenidos <a id='back'></a>\n",
    "\n",
    "1. [Conexión a la base de datos y análisis de tablas](#descarga_datos)\n",
    "2. [Resolución de ejercicios](#eda)\n",
    "3. [Conclusiones generales y recomendaciones](#conclusiones)"
   ]
  },
  {
   "cell_type": "markdown",
   "metadata": {},
   "source": [
    "![Diagrama de datos](https://practicum-content.s3.us-west-1.amazonaws.com/resources/moved_Untitled_-_2020-07-02T142019.920_1593688954.png \"Diagrama de datos\")"
   ]
  },
  {
   "cell_type": "markdown",
   "metadata": {},
   "source": [
    "## Conexión a la base de datos y análisis de tablas\n",
    "\n",
    "En este paso, se hara la conexion y primer analisis de las tablas"
   ]
  },
  {
   "cell_type": "code",
   "execution_count": 1,
   "metadata": {
    "ExecuteTime": {
     "end_time": "2023-07-17T20:22:01.043744400Z",
     "start_time": "2023-07-17T20:21:59.271625100Z"
    }
   },
   "outputs": [],
   "source": [
    "# Librerias\n",
    "import pandas as pd\n",
    "from sqlalchemy import create_engine\n",
    "import os\n",
    "from dotenv import load_dotenv"
   ]
  },
  {
   "cell_type": "code",
   "execution_count": 2,
   "metadata": {
    "collapsed": false,
    "ExecuteTime": {
     "end_time": "2023-07-17T20:22:05.737026Z",
     "start_time": "2023-07-17T20:22:05.650468500Z"
    }
   },
   "outputs": [
    {
     "data": {
      "text/plain": "True"
     },
     "execution_count": 2,
     "metadata": {},
     "output_type": "execute_result"
    }
   ],
   "source": [
    "# Importamos las variables de entorno\n",
    "load_dotenv()"
   ]
  },
  {
   "cell_type": "code",
   "execution_count": 3,
   "metadata": {
    "ExecuteTime": {
     "end_time": "2023-07-17T20:22:09.041071Z",
     "start_time": "2023-07-17T20:22:08.916034700Z"
    }
   },
   "outputs": [],
   "source": [
    "# Conexion a la base de datos\n",
    "db_config = {'user': os.getenv('tripleten_sql_user'), # nombre de usuario\n",
    "             'pwd': os.getenv('tripleten_sql_pwd'), # contraseña\n",
    "             'host': os.getenv('tripleten_sql_host'),\n",
    "             'port': 6432, # puerto de conexión\n",
    "             'db': os.getenv('tripleten_sql_db')} # nombre de la base de datos\n",
    "connection_string = 'postgresql://{}:{}@{}:{}/{}'.format(db_config['user'],\n",
    "                                                         db_config['pwd'],\n",
    "                                                         db_config['host'],\n",
    "                                                         db_config['port'],\n",
    "                                                         db_config['db'])\n",
    "\n",
    "engine = create_engine(connection_string, connect_args={'sslmode':'require'})"
   ]
  },
  {
   "cell_type": "code",
   "execution_count": 4,
   "metadata": {
    "ExecuteTime": {
     "end_time": "2023-07-17T20:22:19.574236900Z",
     "start_time": "2023-07-17T20:22:12.667401800Z"
    }
   },
   "outputs": [
    {
     "data": {
      "text/plain": "   book_id  author_id                                              title  \\\n0        1        546                                       'Salem's Lot   \n1        2        465                 1 000 Places to See Before You Die   \n2        3        407  13 Little Blue Envelopes (Little Blue Envelope...   \n3        4         82  1491: New Revelations of the Americas Before C...   \n4        5        125                                               1776   \n\n   num_pages publication_date  publisher_id  \n0        594       2005-11-01            93  \n1        992       2003-05-22           336  \n2        322       2010-12-21           135  \n3        541       2006-10-10           309  \n4        386       2006-07-04           268  ",
      "text/html": "<div>\n<style scoped>\n    .dataframe tbody tr th:only-of-type {\n        vertical-align: middle;\n    }\n\n    .dataframe tbody tr th {\n        vertical-align: top;\n    }\n\n    .dataframe thead th {\n        text-align: right;\n    }\n</style>\n<table border=\"1\" class=\"dataframe\">\n  <thead>\n    <tr style=\"text-align: right;\">\n      <th></th>\n      <th>book_id</th>\n      <th>author_id</th>\n      <th>title</th>\n      <th>num_pages</th>\n      <th>publication_date</th>\n      <th>publisher_id</th>\n    </tr>\n  </thead>\n  <tbody>\n    <tr>\n      <th>0</th>\n      <td>1</td>\n      <td>546</td>\n      <td>'Salem's Lot</td>\n      <td>594</td>\n      <td>2005-11-01</td>\n      <td>93</td>\n    </tr>\n    <tr>\n      <th>1</th>\n      <td>2</td>\n      <td>465</td>\n      <td>1 000 Places to See Before You Die</td>\n      <td>992</td>\n      <td>2003-05-22</td>\n      <td>336</td>\n    </tr>\n    <tr>\n      <th>2</th>\n      <td>3</td>\n      <td>407</td>\n      <td>13 Little Blue Envelopes (Little Blue Envelope...</td>\n      <td>322</td>\n      <td>2010-12-21</td>\n      <td>135</td>\n    </tr>\n    <tr>\n      <th>3</th>\n      <td>4</td>\n      <td>82</td>\n      <td>1491: New Revelations of the Americas Before C...</td>\n      <td>541</td>\n      <td>2006-10-10</td>\n      <td>309</td>\n    </tr>\n    <tr>\n      <th>4</th>\n      <td>5</td>\n      <td>125</td>\n      <td>1776</td>\n      <td>386</td>\n      <td>2006-07-04</td>\n      <td>268</td>\n    </tr>\n  </tbody>\n</table>\n</div>"
     },
     "execution_count": 4,
     "metadata": {},
     "output_type": "execute_result"
    }
   ],
   "source": [
    "# Vemos el contenido de la tabla books\n",
    "query = '''\n",
    "SELECT\n",
    "    *\n",
    "FROM\n",
    "    books\n",
    "LIMIT\n",
    "    5\n",
    "'''\n",
    "data_books = pd.io.sql.read_sql(query, con=engine)\n",
    "data_books"
   ]
  },
  {
   "cell_type": "code",
   "execution_count": 5,
   "metadata": {
    "ExecuteTime": {
     "end_time": "2023-07-17T20:22:53.016296400Z",
     "start_time": "2023-07-17T20:22:51.162552200Z"
    }
   },
   "outputs": [
    {
     "data": {
      "text/plain": "   count\n0      0",
      "text/html": "<div>\n<style scoped>\n    .dataframe tbody tr th:only-of-type {\n        vertical-align: middle;\n    }\n\n    .dataframe tbody tr th {\n        vertical-align: top;\n    }\n\n    .dataframe thead th {\n        text-align: right;\n    }\n</style>\n<table border=\"1\" class=\"dataframe\">\n  <thead>\n    <tr style=\"text-align: right;\">\n      <th></th>\n      <th>count</th>\n    </tr>\n  </thead>\n  <tbody>\n    <tr>\n      <th>0</th>\n      <td>0</td>\n    </tr>\n  </tbody>\n</table>\n</div>"
     },
     "execution_count": 5,
     "metadata": {},
     "output_type": "execute_result"
    }
   ],
   "source": [
    "# Verficamos que no haya datos nulos\n",
    "query = ''' \n",
    "SELECT\n",
    "    COUNT(*)\n",
    "FROM\n",
    "    books\n",
    "WHERE\n",
    "    book_id IS NULL\n",
    "    OR author_id IS NULL\n",
    "    OR title IS NULL\n",
    "    OR num_pages IS NULL\n",
    "    OR publication_date IS NULL\n",
    "    OR publisher_id IS NULL;\n",
    "'''\n",
    "data_books_null_count = pd.io.sql.read_sql(query, con=engine)\n",
    "data_books_null_count"
   ]
  },
  {
   "cell_type": "code",
   "execution_count": 6,
   "metadata": {
    "ExecuteTime": {
     "end_time": "2023-07-17T20:23:10.871106200Z",
     "start_time": "2023-07-17T20:23:09.052129700Z"
    }
   },
   "outputs": [
    {
     "data": {
      "text/plain": "   count\n0      0",
      "text/html": "<div>\n<style scoped>\n    .dataframe tbody tr th:only-of-type {\n        vertical-align: middle;\n    }\n\n    .dataframe tbody tr th {\n        vertical-align: top;\n    }\n\n    .dataframe thead th {\n        text-align: right;\n    }\n</style>\n<table border=\"1\" class=\"dataframe\">\n  <thead>\n    <tr style=\"text-align: right;\">\n      <th></th>\n      <th>count</th>\n    </tr>\n  </thead>\n  <tbody>\n    <tr>\n      <th>0</th>\n      <td>0</td>\n    </tr>\n  </tbody>\n</table>\n</div>"
     },
     "execution_count": 6,
     "metadata": {},
     "output_type": "execute_result"
    }
   ],
   "source": [
    "# Verificamos que no haya datos duplicados\n",
    "query = '''\n",
    "SELECT\n",
    "    COUNT(*)\n",
    "FROM\n",
    "    (\n",
    "        SELECT\n",
    "            book_id,\n",
    "            author_id,\n",
    "            title,\n",
    "            num_pages,\n",
    "            publication_date,\n",
    "            publisher_id,\n",
    "            COUNT(*)\n",
    "        FROM\n",
    "            books\n",
    "        GROUP BY\n",
    "            book_id,\n",
    "            author_id,\n",
    "            title,\n",
    "            num_pages,\n",
    "            publication_date,\n",
    "            publisher_id\n",
    "        HAVING\n",
    "            COUNT(*) > 1\n",
    "    ) AS SUB\n",
    "'''\n",
    "data_books_duplicate_count = pd.io.sql.read_sql(query, con=engine)\n",
    "data_books_duplicate_count"
   ]
  },
  {
   "cell_type": "markdown",
   "metadata": {},
   "source": [
    "Nuestra tabla `books` que son los datos sobre libros, contiene las siguientes columnas:\n",
    "\n",
    "- `book_id`: identificación del libro\n",
    "- `author_id`: identificación del autor o autora\n",
    "- `title`: título\n",
    "- `num_pages`: número de páginas\n",
    "- `publication_date`: fecha de la publicación\n",
    "- `publisher_id`: identificación de la editorial\n",
    "\n",
    "Además de ello, la tabla no presenta datos ausentes o duplicados"
   ]
  },
  {
   "cell_type": "code",
   "execution_count": 7,
   "metadata": {
    "ExecuteTime": {
     "end_time": "2023-07-17T20:23:15.829242500Z",
     "start_time": "2023-07-17T20:23:14.158370700Z"
    }
   },
   "outputs": [
    {
     "data": {
      "text/plain": "   author_id                          author\n0          1                      A.S. Byatt\n1          2  Aesop/Laura Harris/Laura Gibbs\n2          3                 Agatha Christie\n3          4                   Alan Brennert\n4          5        Alan Moore/David   Lloyd",
      "text/html": "<div>\n<style scoped>\n    .dataframe tbody tr th:only-of-type {\n        vertical-align: middle;\n    }\n\n    .dataframe tbody tr th {\n        vertical-align: top;\n    }\n\n    .dataframe thead th {\n        text-align: right;\n    }\n</style>\n<table border=\"1\" class=\"dataframe\">\n  <thead>\n    <tr style=\"text-align: right;\">\n      <th></th>\n      <th>author_id</th>\n      <th>author</th>\n    </tr>\n  </thead>\n  <tbody>\n    <tr>\n      <th>0</th>\n      <td>1</td>\n      <td>A.S. Byatt</td>\n    </tr>\n    <tr>\n      <th>1</th>\n      <td>2</td>\n      <td>Aesop/Laura Harris/Laura Gibbs</td>\n    </tr>\n    <tr>\n      <th>2</th>\n      <td>3</td>\n      <td>Agatha Christie</td>\n    </tr>\n    <tr>\n      <th>3</th>\n      <td>4</td>\n      <td>Alan Brennert</td>\n    </tr>\n    <tr>\n      <th>4</th>\n      <td>5</td>\n      <td>Alan Moore/David   Lloyd</td>\n    </tr>\n  </tbody>\n</table>\n</div>"
     },
     "execution_count": 7,
     "metadata": {},
     "output_type": "execute_result"
    }
   ],
   "source": [
    "# Vemos el contenido de la tabla authors\n",
    "query = '''\n",
    "SELECT\n",
    "    *\n",
    "FROM\n",
    "    authors\n",
    "LIMIT\n",
    "    5\n",
    "'''\n",
    "data_authors = pd.io.sql.read_sql(query, con=engine)\n",
    "data_authors"
   ]
  },
  {
   "cell_type": "code",
   "execution_count": 8,
   "metadata": {
    "ExecuteTime": {
     "end_time": "2023-07-17T20:23:18.929551800Z",
     "start_time": "2023-07-17T20:23:17.422383700Z"
    }
   },
   "outputs": [
    {
     "data": {
      "text/plain": "   count\n0      0",
      "text/html": "<div>\n<style scoped>\n    .dataframe tbody tr th:only-of-type {\n        vertical-align: middle;\n    }\n\n    .dataframe tbody tr th {\n        vertical-align: top;\n    }\n\n    .dataframe thead th {\n        text-align: right;\n    }\n</style>\n<table border=\"1\" class=\"dataframe\">\n  <thead>\n    <tr style=\"text-align: right;\">\n      <th></th>\n      <th>count</th>\n    </tr>\n  </thead>\n  <tbody>\n    <tr>\n      <th>0</th>\n      <td>0</td>\n    </tr>\n  </tbody>\n</table>\n</div>"
     },
     "execution_count": 8,
     "metadata": {},
     "output_type": "execute_result"
    }
   ],
   "source": [
    "# Verficamos que no haya datos nulos\n",
    "query = '''\n",
    "SELECT\n",
    "    COUNT(*)\n",
    "FROM\n",
    "    authors\n",
    "WHERE\n",
    "    author_id IS NULL\n",
    "    OR author IS NULL;\n",
    "'''\n",
    "data_authors_null_count = pd.io.sql.read_sql(query, con=engine)\n",
    "data_authors_null_count"
   ]
  },
  {
   "cell_type": "code",
   "execution_count": 9,
   "metadata": {
    "ExecuteTime": {
     "end_time": "2023-07-17T20:23:22.007655300Z",
     "start_time": "2023-07-17T20:23:20.526538300Z"
    }
   },
   "outputs": [
    {
     "data": {
      "text/plain": "   count\n0      0",
      "text/html": "<div>\n<style scoped>\n    .dataframe tbody tr th:only-of-type {\n        vertical-align: middle;\n    }\n\n    .dataframe tbody tr th {\n        vertical-align: top;\n    }\n\n    .dataframe thead th {\n        text-align: right;\n    }\n</style>\n<table border=\"1\" class=\"dataframe\">\n  <thead>\n    <tr style=\"text-align: right;\">\n      <th></th>\n      <th>count</th>\n    </tr>\n  </thead>\n  <tbody>\n    <tr>\n      <th>0</th>\n      <td>0</td>\n    </tr>\n  </tbody>\n</table>\n</div>"
     },
     "execution_count": 9,
     "metadata": {},
     "output_type": "execute_result"
    }
   ],
   "source": [
    "# Verificamos que no haya datos duplicados\n",
    "query = '''\n",
    "SELECT\n",
    "    COUNT(*)\n",
    "FROM\n",
    "    (\n",
    "        SELECT\n",
    "            author_id,\n",
    "            author,\n",
    "            COUNT(*)\n",
    "        FROM\n",
    "            authors\n",
    "        GROUP BY\n",
    "            author_id,\n",
    "            author\n",
    "        HAVING\n",
    "            COUNT(*) > 1\n",
    "    ) AS SUB\n",
    "'''\n",
    "data_authors_duplicate_count = pd.io.sql.read_sql(query, con=engine)\n",
    "data_authors_duplicate_count"
   ]
  },
  {
   "cell_type": "markdown",
   "metadata": {},
   "source": [
    "Nuestra tabla `authors` que son los datos sobre autores, contiene las siguientes columnas:\n",
    "\n",
    "- `author_id`: identificación del autor o autora\n",
    "- `author`: el autor o la autora\n",
    "\n",
    "Además de ello, la tabla no presenta datos ausentes o duplicados"
   ]
  },
  {
   "cell_type": "code",
   "execution_count": 10,
   "metadata": {
    "ExecuteTime": {
     "end_time": "2023-07-17T20:23:25.383583100Z",
     "start_time": "2023-07-17T20:23:23.947969700Z"
    }
   },
   "outputs": [
    {
     "data": {
      "text/plain": "   rating_id  book_id       username  rating\n0          1        1     ryanfranco       4\n1          2        1  grantpatricia       2\n2          3        1   brandtandrea       5\n3          4        2       lorichen       3\n4          5        2    mariokeller       2",
      "text/html": "<div>\n<style scoped>\n    .dataframe tbody tr th:only-of-type {\n        vertical-align: middle;\n    }\n\n    .dataframe tbody tr th {\n        vertical-align: top;\n    }\n\n    .dataframe thead th {\n        text-align: right;\n    }\n</style>\n<table border=\"1\" class=\"dataframe\">\n  <thead>\n    <tr style=\"text-align: right;\">\n      <th></th>\n      <th>rating_id</th>\n      <th>book_id</th>\n      <th>username</th>\n      <th>rating</th>\n    </tr>\n  </thead>\n  <tbody>\n    <tr>\n      <th>0</th>\n      <td>1</td>\n      <td>1</td>\n      <td>ryanfranco</td>\n      <td>4</td>\n    </tr>\n    <tr>\n      <th>1</th>\n      <td>2</td>\n      <td>1</td>\n      <td>grantpatricia</td>\n      <td>2</td>\n    </tr>\n    <tr>\n      <th>2</th>\n      <td>3</td>\n      <td>1</td>\n      <td>brandtandrea</td>\n      <td>5</td>\n    </tr>\n    <tr>\n      <th>3</th>\n      <td>4</td>\n      <td>2</td>\n      <td>lorichen</td>\n      <td>3</td>\n    </tr>\n    <tr>\n      <th>4</th>\n      <td>5</td>\n      <td>2</td>\n      <td>mariokeller</td>\n      <td>2</td>\n    </tr>\n  </tbody>\n</table>\n</div>"
     },
     "execution_count": 10,
     "metadata": {},
     "output_type": "execute_result"
    }
   ],
   "source": [
    "# Vemos el contenido de la tabla ratings\n",
    "query = '''\n",
    "SELECT\n",
    "    *\n",
    "FROM\n",
    "    ratings\n",
    "LIMIT\n",
    "    5 '''\n",
    "data_ratings = pd.io.sql.read_sql(query, con=engine)\n",
    "data_ratings"
   ]
  },
  {
   "cell_type": "code",
   "execution_count": 11,
   "metadata": {
    "ExecuteTime": {
     "end_time": "2023-07-17T20:23:28.611869700Z",
     "start_time": "2023-07-17T20:23:27.028765600Z"
    }
   },
   "outputs": [
    {
     "data": {
      "text/plain": "   count\n0      0",
      "text/html": "<div>\n<style scoped>\n    .dataframe tbody tr th:only-of-type {\n        vertical-align: middle;\n    }\n\n    .dataframe tbody tr th {\n        vertical-align: top;\n    }\n\n    .dataframe thead th {\n        text-align: right;\n    }\n</style>\n<table border=\"1\" class=\"dataframe\">\n  <thead>\n    <tr style=\"text-align: right;\">\n      <th></th>\n      <th>count</th>\n    </tr>\n  </thead>\n  <tbody>\n    <tr>\n      <th>0</th>\n      <td>0</td>\n    </tr>\n  </tbody>\n</table>\n</div>"
     },
     "execution_count": 11,
     "metadata": {},
     "output_type": "execute_result"
    }
   ],
   "source": [
    "# Verficamos que no haya datos nulos\n",
    "query = '''\n",
    "SELECT\n",
    "    COUNT(*)\n",
    "FROM\n",
    "    ratings\n",
    "WHERE\n",
    "    rating_id IS NULL\n",
    "    OR book_id IS NULL\n",
    "    OR username IS NULL\n",
    "    OR rating IS NULL;\n",
    " '''\n",
    "data_ratings_null_count = pd.io.sql.read_sql(query, con=engine)\n",
    "data_ratings_null_count"
   ]
  },
  {
   "cell_type": "code",
   "execution_count": 12,
   "metadata": {
    "ExecuteTime": {
     "end_time": "2023-07-17T20:23:31.305431900Z",
     "start_time": "2023-07-17T20:23:29.545554400Z"
    }
   },
   "outputs": [
    {
     "data": {
      "text/plain": "   count\n0      0",
      "text/html": "<div>\n<style scoped>\n    .dataframe tbody tr th:only-of-type {\n        vertical-align: middle;\n    }\n\n    .dataframe tbody tr th {\n        vertical-align: top;\n    }\n\n    .dataframe thead th {\n        text-align: right;\n    }\n</style>\n<table border=\"1\" class=\"dataframe\">\n  <thead>\n    <tr style=\"text-align: right;\">\n      <th></th>\n      <th>count</th>\n    </tr>\n  </thead>\n  <tbody>\n    <tr>\n      <th>0</th>\n      <td>0</td>\n    </tr>\n  </tbody>\n</table>\n</div>"
     },
     "execution_count": 12,
     "metadata": {},
     "output_type": "execute_result"
    }
   ],
   "source": [
    "# Verificamos que no haya datos duplicados\n",
    "query = '''\n",
    "SELECT\n",
    "    COUNT(*)\n",
    "FROM\n",
    "  (SELECT rating_id,\n",
    "          book_id,\n",
    "          username,\n",
    "          rating,\n",
    "          COUNT(*)\n",
    "   FROM\n",
    "    ratings\n",
    "   GROUP BY rating_id,\n",
    "            book_id,\n",
    "            username,\n",
    "            rating\n",
    "   HAVING COUNT(*) > 1\n",
    "  ) AS SUB\n",
    "'''\n",
    "data_ratings_duplicate_count = pd.io.sql.read_sql(query, con=engine)\n",
    "data_ratings_duplicate_count"
   ]
  },
  {
   "cell_type": "markdown",
   "metadata": {},
   "source": [
    "Nuestra tabla `ratings` que son los datos sobre las calificaciones de usuarios, contiene las siguientes columnas:\n",
    "\n",
    "- `rating_id`: identificación de la calificación\n",
    "- `book_id`: identificación del libro\n",
    "- `username`: el nombre del usuario que revisó el libro\n",
    "- `rating`: calificación\n",
    "\n",
    "Además de ello, la tabla no presenta datos ausentes o duplicados"
   ]
  },
  {
   "cell_type": "code",
   "execution_count": 13,
   "metadata": {
    "ExecuteTime": {
     "end_time": "2023-07-17T20:23:34.818588100Z",
     "start_time": "2023-07-17T20:23:33.413630400Z"
    }
   },
   "outputs": [
    {
     "data": {
      "text/plain": "   review_id  book_id       username  \\\n0          1        1   brandtandrea   \n1          2        1     ryanfranco   \n2          3        2       lorichen   \n3          4        3  johnsonamanda   \n4          5        3    scotttamara   \n\n                                                text  \n0  Mention society tell send professor analysis. ...  \n1  Foot glass pretty audience hit themselves. Amo...  \n2  Listen treat keep worry. Miss husband tax but ...  \n3  Finally month interesting blue could nature cu...  \n4  Nation purpose heavy give wait song will. List...  ",
      "text/html": "<div>\n<style scoped>\n    .dataframe tbody tr th:only-of-type {\n        vertical-align: middle;\n    }\n\n    .dataframe tbody tr th {\n        vertical-align: top;\n    }\n\n    .dataframe thead th {\n        text-align: right;\n    }\n</style>\n<table border=\"1\" class=\"dataframe\">\n  <thead>\n    <tr style=\"text-align: right;\">\n      <th></th>\n      <th>review_id</th>\n      <th>book_id</th>\n      <th>username</th>\n      <th>text</th>\n    </tr>\n  </thead>\n  <tbody>\n    <tr>\n      <th>0</th>\n      <td>1</td>\n      <td>1</td>\n      <td>brandtandrea</td>\n      <td>Mention society tell send professor analysis. ...</td>\n    </tr>\n    <tr>\n      <th>1</th>\n      <td>2</td>\n      <td>1</td>\n      <td>ryanfranco</td>\n      <td>Foot glass pretty audience hit themselves. Amo...</td>\n    </tr>\n    <tr>\n      <th>2</th>\n      <td>3</td>\n      <td>2</td>\n      <td>lorichen</td>\n      <td>Listen treat keep worry. Miss husband tax but ...</td>\n    </tr>\n    <tr>\n      <th>3</th>\n      <td>4</td>\n      <td>3</td>\n      <td>johnsonamanda</td>\n      <td>Finally month interesting blue could nature cu...</td>\n    </tr>\n    <tr>\n      <th>4</th>\n      <td>5</td>\n      <td>3</td>\n      <td>scotttamara</td>\n      <td>Nation purpose heavy give wait song will. List...</td>\n    </tr>\n  </tbody>\n</table>\n</div>"
     },
     "execution_count": 13,
     "metadata": {},
     "output_type": "execute_result"
    }
   ],
   "source": [
    "# Vemos el contenido de la tabla reviews\n",
    "query = '''\n",
    "SELECT\n",
    "    *\n",
    "FROM\n",
    "    reviews\n",
    "LIMIT\n",
    "    5\n",
    "'''\n",
    "data_reviews = pd.io.sql.read_sql(query, con=engine)\n",
    "data_reviews"
   ]
  },
  {
   "cell_type": "code",
   "execution_count": 14,
   "metadata": {
    "ExecuteTime": {
     "end_time": "2023-07-17T20:23:38.582016700Z",
     "start_time": "2023-07-17T20:23:36.926156Z"
    }
   },
   "outputs": [
    {
     "data": {
      "text/plain": "   count\n0      0",
      "text/html": "<div>\n<style scoped>\n    .dataframe tbody tr th:only-of-type {\n        vertical-align: middle;\n    }\n\n    .dataframe tbody tr th {\n        vertical-align: top;\n    }\n\n    .dataframe thead th {\n        text-align: right;\n    }\n</style>\n<table border=\"1\" class=\"dataframe\">\n  <thead>\n    <tr style=\"text-align: right;\">\n      <th></th>\n      <th>count</th>\n    </tr>\n  </thead>\n  <tbody>\n    <tr>\n      <th>0</th>\n      <td>0</td>\n    </tr>\n  </tbody>\n</table>\n</div>"
     },
     "execution_count": 14,
     "metadata": {},
     "output_type": "execute_result"
    }
   ],
   "source": [
    "# Verficamos que no haya datos nulos\n",
    "query = '''\n",
    "SELECT\n",
    "    COUNT(*)\n",
    "FROM\n",
    "    reviews\n",
    "WHERE\n",
    "    review_id IS NULL\n",
    "    OR book_id IS NULL\n",
    "    OR username IS NULL\n",
    "    OR text IS NULL;\n",
    "'''\n",
    "data_reviews_null_count = pd.io.sql.read_sql(query, con=engine)\n",
    "data_reviews_null_count"
   ]
  },
  {
   "cell_type": "code",
   "execution_count": 15,
   "metadata": {
    "ExecuteTime": {
     "end_time": "2023-07-17T20:23:40.829530900Z",
     "start_time": "2023-07-17T20:23:39.383865200Z"
    }
   },
   "outputs": [
    {
     "data": {
      "text/plain": "   count\n0      0",
      "text/html": "<div>\n<style scoped>\n    .dataframe tbody tr th:only-of-type {\n        vertical-align: middle;\n    }\n\n    .dataframe tbody tr th {\n        vertical-align: top;\n    }\n\n    .dataframe thead th {\n        text-align: right;\n    }\n</style>\n<table border=\"1\" class=\"dataframe\">\n  <thead>\n    <tr style=\"text-align: right;\">\n      <th></th>\n      <th>count</th>\n    </tr>\n  </thead>\n  <tbody>\n    <tr>\n      <th>0</th>\n      <td>0</td>\n    </tr>\n  </tbody>\n</table>\n</div>"
     },
     "execution_count": 15,
     "metadata": {},
     "output_type": "execute_result"
    }
   ],
   "source": [
    "# Verificamos que no haya datos duplicados\n",
    "query = '''\n",
    "SELECT\n",
    "    COUNT(*)\n",
    "FROM\n",
    "  (SELECT review_id,\n",
    "          book_id,\n",
    "          username, text, COUNT(*)\n",
    "   FROM\n",
    "    reviews\n",
    "   GROUP BY review_id,\n",
    "            book_id,\n",
    "            username, text\n",
    "   HAVING\n",
    "    COUNT(*) > 1\n",
    "  ) AS SUB\n",
    "'''\n",
    "data_reviews_duplicate_count = pd.io.sql.read_sql(query, con=engine)\n",
    "data_reviews_duplicate_count"
   ]
  },
  {
   "cell_type": "markdown",
   "metadata": {},
   "source": [
    "Nuestra tabla `reviews` que contiene datos sobre las reseñas de los y las clientes, presenta las siguientes columnas:\n",
    "\n",
    "- `review_id`: identificación de la reseña\n",
    "- `book_id`: identificación del libro\n",
    "- `username`: el nombre del usuario que revisó el libro\n",
    "- `text`: el texto de la reseña\n",
    "\n",
    "Además de ello, la tabla no presenta datos ausentes o duplicados"
   ]
  },
  {
   "cell_type": "code",
   "execution_count": 16,
   "metadata": {
    "ExecuteTime": {
     "end_time": "2023-07-17T20:23:44.830452700Z",
     "start_time": "2023-07-17T20:23:42.949008Z"
    }
   },
   "outputs": [
    {
     "data": {
      "text/plain": "   publisher_id                          publisher\n0             1                                Ace\n1             2                           Ace Book\n2             3                          Ace Books\n3             4                      Ace Hardcover\n4             5  Addison Wesley Publishing Company",
      "text/html": "<div>\n<style scoped>\n    .dataframe tbody tr th:only-of-type {\n        vertical-align: middle;\n    }\n\n    .dataframe tbody tr th {\n        vertical-align: top;\n    }\n\n    .dataframe thead th {\n        text-align: right;\n    }\n</style>\n<table border=\"1\" class=\"dataframe\">\n  <thead>\n    <tr style=\"text-align: right;\">\n      <th></th>\n      <th>publisher_id</th>\n      <th>publisher</th>\n    </tr>\n  </thead>\n  <tbody>\n    <tr>\n      <th>0</th>\n      <td>1</td>\n      <td>Ace</td>\n    </tr>\n    <tr>\n      <th>1</th>\n      <td>2</td>\n      <td>Ace Book</td>\n    </tr>\n    <tr>\n      <th>2</th>\n      <td>3</td>\n      <td>Ace Books</td>\n    </tr>\n    <tr>\n      <th>3</th>\n      <td>4</td>\n      <td>Ace Hardcover</td>\n    </tr>\n    <tr>\n      <th>4</th>\n      <td>5</td>\n      <td>Addison Wesley Publishing Company</td>\n    </tr>\n  </tbody>\n</table>\n</div>"
     },
     "execution_count": 16,
     "metadata": {},
     "output_type": "execute_result"
    }
   ],
   "source": [
    "# Vemos el contenido de la tabla publishers\n",
    "query = '''\n",
    "SELECT\n",
    "    *\n",
    "FROM\n",
    "    publishers\n",
    "LIMIT\n",
    "    5\n",
    "'''\n",
    "data_publishers = pd.io.sql.read_sql(query, con=engine)\n",
    "data_publishers"
   ]
  },
  {
   "cell_type": "code",
   "execution_count": 17,
   "metadata": {
    "ExecuteTime": {
     "end_time": "2023-07-17T20:23:48.778724800Z",
     "start_time": "2023-07-17T20:23:46.129035300Z"
    }
   },
   "outputs": [
    {
     "data": {
      "text/plain": "   count\n0      0",
      "text/html": "<div>\n<style scoped>\n    .dataframe tbody tr th:only-of-type {\n        vertical-align: middle;\n    }\n\n    .dataframe tbody tr th {\n        vertical-align: top;\n    }\n\n    .dataframe thead th {\n        text-align: right;\n    }\n</style>\n<table border=\"1\" class=\"dataframe\">\n  <thead>\n    <tr style=\"text-align: right;\">\n      <th></th>\n      <th>count</th>\n    </tr>\n  </thead>\n  <tbody>\n    <tr>\n      <th>0</th>\n      <td>0</td>\n    </tr>\n  </tbody>\n</table>\n</div>"
     },
     "execution_count": 17,
     "metadata": {},
     "output_type": "execute_result"
    }
   ],
   "source": [
    "# Verficamos que no haya datos nulos\n",
    "query = '''\n",
    "SELECT\n",
    "    COUNT(*)\n",
    "FROM\n",
    "    publishers\n",
    "WHERE\n",
    "    publisher_id IS NULL\n",
    "    OR publisher IS NULL;\n",
    "'''\n",
    "data_publishers_null_count = pd.io.sql.read_sql(query, con=engine)\n",
    "data_publishers_null_count"
   ]
  },
  {
   "cell_type": "code",
   "execution_count": 18,
   "metadata": {
    "ExecuteTime": {
     "end_time": "2023-07-17T20:23:50.525228400Z",
     "start_time": "2023-07-17T20:23:48.780711900Z"
    }
   },
   "outputs": [
    {
     "data": {
      "text/plain": "   count\n0      0",
      "text/html": "<div>\n<style scoped>\n    .dataframe tbody tr th:only-of-type {\n        vertical-align: middle;\n    }\n\n    .dataframe tbody tr th {\n        vertical-align: top;\n    }\n\n    .dataframe thead th {\n        text-align: right;\n    }\n</style>\n<table border=\"1\" class=\"dataframe\">\n  <thead>\n    <tr style=\"text-align: right;\">\n      <th></th>\n      <th>count</th>\n    </tr>\n  </thead>\n  <tbody>\n    <tr>\n      <th>0</th>\n      <td>0</td>\n    </tr>\n  </tbody>\n</table>\n</div>"
     },
     "execution_count": 18,
     "metadata": {},
     "output_type": "execute_result"
    }
   ],
   "source": [
    "# Verificamos que no haya datos duplicados\n",
    "query = '''\n",
    "SELECT\n",
    "    COUNT(*)\n",
    "FROM\n",
    "  (SELECT publisher_id,\n",
    "          publisher,\n",
    "          COUNT(*)\n",
    "   FROM\n",
    "    publishers\n",
    "   GROUP BY publisher_id,\n",
    "            publisher\n",
    "   HAVING\n",
    "    COUNT(*) > 1) AS SUB\n",
    "'''\n",
    "data_publishers_duplicate_count = pd.io.sql.read_sql(query, con=engine)\n",
    "data_publishers_duplicate_count"
   ]
  },
  {
   "cell_type": "markdown",
   "metadata": {},
   "source": [
    "Nuestra tabla `publishers` que contiene datos sobre editoriales, presenta las siguientes columnas:\n",
    "\n",
    "- `publisher_id`: identificación de la editorial\n",
    "- `publisher`: la editorial\n",
    "\n",
    "Además de ello, la tabla no presenta datos ausentes o duplicados"
   ]
  },
  {
   "cell_type": "markdown",
   "metadata": {},
   "source": [
    "## Resolución de ejercicios\n",
    "\n",
    "1. Encuentra el número de libros publicados después del 1 de enero de 2000.\n",
    "2. Encuentra el número de reseñas de usuarios y la calificación promedio para cada libro.\n",
    "3. Identifica la editorial que ha publicado el mayor número de libros con más de 50 páginas (esto te ayudará a excluir folletos y publicaciones similares de tu análisis).\n",
    "4. Identifica al autor que tiene la más alta calificación promedio del libro: mira solo los libros con al menos 50 calificaciones.\n",
    "5. Encuentra el número promedio de reseñas de texto entre los usuarios que calificaron más de 50 libros."
   ]
  },
  {
   "cell_type": "markdown",
   "metadata": {},
   "source": [
    "### Encuentra el número de libros publicados después del 1 de enero de 2000."
   ]
  },
  {
   "cell_type": "code",
   "execution_count": 19,
   "metadata": {
    "ExecuteTime": {
     "end_time": "2023-07-17T20:24:06.111911100Z",
     "start_time": "2023-07-17T20:24:04.598693100Z"
    }
   },
   "outputs": [
    {
     "data": {
      "text/plain": "   cnt\n0  819",
      "text/html": "<div>\n<style scoped>\n    .dataframe tbody tr th:only-of-type {\n        vertical-align: middle;\n    }\n\n    .dataframe tbody tr th {\n        vertical-align: top;\n    }\n\n    .dataframe thead th {\n        text-align: right;\n    }\n</style>\n<table border=\"1\" class=\"dataframe\">\n  <thead>\n    <tr style=\"text-align: right;\">\n      <th></th>\n      <th>cnt</th>\n    </tr>\n  </thead>\n  <tbody>\n    <tr>\n      <th>0</th>\n      <td>819</td>\n    </tr>\n  </tbody>\n</table>\n</div>"
     },
     "execution_count": 19,
     "metadata": {},
     "output_type": "execute_result"
    }
   ],
   "source": [
    "# Número de libros publicados después del 1 de enero del 2000\n",
    "query = '''\n",
    "SELECT\n",
    "    COUNT(*) AS cnt\n",
    "FROM\n",
    "    BOOKS\n",
    "WHERE\n",
    "    publication_date > '2000-01-01'\n",
    "'''\n",
    "exercise1 = pd.io.sql.read_sql(query, con=engine)\n",
    "exercise1"
   ]
  },
  {
   "cell_type": "markdown",
   "metadata": {},
   "source": [
    "Podemos ver que el número de libros publicados despues del 1 de enero del 2000 son 819"
   ]
  },
  {
   "cell_type": "markdown",
   "metadata": {},
   "source": [
    "### Encuentra el número de reseñas de usuarios y la calificación promedio para cada libro."
   ]
  },
  {
   "cell_type": "code",
   "execution_count": 20,
   "metadata": {
    "ExecuteTime": {
     "end_time": "2023-07-17T20:24:18.920280800Z",
     "start_time": "2023-07-17T20:24:16.365141500Z"
    }
   },
   "outputs": [
    {
     "data": {
      "text/plain": "      id                                          book_name  mean_rating  \\\n0    330  How to Be a Domestic Goddess: Baking and the A...         5.00   \n1    469                           Neil Gaiman's Neverwhere         5.00   \n2    136  Captivating: Unveiling the Mystery of a Woman'...         5.00   \n3    972  Wherever You Go  There You Are: Mindfulness Me...         5.00   \n4    642                 The Big Bad Wolf  (Alex Cross  #9)         5.00   \n..   ...                                                ...          ...   \n995  915  The World Is Flat: A Brief History of the Twen...         2.25   \n996  202                                      Drowning Ruth         2.00   \n997  371                                              Junky         2.00   \n998  316                  His Excellency: George Washington         2.00   \n999  303                               Harvesting the Heart         1.50   \n\n     count_reviews  \n0              1.0  \n1              2.0  \n2              2.0  \n3              2.0  \n4              2.0  \n..             ...  \n995            3.0  \n996            3.0  \n997            2.0  \n998            2.0  \n999            2.0  \n\n[1000 rows x 4 columns]",
      "text/html": "<div>\n<style scoped>\n    .dataframe tbody tr th:only-of-type {\n        vertical-align: middle;\n    }\n\n    .dataframe tbody tr th {\n        vertical-align: top;\n    }\n\n    .dataframe thead th {\n        text-align: right;\n    }\n</style>\n<table border=\"1\" class=\"dataframe\">\n  <thead>\n    <tr style=\"text-align: right;\">\n      <th></th>\n      <th>id</th>\n      <th>book_name</th>\n      <th>mean_rating</th>\n      <th>count_reviews</th>\n    </tr>\n  </thead>\n  <tbody>\n    <tr>\n      <th>0</th>\n      <td>330</td>\n      <td>How to Be a Domestic Goddess: Baking and the A...</td>\n      <td>5.00</td>\n      <td>1.0</td>\n    </tr>\n    <tr>\n      <th>1</th>\n      <td>469</td>\n      <td>Neil Gaiman's Neverwhere</td>\n      <td>5.00</td>\n      <td>2.0</td>\n    </tr>\n    <tr>\n      <th>2</th>\n      <td>136</td>\n      <td>Captivating: Unveiling the Mystery of a Woman'...</td>\n      <td>5.00</td>\n      <td>2.0</td>\n    </tr>\n    <tr>\n      <th>3</th>\n      <td>972</td>\n      <td>Wherever You Go  There You Are: Mindfulness Me...</td>\n      <td>5.00</td>\n      <td>2.0</td>\n    </tr>\n    <tr>\n      <th>4</th>\n      <td>642</td>\n      <td>The Big Bad Wolf  (Alex Cross  #9)</td>\n      <td>5.00</td>\n      <td>2.0</td>\n    </tr>\n    <tr>\n      <th>...</th>\n      <td>...</td>\n      <td>...</td>\n      <td>...</td>\n      <td>...</td>\n    </tr>\n    <tr>\n      <th>995</th>\n      <td>915</td>\n      <td>The World Is Flat: A Brief History of the Twen...</td>\n      <td>2.25</td>\n      <td>3.0</td>\n    </tr>\n    <tr>\n      <th>996</th>\n      <td>202</td>\n      <td>Drowning Ruth</td>\n      <td>2.00</td>\n      <td>3.0</td>\n    </tr>\n    <tr>\n      <th>997</th>\n      <td>371</td>\n      <td>Junky</td>\n      <td>2.00</td>\n      <td>2.0</td>\n    </tr>\n    <tr>\n      <th>998</th>\n      <td>316</td>\n      <td>His Excellency: George Washington</td>\n      <td>2.00</td>\n      <td>2.0</td>\n    </tr>\n    <tr>\n      <th>999</th>\n      <td>303</td>\n      <td>Harvesting the Heart</td>\n      <td>1.50</td>\n      <td>2.0</td>\n    </tr>\n  </tbody>\n</table>\n<p>1000 rows × 4 columns</p>\n</div>"
     },
     "execution_count": 20,
     "metadata": {},
     "output_type": "execute_result"
    }
   ],
   "source": [
    "# Número de reseñas de usuarios y la calificacion promedio de cada libro\n",
    "query = '''\n",
    "SELECT id,\n",
    "       book_name,\n",
    "       mean_rating,\n",
    "       count_reviews\n",
    "FROM\n",
    "  (SELECT ratings.book_id AS id,\n",
    "          books.title AS book_name,\n",
    "          AVG(ratings.rating) AS mean_rating\n",
    "   FROM ratings\n",
    "   INNER JOIN books ON books.book_id = ratings.book_id\n",
    "   GROUP BY id,\n",
    "            book_name) AS SUB1\n",
    "LEFT JOIN\n",
    "  (SELECT book_id,\n",
    "          COUNT(username) AS count_reviews\n",
    "   FROM reviews\n",
    "   GROUP BY book_id) AS SUB2 ON SUB1.id = SUB2.book_id\n",
    "ORDER BY mean_rating DESC;\n",
    "'''\n",
    "exercise2 = pd.io.sql.read_sql(query, con=engine)\n",
    "exercise2"
   ]
  },
  {
   "cell_type": "markdown",
   "metadata": {},
   "source": [
    "Como podemos observar, tenemos una tabla con la calificación promedio y número de reseñas por cada libro junto con su titulo. Por ejemplo, el libro de `Angels Fall` tiene una calificación media de 5.0 y un total de reviews de 2. Esto nos puede ayudar a ver los libros mejor rankeados y cuantas reviews podemos encontrar de ellos."
   ]
  },
  {
   "cell_type": "markdown",
   "metadata": {},
   "source": [
    "### Identifica la editorial que ha publicado el mayor número de libros con más de 50 páginas (esto te ayudará a excluir folletos y publicaciones similares de tu análisis)."
   ]
  },
  {
   "cell_type": "code",
   "execution_count": 21,
   "metadata": {
    "ExecuteTime": {
     "end_time": "2023-07-17T20:25:04.073977400Z",
     "start_time": "2023-07-17T20:25:02.476580Z"
    }
   },
   "outputs": [
    {
     "data": {
      "text/plain": "    id publisher_name  count_books\n0  212  Penguin Books           42",
      "text/html": "<div>\n<style scoped>\n    .dataframe tbody tr th:only-of-type {\n        vertical-align: middle;\n    }\n\n    .dataframe tbody tr th {\n        vertical-align: top;\n    }\n\n    .dataframe thead th {\n        text-align: right;\n    }\n</style>\n<table border=\"1\" class=\"dataframe\">\n  <thead>\n    <tr style=\"text-align: right;\">\n      <th></th>\n      <th>id</th>\n      <th>publisher_name</th>\n      <th>count_books</th>\n    </tr>\n  </thead>\n  <tbody>\n    <tr>\n      <th>0</th>\n      <td>212</td>\n      <td>Penguin Books</td>\n      <td>42</td>\n    </tr>\n  </tbody>\n</table>\n</div>"
     },
     "execution_count": 21,
     "metadata": {},
     "output_type": "execute_result"
    }
   ],
   "source": [
    "# Editorial que ha publicado mayor número de libros con más de 50 páginas\n",
    "query = '''\n",
    "SELECT SUB.publisher_id AS id,\n",
    "       publishers.publisher AS publisher_name,\n",
    "       COUNT(SUB.book_id) AS count_books\n",
    "FROM\n",
    "  (SELECT book_id,\n",
    "          publisher_id\n",
    "   FROM books\n",
    "   WHERE num_pages > 50) AS SUB\n",
    "INNER JOIN publishers ON publishers.publisher_id = SUB.publisher_id\n",
    "GROUP BY id,\n",
    "         publisher_name\n",
    "ORDER BY count_books DESC\n",
    "LIMIT 1\n",
    "'''\n",
    "exercise3 = pd.io.sql.read_sql(query, con=engine)\n",
    "exercise3"
   ]
  },
  {
   "cell_type": "markdown",
   "metadata": {},
   "source": [
    "De acuerdo a la consulta, podemos ver que la editorial Penguin Books es la que mayor número de libros ha publicado con 42 libros con más de 50 páginas. Un análisis posterior podria indicarnos el promedio de las reviews de los libros de la editorial"
   ]
  },
  {
   "cell_type": "markdown",
   "metadata": {},
   "source": [
    "### Identifica al autor que tiene la más alta calificación promedio del libro: mira solo los libros con al menos 50 calificaciones."
   ]
  },
  {
   "cell_type": "code",
   "execution_count": 22,
   "metadata": {
    "ExecuteTime": {
     "end_time": "2023-07-17T20:25:13.039298400Z",
     "start_time": "2023-07-17T20:25:11.367641200Z"
    }
   },
   "outputs": [
    {
     "data": {
      "text/plain": "   author_id                      author  avg_ratings\n0        236  J.K. Rowling/Mary GrandPré     4.283844",
      "text/html": "<div>\n<style scoped>\n    .dataframe tbody tr th:only-of-type {\n        vertical-align: middle;\n    }\n\n    .dataframe tbody tr th {\n        vertical-align: top;\n    }\n\n    .dataframe thead th {\n        text-align: right;\n    }\n</style>\n<table border=\"1\" class=\"dataframe\">\n  <thead>\n    <tr style=\"text-align: right;\">\n      <th></th>\n      <th>author_id</th>\n      <th>author</th>\n      <th>avg_ratings</th>\n    </tr>\n  </thead>\n  <tbody>\n    <tr>\n      <th>0</th>\n      <td>236</td>\n      <td>J.K. Rowling/Mary GrandPré</td>\n      <td>4.283844</td>\n    </tr>\n  </tbody>\n</table>\n</div>"
     },
     "execution_count": 22,
     "metadata": {},
     "output_type": "execute_result"
    }
   ],
   "source": [
    "# Autor con calificacion promedio más alta de libros con al menos 50 calificaciones\n",
    "query = '''\n",
    "SELECT books.author_id,\n",
    "       author,\n",
    "       AVG(avg_rating) AS avg_ratings\n",
    "FROM\n",
    "  (SELECT books.book_id AS id_book,\n",
    "          COUNT(rating_id) AS count_ratings,\n",
    "          AVG(rating) AS avg_rating\n",
    "   FROM ratings\n",
    "   INNER JOIN books ON books.book_id = ratings.book_id\n",
    "   GROUP BY id_book) AS SUB\n",
    "INNER JOIN books ON books.book_id = SUB.id_book\n",
    "INNER JOIN authors ON authors.author_id = books.author_id\n",
    "WHERE count_ratings >= 50\n",
    "GROUP BY books.author_id,\n",
    "         author\n",
    "ORDER BY avg_ratings DESC\n",
    "LIMIT 1\n",
    "'''\n",
    "\n",
    "exercise4 = pd.io.sql.read_sql(query, con=engine)\n",
    "exercise4"
   ]
  },
  {
   "cell_type": "markdown",
   "metadata": {},
   "source": [
    "Como podemos ver en la consulta, la autora J.K. Rowling es la autora con mejor calificacion promedio de sus libros con más de 50 calificaciones."
   ]
  },
  {
   "cell_type": "markdown",
   "metadata": {},
   "source": [
    "### Encuentra el número promedio de reseñas de texto entre los usuarios que calificaron más de 50 libros."
   ]
  },
  {
   "cell_type": "code",
   "execution_count": 23,
   "metadata": {
    "ExecuteTime": {
     "end_time": "2023-07-17T20:25:20.975410800Z",
     "start_time": "2023-07-17T20:25:19.182880600Z"
    }
   },
   "outputs": [
    {
     "data": {
      "text/plain": "   avg_reviews\n0    24.333333",
      "text/html": "<div>\n<style scoped>\n    .dataframe tbody tr th:only-of-type {\n        vertical-align: middle;\n    }\n\n    .dataframe tbody tr th {\n        vertical-align: top;\n    }\n\n    .dataframe thead th {\n        text-align: right;\n    }\n</style>\n<table border=\"1\" class=\"dataframe\">\n  <thead>\n    <tr style=\"text-align: right;\">\n      <th></th>\n      <th>avg_reviews</th>\n    </tr>\n  </thead>\n  <tbody>\n    <tr>\n      <th>0</th>\n      <td>24.333333</td>\n    </tr>\n  </tbody>\n</table>\n</div>"
     },
     "execution_count": 23,
     "metadata": {},
     "output_type": "execute_result"
    }
   ],
   "source": [
    "# Número promedio de reseñas de texto entre los usuarios que calificaron más de 50 libros\n",
    "query = '''\n",
    "SELECT AVG(count_reviews) AS avg_reviews\n",
    "FROM\n",
    "  (SELECT username,\n",
    "          count(rating) AS count_rating\n",
    "   FROM ratings\n",
    "   GROUP BY username) AS SUB\n",
    "INNER JOIN\n",
    "  (SELECT username,\n",
    "          COUNT(text) AS count_reviews\n",
    "   FROM reviews\n",
    "   GROUP BY username) AS SUB1 ON SUB.username = SUB1.username\n",
    "WHERE count_rating > 50\n",
    "'''\n",
    "\n",
    "exercise5 = pd.io.sql.read_sql(query, con=engine)\n",
    "exercise5"
   ]
  },
  {
   "cell_type": "markdown",
   "metadata": {},
   "source": [
    "Podemos ver por la consulta, que el numero promedio de reseñas de texto que realizan usuarios que califican más de 50 libros es 24.3, minimo el 50% de los libros que han calificado."
   ]
  },
  {
   "cell_type": "markdown",
   "metadata": {},
   "source": [
    "## Conclusiones generales\n",
    "\n",
    "En general, los resultados de nuestras consultas son los siguientes:\n",
    "- El total de libros publicados despues del 1 de enero del 200 son 819.\n",
    "- Se logro generar una tabla donde por cada libro se tiene su rating promedio y su número de reseñas de texto\n",
    "- La editorial con mayor número de libros mayores a 50 páginas es Penguin Books con 42\n",
    "- J.K. Rowling es la autora con mejor calificacion promedio (4.2) en libros con más de 50 calificaciones\n",
    "- El número promedio de reseñas de texto que realizan usuarios que califican más de 50 libros es de 24.3, minimo el 50% de los libros que han calificado"
   ]
  }
 ],
 "metadata": {
  "kernelspec": {
   "display_name": "Python 3 (ipykernel)",
   "language": "python",
   "name": "python3"
  },
  "language_info": {
   "codemirror_mode": {
    "name": "ipython",
    "version": 3
   },
   "file_extension": ".py",
   "mimetype": "text/x-python",
   "name": "python",
   "nbconvert_exporter": "python",
   "pygments_lexer": "ipython3",
   "version": "3.9.5"
  },
  "toc": {
   "base_numbering": 1,
   "nav_menu": {},
   "number_sections": true,
   "sideBar": true,
   "skip_h1_title": true,
   "title_cell": "Table of Contents",
   "title_sidebar": "Contents",
   "toc_cell": false,
   "toc_position": {},
   "toc_section_display": true,
   "toc_window_display": false
  }
 },
 "nbformat": 4,
 "nbformat_minor": 1
}
