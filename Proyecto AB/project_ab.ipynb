{
 "cells": [
  {
   "cell_type": "markdown",
   "source": [
    "# Proyecto AB\n",
    "\n",
    "Has recibido una tarea analítica de una tienda en línea internacional. Tus predecesores no consiguieron completarla: lanzaron una prueba A/B y luego abandonaron (para iniciar una granja de sandías en Brasil). Solo dejaron las especificaciones técnicas y los resultados de las pruebas.\n",
    "\n",
    "### Descripción técnica\n",
    "\n",
    "- Nombre de la prueba: `recommender_system_test`\n",
    "- Grupos: А (control), B (nuevo embudo de pago)\n",
    "- Launch date: 2020-12-07\n",
    "- Fecha en la que dejaron de aceptar nuevos usuarios: 2020-12-21\n",
    "- Fecha de finalización: 2021-01-01\n",
    "- Audiencia: 15% de los nuevos usuarios de la región de la UE\n",
    "- Propósito de la prueba: probar cambios relacionados con la introducción de un sistema de recomendaciones mejorado\n",
    "- Resultado esperado: dentro de los 14 días posteriores a la inscripción, los usuarios mostrarán una mejor conversión en vistas de la página del producto (el evento `product_page`), instancias de agregar artículos al carrito de compras (`product_card`) y compras (`purchase`). En cada etapa del embudo `product_page → product_card → purchase`, habrá al menos un 10% de aumento.\n",
    "- Número previsto de participantes de la prueba: 6,000\n",
    "\n",
    "\n",
    "Se deben realizar las siguientes tareas:\n",
    "\n",
    "- Describe los objetivos del estudio.\n",
    "- Explora los datos:\n",
    "    - ¿Es necesario convertir los tipos?\n",
    "    - ¿Hay valores ausentes o duplicados? Si es así, ¿cómo los caracterizarías?\n",
    "- Lleva a cabo el análisis exploratorio de datos\n",
    "    - Estudia la conversión en las diferentes etapas del embudo.\n",
    "    - Estudia la conversión en las diferentes etapas del embudo.\n",
    "    - ¿Hay usuarios que están presentes en ambas muestras?\n",
    "    - ¿Cómo se distribuye el número de eventos entre los días?\n",
    "    - ¿Hay alguna peculiaridad en los datos que hay que tener en cuenta antes de iniciar la prueba A/B?\n",
    "- Evaluar los resultados de la prueba A/B:\n",
    "    - Evaluar los resultados de la prueba A/B:\n",
    "    - Utiliza una prueba z para comprobar la diferencia estadística entre las proporciones\n",
    "- Describe tus conclusiones con respecto a la etapa EDA y los resultados de la prueba A/B"
   ],
   "metadata": {
    "collapsed": false
   }
  },
  {
   "cell_type": "code",
   "execution_count": 1,
   "outputs": [],
   "source": [
    "# Librerias\n",
    "import pandas as pd\n",
    "import numpy as np\n",
    "import matplotlib.pyplot as plt\n",
    "import seaborn as sns\n",
    "from scipy import stats as st\n",
    "import math as mth"
   ],
   "metadata": {
    "collapsed": false,
    "ExecuteTime": {
     "end_time": "2023-07-09T21:57:31.024261500Z",
     "start_time": "2023-07-09T21:57:30.622276400Z"
    }
   }
  },
  {
   "cell_type": "markdown",
   "source": [
    "## Tabla de contenidos <a id='back'></a>\n",
    "\n",
    "1. [Descarga de datos y preparación](#descarga_datos)\n",
    "2. [Análisis exploratorio de datos (EDA)](#eda)\n",
    "3. [Evaluación de los resultados de la prueba A/B](#resultados)\n",
    "4. [Conclusiones generales y recomendaciones](#conclusiones)"
   ],
   "metadata": {
    "collapsed": false
   }
  },
  {
   "cell_type": "markdown",
   "source": [
    "## Descarga de datos y preparación <a id=\"descarga_datos\"></a>\n",
    "\n",
    "Vamos a cargar los datos de los siguientes datasets:\n",
    "\n",
    "- `ab_project_marketing_events_us.csv`\n",
    "- `final_ab_events_upd_us.csv`\n",
    "- `final_ab_new_users_upd_us.csv`\n",
    "- `final_ab_participants_upd_us.csv`"
   ],
   "metadata": {
    "collapsed": false
   }
  },
  {
   "cell_type": "markdown",
   "source": [
    "### Descarga y revision general de los datos"
   ],
   "metadata": {
    "collapsed": false
   }
  },
  {
   "cell_type": "code",
   "execution_count": 2,
   "outputs": [
    {
     "name": "stdout",
     "output_type": "stream",
     "text": [
      "                           name                   regions    start_dt  \\\n",
      "0      Christmas&New Year Promo             EU, N.America  2020-12-25   \n",
      "1  St. Valentine's Day Giveaway  EU, CIS, APAC, N.America  2020-02-14   \n",
      "2        St. Patric's Day Promo             EU, N.America  2020-03-17   \n",
      "3                  Easter Promo  EU, CIS, APAC, N.America  2020-04-12   \n",
      "4             4th of July Promo                 N.America  2020-07-04   \n",
      "\n",
      "    finish_dt  \n",
      "0  2021-01-03  \n",
      "1  2020-02-16  \n",
      "2  2020-03-19  \n",
      "3  2020-04-19  \n",
      "4  2020-07-11  \n",
      "\n",
      "            user_id  first_date     region   device\n",
      "0  D72A72121175D8BE  2020-12-07         EU       PC\n",
      "1  F1C668619DFE6E65  2020-12-07  N.America  Android\n",
      "2  2E1BF1D4C37EA01F  2020-12-07         EU       PC\n",
      "3  50734A22C0C63768  2020-12-07         EU   iPhone\n",
      "4  E1BDDCE0DAFA2679  2020-12-07  N.America   iPhone\n",
      "\n",
      "            user_id             event_dt event_name  details\n",
      "0  E1BDDCE0DAFA2679  2020-12-07 20:22:03   purchase    99.99\n",
      "1  7B6452F081F49504  2020-12-07 09:22:53   purchase     9.99\n",
      "2  9CD9F34546DF254C  2020-12-07 12:59:29   purchase     4.99\n",
      "3  96F27A054B191457  2020-12-07 04:02:40   purchase     4.99\n",
      "4  1FD7660FDF94CA1F  2020-12-07 10:15:09   purchase     4.99\n",
      "\n",
      "            user_id group                  ab_test\n",
      "0  D1ABA3E2887B6A73     A  recommender_system_test\n",
      "1  A7A3664BD6242119     A  recommender_system_test\n",
      "2  DABC14FDDFADD29E     A  recommender_system_test\n",
      "3  04988C5DF189632E     A  recommender_system_test\n",
      "4  4FF2998A348C484F     A  recommender_system_test\n"
     ]
    }
   ],
   "source": [
    "# Carga de los archivos de datos\n",
    "data_marketing_events = pd.read_csv('data/ab_project_marketing_events_us.csv')\n",
    "data_new_users = pd.read_csv('data/final_ab_new_users_upd_us.csv')\n",
    "data_events = pd.read_csv('data/final_ab_events_upd_us.csv')\n",
    "data_participants = pd.read_csv('data/final_ab_participants_upd_us.csv')\n",
    "\n",
    "# Verificamos que se hayan cargado los datos correctamente\n",
    "print(data_marketing_events.head())\n",
    "print()\n",
    "print(data_new_users.head())\n",
    "print()\n",
    "print(data_events.head())\n",
    "print()\n",
    "print(data_participants.head())"
   ],
   "metadata": {
    "collapsed": false,
    "ExecuteTime": {
     "end_time": "2023-07-09T21:57:31.356257700Z",
     "start_time": "2023-07-09T21:57:30.652248400Z"
    }
   }
  },
  {
   "cell_type": "markdown",
   "source": [
    "Vamos a estudiar los datos que contiene nuestros dataset y verificar que los tipos de datos sean correctos para nuestro análisis"
   ],
   "metadata": {
    "collapsed": false
   }
  },
  {
   "cell_type": "markdown",
   "source": [
    "#### Primer dataset `data_marketing_events`"
   ],
   "metadata": {
    "collapsed": false
   }
  },
  {
   "cell_type": "code",
   "execution_count": 3,
   "outputs": [
    {
     "name": "stdout",
     "output_type": "stream",
     "text": [
      "<class 'pandas.core.frame.DataFrame'>\n",
      "RangeIndex: 14 entries, 0 to 13\n",
      "Data columns (total 4 columns):\n",
      " #   Column     Non-Null Count  Dtype \n",
      "---  ------     --------------  ----- \n",
      " 0   name       14 non-null     object\n",
      " 1   regions    14 non-null     object\n",
      " 2   start_dt   14 non-null     object\n",
      " 3   finish_dt  14 non-null     object\n",
      "dtypes: object(4)\n",
      "memory usage: 576.0+ bytes\n"
     ]
    }
   ],
   "source": [
    "# Imprimimos la información general/resumen sobre nuestro dataset\n",
    "data_marketing_events.info()"
   ],
   "metadata": {
    "collapsed": false,
    "ExecuteTime": {
     "end_time": "2023-07-09T21:57:31.357257300Z",
     "start_time": "2023-07-09T21:57:31.318272100Z"
    }
   }
  },
  {
   "cell_type": "code",
   "execution_count": 4,
   "outputs": [
    {
     "data": {
      "text/plain": "                           name                   regions    start_dt  \\\n0      Christmas&New Year Promo             EU, N.America  2020-12-25   \n1  St. Valentine's Day Giveaway  EU, CIS, APAC, N.America  2020-02-14   \n2        St. Patric's Day Promo             EU, N.America  2020-03-17   \n3                  Easter Promo  EU, CIS, APAC, N.America  2020-04-12   \n4             4th of July Promo                 N.America  2020-07-04   \n\n    finish_dt  \n0  2021-01-03  \n1  2020-02-16  \n2  2020-03-19  \n3  2020-04-19  \n4  2020-07-11  ",
      "text/html": "<div>\n<style scoped>\n    .dataframe tbody tr th:only-of-type {\n        vertical-align: middle;\n    }\n\n    .dataframe tbody tr th {\n        vertical-align: top;\n    }\n\n    .dataframe thead th {\n        text-align: right;\n    }\n</style>\n<table border=\"1\" class=\"dataframe\">\n  <thead>\n    <tr style=\"text-align: right;\">\n      <th></th>\n      <th>name</th>\n      <th>regions</th>\n      <th>start_dt</th>\n      <th>finish_dt</th>\n    </tr>\n  </thead>\n  <tbody>\n    <tr>\n      <th>0</th>\n      <td>Christmas&amp;New Year Promo</td>\n      <td>EU, N.America</td>\n      <td>2020-12-25</td>\n      <td>2021-01-03</td>\n    </tr>\n    <tr>\n      <th>1</th>\n      <td>St. Valentine's Day Giveaway</td>\n      <td>EU, CIS, APAC, N.America</td>\n      <td>2020-02-14</td>\n      <td>2020-02-16</td>\n    </tr>\n    <tr>\n      <th>2</th>\n      <td>St. Patric's Day Promo</td>\n      <td>EU, N.America</td>\n      <td>2020-03-17</td>\n      <td>2020-03-19</td>\n    </tr>\n    <tr>\n      <th>3</th>\n      <td>Easter Promo</td>\n      <td>EU, CIS, APAC, N.America</td>\n      <td>2020-04-12</td>\n      <td>2020-04-19</td>\n    </tr>\n    <tr>\n      <th>4</th>\n      <td>4th of July Promo</td>\n      <td>N.America</td>\n      <td>2020-07-04</td>\n      <td>2020-07-11</td>\n    </tr>\n  </tbody>\n</table>\n</div>"
     },
     "execution_count": 4,
     "metadata": {},
     "output_type": "execute_result"
    }
   ],
   "source": [
    "# Imprimos una muestra del dataset\n",
    "data_marketing_events.head()"
   ],
   "metadata": {
    "collapsed": false,
    "ExecuteTime": {
     "end_time": "2023-07-09T21:57:31.392250500Z",
     "start_time": "2023-07-09T21:57:31.334258700Z"
    }
   }
  },
  {
   "cell_type": "markdown",
   "source": [
    "Nuestro dataset `data_marketing_events` que son los datos del calendario de eventos de marketing para 2020, contiene los siguientes datos:\n",
    "- `name`: nombre del evento de marketing\n",
    "- `regions`: regiones donde se llevará a cabo la campaña publicitaria\n",
    "- `start_dt`: fecha de inicio de la campaña\n",
    "- `end_dt`: fecha de finalización de la campaña"
   ],
   "metadata": {
    "collapsed": false
   }
  },
  {
   "cell_type": "code",
   "execution_count": 5,
   "outputs": [
    {
     "name": "stdout",
     "output_type": "stream",
     "text": [
      "Datos duplicados en la columna name del dataset: 0\n",
      "Datos duplicados en el dataset: 0\n"
     ]
    }
   ],
   "source": [
    "# Verificamos que no haya datos duplicados en el dataset\n",
    "print('Datos duplicados en la columna name del dataset:', data_marketing_events['name'].duplicated().sum())\n",
    "print('Datos duplicados en el dataset:', data_marketing_events.duplicated().sum())"
   ],
   "metadata": {
    "collapsed": false,
    "ExecuteTime": {
     "end_time": "2023-07-09T21:57:31.440252900Z",
     "start_time": "2023-07-09T21:57:31.392250500Z"
    }
   }
  },
  {
   "cell_type": "markdown",
   "source": [
    "##### Conclusiones del dataset\n",
    "\n",
    "Al ver la muestra y resumen del dataset, no encontramos duplicados ni ausentes. Sin embargo, vemos necesario ajustar el tipo de las columnas `start_dt` y `finish_dt` de object a datetime para poder hacer operaciones de tiempo con ellas"
   ],
   "metadata": {
    "collapsed": false
   }
  },
  {
   "cell_type": "markdown",
   "source": [
    "#### Segundo dataset `data_new_users`"
   ],
   "metadata": {
    "collapsed": false
   }
  },
  {
   "cell_type": "code",
   "execution_count": 6,
   "outputs": [
    {
     "name": "stdout",
     "output_type": "stream",
     "text": [
      "<class 'pandas.core.frame.DataFrame'>\n",
      "RangeIndex: 58703 entries, 0 to 58702\n",
      "Data columns (total 4 columns):\n",
      " #   Column      Non-Null Count  Dtype \n",
      "---  ------      --------------  ----- \n",
      " 0   user_id     58703 non-null  object\n",
      " 1   first_date  58703 non-null  object\n",
      " 2   region      58703 non-null  object\n",
      " 3   device      58703 non-null  object\n",
      "dtypes: object(4)\n",
      "memory usage: 1.8+ MB\n"
     ]
    }
   ],
   "source": [
    "# Imprimimos la información general/resumen sobre nuestro dataset\n",
    "data_new_users.info()"
   ],
   "metadata": {
    "collapsed": false,
    "ExecuteTime": {
     "end_time": "2023-07-09T21:57:31.442259700Z",
     "start_time": "2023-07-09T21:57:31.392250500Z"
    }
   }
  },
  {
   "cell_type": "code",
   "execution_count": 7,
   "outputs": [
    {
     "data": {
      "text/plain": "            user_id  first_date     region   device\n0  D72A72121175D8BE  2020-12-07         EU       PC\n1  F1C668619DFE6E65  2020-12-07  N.America  Android\n2  2E1BF1D4C37EA01F  2020-12-07         EU       PC\n3  50734A22C0C63768  2020-12-07         EU   iPhone\n4  E1BDDCE0DAFA2679  2020-12-07  N.America   iPhone",
      "text/html": "<div>\n<style scoped>\n    .dataframe tbody tr th:only-of-type {\n        vertical-align: middle;\n    }\n\n    .dataframe tbody tr th {\n        vertical-align: top;\n    }\n\n    .dataframe thead th {\n        text-align: right;\n    }\n</style>\n<table border=\"1\" class=\"dataframe\">\n  <thead>\n    <tr style=\"text-align: right;\">\n      <th></th>\n      <th>user_id</th>\n      <th>first_date</th>\n      <th>region</th>\n      <th>device</th>\n    </tr>\n  </thead>\n  <tbody>\n    <tr>\n      <th>0</th>\n      <td>D72A72121175D8BE</td>\n      <td>2020-12-07</td>\n      <td>EU</td>\n      <td>PC</td>\n    </tr>\n    <tr>\n      <th>1</th>\n      <td>F1C668619DFE6E65</td>\n      <td>2020-12-07</td>\n      <td>N.America</td>\n      <td>Android</td>\n    </tr>\n    <tr>\n      <th>2</th>\n      <td>2E1BF1D4C37EA01F</td>\n      <td>2020-12-07</td>\n      <td>EU</td>\n      <td>PC</td>\n    </tr>\n    <tr>\n      <th>3</th>\n      <td>50734A22C0C63768</td>\n      <td>2020-12-07</td>\n      <td>EU</td>\n      <td>iPhone</td>\n    </tr>\n    <tr>\n      <th>4</th>\n      <td>E1BDDCE0DAFA2679</td>\n      <td>2020-12-07</td>\n      <td>N.America</td>\n      <td>iPhone</td>\n    </tr>\n  </tbody>\n</table>\n</div>"
     },
     "execution_count": 7,
     "metadata": {},
     "output_type": "execute_result"
    }
   ],
   "source": [
    "# Imprimos una muestra del dataset\n",
    "data_new_users.head()"
   ],
   "metadata": {
    "collapsed": false,
    "ExecuteTime": {
     "end_time": "2023-07-09T21:57:31.486251700Z",
     "start_time": "2023-07-09T21:57:31.429247900Z"
    }
   }
  },
  {
   "cell_type": "markdown",
   "source": [
    "Nuestro dataset `data_new_users` que son los datos de todos los usuarios que se registraron en la tienda en línea desde el 7 hasta el 21 de diciembre de 2020:\n",
    "- `user_id`: id del usuario\n",
    "- `first_date`: fecha de inscripción\n",
    "- `region`: region a la que pertenece\n",
    "- `end_dt`: dispositivo utilizado para la inscripción"
   ],
   "metadata": {
    "collapsed": false
   }
  },
  {
   "cell_type": "code",
   "execution_count": 8,
   "outputs": [
    {
     "name": "stdout",
     "output_type": "stream",
     "text": [
      "Datos duplicados en la columna user_id del dataset: 0\n",
      "Datos duplicados en el dataset: 0\n"
     ]
    }
   ],
   "source": [
    "# Verificamos que no haya datos duplicados en el dataset\n",
    "print('Datos duplicados en la columna user_id del dataset:', data_new_users['user_id'].duplicated().sum())\n",
    "print('Datos duplicados en el dataset:', data_new_users.duplicated().sum())"
   ],
   "metadata": {
    "collapsed": false,
    "ExecuteTime": {
     "end_time": "2023-07-09T21:57:31.654255100Z",
     "start_time": "2023-07-09T21:57:31.446252Z"
    }
   }
  },
  {
   "cell_type": "markdown",
   "source": [
    "##### Conclusiones del dataset\n",
    "\n",
    "Al ver la muestra y resumen del dataset, no encontramos duplicados ni ausentes. Sin embargo, vemos necesario ajustar el tipo de la columna `first_date` de object a datetime para poder hacer operaciones de tiempo con ellas"
   ],
   "metadata": {
    "collapsed": false
   }
  },
  {
   "cell_type": "markdown",
   "source": [
    "#### Tercer dataset `data_events`"
   ],
   "metadata": {
    "collapsed": false
   }
  },
  {
   "cell_type": "code",
   "execution_count": 9,
   "outputs": [
    {
     "name": "stdout",
     "output_type": "stream",
     "text": [
      "<class 'pandas.core.frame.DataFrame'>\n",
      "RangeIndex: 423761 entries, 0 to 423760\n",
      "Data columns (total 4 columns):\n",
      " #   Column      Non-Null Count   Dtype  \n",
      "---  ------      --------------   -----  \n",
      " 0   user_id     423761 non-null  object \n",
      " 1   event_dt    423761 non-null  object \n",
      " 2   event_name  423761 non-null  object \n",
      " 3   details     60314 non-null   float64\n",
      "dtypes: float64(1), object(3)\n",
      "memory usage: 12.9+ MB\n"
     ]
    }
   ],
   "source": [
    "# Imprimimos la información general/resumen sobre nuestro dataset\n",
    "data_events.info()"
   ],
   "metadata": {
    "collapsed": false,
    "ExecuteTime": {
     "end_time": "2023-07-09T21:57:31.834256400Z",
     "start_time": "2023-07-09T21:57:31.497247200Z"
    }
   }
  },
  {
   "cell_type": "code",
   "execution_count": 10,
   "outputs": [
    {
     "data": {
      "text/plain": "            user_id             event_dt event_name  details\n0  E1BDDCE0DAFA2679  2020-12-07 20:22:03   purchase    99.99\n1  7B6452F081F49504  2020-12-07 09:22:53   purchase     9.99\n2  9CD9F34546DF254C  2020-12-07 12:59:29   purchase     4.99\n3  96F27A054B191457  2020-12-07 04:02:40   purchase     4.99\n4  1FD7660FDF94CA1F  2020-12-07 10:15:09   purchase     4.99",
      "text/html": "<div>\n<style scoped>\n    .dataframe tbody tr th:only-of-type {\n        vertical-align: middle;\n    }\n\n    .dataframe tbody tr th {\n        vertical-align: top;\n    }\n\n    .dataframe thead th {\n        text-align: right;\n    }\n</style>\n<table border=\"1\" class=\"dataframe\">\n  <thead>\n    <tr style=\"text-align: right;\">\n      <th></th>\n      <th>user_id</th>\n      <th>event_dt</th>\n      <th>event_name</th>\n      <th>details</th>\n    </tr>\n  </thead>\n  <tbody>\n    <tr>\n      <th>0</th>\n      <td>E1BDDCE0DAFA2679</td>\n      <td>2020-12-07 20:22:03</td>\n      <td>purchase</td>\n      <td>99.99</td>\n    </tr>\n    <tr>\n      <th>1</th>\n      <td>7B6452F081F49504</td>\n      <td>2020-12-07 09:22:53</td>\n      <td>purchase</td>\n      <td>9.99</td>\n    </tr>\n    <tr>\n      <th>2</th>\n      <td>9CD9F34546DF254C</td>\n      <td>2020-12-07 12:59:29</td>\n      <td>purchase</td>\n      <td>4.99</td>\n    </tr>\n    <tr>\n      <th>3</th>\n      <td>96F27A054B191457</td>\n      <td>2020-12-07 04:02:40</td>\n      <td>purchase</td>\n      <td>4.99</td>\n    </tr>\n    <tr>\n      <th>4</th>\n      <td>1FD7660FDF94CA1F</td>\n      <td>2020-12-07 10:15:09</td>\n      <td>purchase</td>\n      <td>4.99</td>\n    </tr>\n  </tbody>\n</table>\n</div>"
     },
     "execution_count": 10,
     "metadata": {},
     "output_type": "execute_result"
    }
   ],
   "source": [
    "# Imprimos una muestra del dataset\n",
    "data_events.head()"
   ],
   "metadata": {
    "collapsed": false,
    "ExecuteTime": {
     "end_time": "2023-07-09T21:57:31.836259800Z",
     "start_time": "2023-07-09T21:57:31.697246400Z"
    }
   }
  },
  {
   "cell_type": "markdown",
   "source": [
    "Nuestro dataset `data_events` que son los datos de todos los eventos de los nuevos usuarios en el período comprendido entre el 7 de diciembre de 2020 y el 1 de enero de 2021:\n",
    "- `user_id`: id del usuario\n",
    "- `event_dt`: fecha y hora del evento\n",
    "- `event_name`: nombre del tipo de evento\n",
    "- `details`: datos adicionales sobre el evento (por ejemplo, el pedido total en USD para los eventos purchase)"
   ],
   "metadata": {
    "collapsed": false
   }
  },
  {
   "cell_type": "code",
   "execution_count": 11,
   "outputs": [
    {
     "name": "stdout",
     "output_type": "stream",
     "text": [
      "Datos duplicados en el dataset: 0\n"
     ]
    }
   ],
   "source": [
    "# Verificamos que no haya datos duplicados en el dataset\n",
    "print('Datos duplicados en el dataset:', data_events.duplicated().sum())"
   ],
   "metadata": {
    "collapsed": false,
    "ExecuteTime": {
     "end_time": "2023-07-09T21:57:32.078255Z",
     "start_time": "2023-07-09T21:57:31.717271100Z"
    }
   }
  },
  {
   "cell_type": "markdown",
   "source": [
    "##### Conclusiones del dataset\n",
    "\n",
    "Al ver la muestra y resumen del dataset, no encontramos duplicados. Sin embargo, se noto que en la columna `details` existen bastantes datos vacios; esto puede ser debido a que solo los eventos purchase generan informacion extra para details, es necesario hacer una investigación a fondo de ellos. Por último, vemos necesario ajustar el tipo de la columna `event_dt` de object a datetime para poder hacer operaciones de tiempo con ellas"
   ],
   "metadata": {
    "collapsed": false
   }
  },
  {
   "cell_type": "markdown",
   "source": [
    "#### Cuarto dataset `data_participants`"
   ],
   "metadata": {
    "collapsed": false
   }
  },
  {
   "cell_type": "code",
   "execution_count": 12,
   "outputs": [
    {
     "name": "stdout",
     "output_type": "stream",
     "text": [
      "<class 'pandas.core.frame.DataFrame'>\n",
      "RangeIndex: 14525 entries, 0 to 14524\n",
      "Data columns (total 3 columns):\n",
      " #   Column   Non-Null Count  Dtype \n",
      "---  ------   --------------  ----- \n",
      " 0   user_id  14525 non-null  object\n",
      " 1   group    14525 non-null  object\n",
      " 2   ab_test  14525 non-null  object\n",
      "dtypes: object(3)\n",
      "memory usage: 340.6+ KB\n"
     ]
    }
   ],
   "source": [
    "# Imprimimos la información general/resumen sobre nuestro dataset\n",
    "data_participants.info()"
   ],
   "metadata": {
    "collapsed": false,
    "ExecuteTime": {
     "end_time": "2023-07-09T21:57:32.120257500Z",
     "start_time": "2023-07-09T21:57:32.049250Z"
    }
   }
  },
  {
   "cell_type": "code",
   "execution_count": 13,
   "outputs": [
    {
     "data": {
      "text/plain": "            user_id group                  ab_test\n0  D1ABA3E2887B6A73     A  recommender_system_test\n1  A7A3664BD6242119     A  recommender_system_test\n2  DABC14FDDFADD29E     A  recommender_system_test\n3  04988C5DF189632E     A  recommender_system_test\n4  4FF2998A348C484F     A  recommender_system_test",
      "text/html": "<div>\n<style scoped>\n    .dataframe tbody tr th:only-of-type {\n        vertical-align: middle;\n    }\n\n    .dataframe tbody tr th {\n        vertical-align: top;\n    }\n\n    .dataframe thead th {\n        text-align: right;\n    }\n</style>\n<table border=\"1\" class=\"dataframe\">\n  <thead>\n    <tr style=\"text-align: right;\">\n      <th></th>\n      <th>user_id</th>\n      <th>group</th>\n      <th>ab_test</th>\n    </tr>\n  </thead>\n  <tbody>\n    <tr>\n      <th>0</th>\n      <td>D1ABA3E2887B6A73</td>\n      <td>A</td>\n      <td>recommender_system_test</td>\n    </tr>\n    <tr>\n      <th>1</th>\n      <td>A7A3664BD6242119</td>\n      <td>A</td>\n      <td>recommender_system_test</td>\n    </tr>\n    <tr>\n      <th>2</th>\n      <td>DABC14FDDFADD29E</td>\n      <td>A</td>\n      <td>recommender_system_test</td>\n    </tr>\n    <tr>\n      <th>3</th>\n      <td>04988C5DF189632E</td>\n      <td>A</td>\n      <td>recommender_system_test</td>\n    </tr>\n    <tr>\n      <th>4</th>\n      <td>4FF2998A348C484F</td>\n      <td>A</td>\n      <td>recommender_system_test</td>\n    </tr>\n  </tbody>\n</table>\n</div>"
     },
     "execution_count": 13,
     "metadata": {},
     "output_type": "execute_result"
    }
   ],
   "source": [
    "# Imprimos una muestra del dataset\n",
    "data_participants.head()"
   ],
   "metadata": {
    "collapsed": false,
    "ExecuteTime": {
     "end_time": "2023-07-09T21:57:32.121254600Z",
     "start_time": "2023-07-09T21:57:32.079249200Z"
    }
   }
  },
  {
   "cell_type": "markdown",
   "source": [
    "Nuestro dataset `data_participants` que son los datos de los participantes de la prueba:\n",
    "- `user_id`: id del usuario\n",
    "- `ab_test`: nombre de la prueba\n",
    "- `group`: el grupo de prueba al que pertenecía el usuario"
   ],
   "metadata": {
    "collapsed": false
   }
  },
  {
   "cell_type": "code",
   "execution_count": 14,
   "outputs": [
    {
     "name": "stdout",
     "output_type": "stream",
     "text": [
      "Datos duplicados en la columna user_id del dataset: 887\n",
      "Datos duplicados en el dataset: 0\n"
     ]
    }
   ],
   "source": [
    "# Verificamos que no haya datos duplicados en el dataset\n",
    "print('Datos duplicados en la columna user_id del dataset:', data_participants['user_id'].duplicated().sum())\n",
    "print('Datos duplicados en el dataset:', data_participants.duplicated().sum())"
   ],
   "metadata": {
    "collapsed": false,
    "ExecuteTime": {
     "end_time": "2023-07-09T21:57:32.122245100Z",
     "start_time": "2023-07-09T21:57:32.095254600Z"
    }
   }
  },
  {
   "cell_type": "markdown",
   "source": [
    "##### Conclusiones del dataset\n",
    "\n",
    "Al ver la muestra y resumen del dataset, no encontramos datos ausentes. Sin embargo, se noto que en la columna `user_id` existen 887 usuarios repetidos; esto puede ser debido a que estos usuarios participaron en otras pruebas, sin embargo es necesario investigar más a fondo."
   ],
   "metadata": {
    "collapsed": false
   }
  },
  {
   "cell_type": "markdown",
   "source": [
    "### Preparación y procesamiento de los datos"
   ],
   "metadata": {
    "collapsed": false
   }
  },
  {
   "cell_type": "code",
   "execution_count": 15,
   "outputs": [
    {
     "name": "stdout",
     "output_type": "stream",
     "text": [
      "<class 'pandas.core.frame.DataFrame'>\n",
      "RangeIndex: 14 entries, 0 to 13\n",
      "Data columns (total 4 columns):\n",
      " #   Column     Non-Null Count  Dtype         \n",
      "---  ------     --------------  -----         \n",
      " 0   name       14 non-null     object        \n",
      " 1   regions    14 non-null     object        \n",
      " 2   start_dt   14 non-null     datetime64[ns]\n",
      " 3   finish_dt  14 non-null     datetime64[ns]\n",
      "dtypes: datetime64[ns](2), object(2)\n",
      "memory usage: 576.0+ bytes\n",
      "None\n",
      "\n",
      "                           name                   regions   start_dt  \\\n",
      "0      Christmas&New Year Promo             EU, N.America 2020-12-25   \n",
      "1  St. Valentine's Day Giveaway  EU, CIS, APAC, N.America 2020-02-14   \n",
      "2        St. Patric's Day Promo             EU, N.America 2020-03-17   \n",
      "3                  Easter Promo  EU, CIS, APAC, N.America 2020-04-12   \n",
      "4             4th of July Promo                 N.America 2020-07-04   \n",
      "\n",
      "   finish_dt  \n",
      "0 2021-01-03  \n",
      "1 2020-02-16  \n",
      "2 2020-03-19  \n",
      "3 2020-04-19  \n",
      "4 2020-07-11  \n"
     ]
    }
   ],
   "source": [
    "## Ajustes del primer dataset\n",
    "\n",
    "# Ajustamos las columnas start_dt y finish_dt\n",
    "data_marketing_events['start_dt'] = pd.to_datetime(data_marketing_events['start_dt'])\n",
    "data_marketing_events['finish_dt'] = pd.to_datetime(data_marketing_events['finish_dt'])\n",
    "\n",
    "# Verificamos el cambio\n",
    "print(data_marketing_events.info())\n",
    "print()\n",
    "print(data_marketing_events.head())"
   ],
   "metadata": {
    "collapsed": false,
    "ExecuteTime": {
     "end_time": "2023-07-09T21:57:32.216250800Z",
     "start_time": "2023-07-09T21:57:32.110258300Z"
    }
   }
  },
  {
   "cell_type": "code",
   "execution_count": 16,
   "outputs": [
    {
     "name": "stdout",
     "output_type": "stream",
     "text": [
      "<class 'pandas.core.frame.DataFrame'>\n",
      "RangeIndex: 58703 entries, 0 to 58702\n",
      "Data columns (total 4 columns):\n",
      " #   Column      Non-Null Count  Dtype         \n",
      "---  ------      --------------  -----         \n",
      " 0   user_id     58703 non-null  object        \n",
      " 1   first_date  58703 non-null  datetime64[ns]\n",
      " 2   region      58703 non-null  object        \n",
      " 3   device      58703 non-null  object        \n",
      "dtypes: datetime64[ns](1), object(3)\n",
      "memory usage: 1.8+ MB\n",
      "None\n",
      "\n",
      "            user_id first_date     region   device\n",
      "0  D72A72121175D8BE 2020-12-07         EU       PC\n",
      "1  F1C668619DFE6E65 2020-12-07  N.America  Android\n",
      "2  2E1BF1D4C37EA01F 2020-12-07         EU       PC\n",
      "3  50734A22C0C63768 2020-12-07         EU   iPhone\n",
      "4  E1BDDCE0DAFA2679 2020-12-07  N.America   iPhone\n"
     ]
    }
   ],
   "source": [
    "## Ajustes del segundo dataset\n",
    "\n",
    "# Ajustamos las columnas first_date\n",
    "data_new_users['first_date'] = pd.to_datetime(data_new_users['first_date'])\n",
    "\n",
    "# Verificamos el cambio\n",
    "print(data_new_users.info())\n",
    "print()\n",
    "print(data_new_users.head())"
   ],
   "metadata": {
    "collapsed": false,
    "ExecuteTime": {
     "end_time": "2023-07-09T21:57:32.301252100Z",
     "start_time": "2023-07-09T21:57:32.142245200Z"
    }
   }
  },
  {
   "cell_type": "code",
   "execution_count": 17,
   "outputs": [
    {
     "name": "stdout",
     "output_type": "stream",
     "text": [
      "['purchase' 'product_cart' 'product_page' 'login']\n"
     ]
    },
    {
     "data": {
      "text/plain": "event_name\nlogin               0\nproduct_cart        0\nproduct_page        0\npurchase        60314\nName: details, dtype: int64"
     },
     "execution_count": 17,
     "metadata": {},
     "output_type": "execute_result"
    }
   ],
   "source": [
    "## Ajustes del tercer dataset\n",
    "\n",
    "# Verificamos los datos ausentes de la columna details con la columna event_name\n",
    "# Vemos las diferentes opciones que tiene event_name\n",
    "print(data_events['event_name'].unique())\n",
    "# Verificamos si las diferentes opciones tiene datos vacios en la columna details\n",
    "data_events.groupby('event_name')['details'].count()"
   ],
   "metadata": {
    "collapsed": false,
    "ExecuteTime": {
     "end_time": "2023-07-09T21:57:32.414255500Z",
     "start_time": "2023-07-09T21:57:32.216250800Z"
    }
   }
  },
  {
   "cell_type": "markdown",
   "source": [
    "Como podemos ver, el evento purchase es el unico que tiene datos en `details`, los demás eventos no necesitan agregar detalles. Una vez verificado esto, podemos dejar los datos vacios ya que no afectara a los calculos de nuestra columna."
   ],
   "metadata": {
    "collapsed": false
   }
  },
  {
   "cell_type": "code",
   "execution_count": 18,
   "outputs": [
    {
     "name": "stdout",
     "output_type": "stream",
     "text": [
      "<class 'pandas.core.frame.DataFrame'>\n",
      "RangeIndex: 423761 entries, 0 to 423760\n",
      "Data columns (total 4 columns):\n",
      " #   Column      Non-Null Count   Dtype         \n",
      "---  ------      --------------   -----         \n",
      " 0   user_id     423761 non-null  object        \n",
      " 1   event_dt    423761 non-null  datetime64[ns]\n",
      " 2   event_name  423761 non-null  object        \n",
      " 3   details     60314 non-null   float64       \n",
      "dtypes: datetime64[ns](1), float64(1), object(2)\n",
      "memory usage: 12.9+ MB\n",
      "None\n",
      "\n",
      "            user_id            event_dt event_name  details\n",
      "0  E1BDDCE0DAFA2679 2020-12-07 20:22:03   purchase    99.99\n",
      "1  7B6452F081F49504 2020-12-07 09:22:53   purchase     9.99\n",
      "2  9CD9F34546DF254C 2020-12-07 12:59:29   purchase     4.99\n",
      "3  96F27A054B191457 2020-12-07 04:02:40   purchase     4.99\n",
      "4  1FD7660FDF94CA1F 2020-12-07 10:15:09   purchase     4.99\n"
     ]
    }
   ],
   "source": [
    "# Ajustamos las columnas event_dt\n",
    "data_events['event_dt'] = pd.to_datetime(data_events['event_dt'])\n",
    "\n",
    "# Verificamos el cambio\n",
    "print(data_events.info())\n",
    "print()\n",
    "print(data_events.head())"
   ],
   "metadata": {
    "collapsed": false,
    "ExecuteTime": {
     "end_time": "2023-07-09T21:57:32.690254400Z",
     "start_time": "2023-07-09T21:57:32.269246600Z"
    }
   }
  },
  {
   "cell_type": "code",
   "execution_count": 19,
   "outputs": [
    {
     "name": "stdout",
     "output_type": "stream",
     "text": [
      "Usuarios con más de 1 grupo:  882\n",
      "Usuarios con más de 1 prueba:  1774\n"
     ]
    }
   ],
   "source": [
    "## Ajustes del cuarto dataset\n",
    "\n",
    "# Verificamos los datos duplicados en user_id\n",
    "# Agrupamos los usuarios con más de un grupo\n",
    "print('Usuarios con más de 1 grupo: ', data_participants.groupby('user_id')['group'].nunique().reset_index().query('group > 1').size)\n",
    "# Agrupamos los usuarios con más de una prueba\n",
    "print('Usuarios con más de 1 prueba: ', data_participants.groupby('user_id')['ab_test'].nunique().reset_index().query('ab_test > 1').size)"
   ],
   "metadata": {
    "collapsed": false,
    "ExecuteTime": {
     "end_time": "2023-07-09T21:57:32.772291600Z",
     "start_time": "2023-07-09T21:57:32.693245900Z"
    }
   }
  },
  {
   "cell_type": "code",
   "execution_count": 20,
   "outputs": [
    {
     "data": {
      "text/plain": "array(['recommender_system_test', 'interface_eu_test'], dtype=object)"
     },
     "execution_count": 20,
     "metadata": {},
     "output_type": "execute_result"
    }
   ],
   "source": [
    "# Vemos los nombres unicos de las pruebas\n",
    "data_participants['ab_test'].unique()"
   ],
   "metadata": {
    "collapsed": false,
    "ExecuteTime": {
     "end_time": "2023-07-09T21:57:32.773245100Z",
     "start_time": "2023-07-09T21:57:32.764407700Z"
    }
   }
  },
  {
   "cell_type": "markdown",
   "source": [
    "Como podemos observar, tenemos 882 usuarios con más de un grupo y 1774 usuarios que estan en 2 pruebas diferentes. Al ver los nombres únicos de las pruebas, vemos que hay 2 tipos de pruebas en los resultados. A continuacion pasaremos a filtrar los usuarios por la prueba que nos corresponde y veremos si eso elimina los duplicados"
   ],
   "metadata": {
    "collapsed": false
   }
  },
  {
   "cell_type": "code",
   "execution_count": 21,
   "outputs": [
    {
     "name": "stdout",
     "output_type": "stream",
     "text": [
      "Usuarios con más de 1 grupo:  0\n",
      "Usuarios con más de 1 prueba:  0\n"
     ]
    }
   ],
   "source": [
    "# Seleccionamos los usuarios del test y guardamos el dataset original\n",
    "data_participants_original = data_participants\n",
    "data_participants = data_participants.query(\"ab_test == 'recommender_system_test'\")\n",
    "# Agrupamos los usuarios con más de un grupo\n",
    "print('Usuarios con más de 1 grupo: ', data_participants.groupby('user_id')['group'].nunique().reset_index().query('group > 1').size)\n",
    "# Agrupamos los usuarios con más de una prueba\n",
    "print('Usuarios con más de 1 prueba: ', data_participants.groupby('user_id')['ab_test'].nunique().reset_index().query('ab_test > 1').size)"
   ],
   "metadata": {
    "collapsed": false,
    "ExecuteTime": {
     "end_time": "2023-07-09T21:57:32.875294Z",
     "start_time": "2023-07-09T21:57:32.770260600Z"
    }
   }
  },
  {
   "cell_type": "markdown",
   "source": [
    "Se logro eliminar los duplicados con este filtrado.\n",
    "\n",
    "Hemos terminado de procesar cada uno de los datasets y estamos listos para pasar a la siguiente fase."
   ],
   "metadata": {
    "collapsed": false
   }
  },
  {
   "cell_type": "markdown",
   "source": [
    "## Análisis Exploratorio de datos (EDA)\n",
    "\n",
    "Para esta fase debemos responder realizar y responder los siguientes puntos y preguntas\n",
    "\n",
    "- Estudia la conversión en las diferentes etapas del embudo.\n",
    "- ¿El número de eventos por usuario está distribuido equitativamente entre las muestras?\n",
    "- ¿Hay usuarios que están presentes en ambas muestras?\n",
    "- ¿Cómo se distribuye el número de eventos entre los días?\n",
    "- ¿Hay alguna peculiaridad en los datos que hay que tener en cuenta antes de iniciar la prueba A/B?"
   ],
   "metadata": {
    "collapsed": false
   }
  },
  {
   "cell_type": "markdown",
   "source": [
    "### Estudia la conversión en las diferentes etapas del embudo"
   ],
   "metadata": {
    "collapsed": false
   }
  },
  {
   "cell_type": "code",
   "execution_count": 22,
   "outputs": [
    {
     "name": "stdout",
     "output_type": "stream",
     "text": [
      "Numero de eventos de las personas participantes en la prueba: 23909\n",
      "Numero de eventos totales: 423761\n"
     ]
    }
   ],
   "source": [
    "## Dividimos los usuarios en sus grupos para ver su conversion especifica\n",
    "# Juntamos los datasets para tener la relacion de usuarios que participaron en la prueba y sus grupos\n",
    "data_events_participants = data_events.merge(data_participants, how='inner', on='user_id')\n",
    "print('Numero de eventos de las personas participantes en la prueba:', data_events_participants.shape[0])\n",
    "print('Numero de eventos totales:', data_events.shape[0])"
   ],
   "metadata": {
    "collapsed": false,
    "ExecuteTime": {
     "end_time": "2023-07-09T21:57:32.955258Z",
     "start_time": "2023-07-09T21:57:32.801246700Z"
    }
   }
  },
  {
   "cell_type": "code",
   "execution_count": 23,
   "outputs": [
    {
     "data": {
      "text/plain": "     event_name  user_id % of total users\n0         login     3674           99.97%\n2  product_page     2303           62.67%\n1  product_cart     1079           29.36%\n3      purchase     1128           30.69%",
      "text/html": "<div>\n<style scoped>\n    .dataframe tbody tr th:only-of-type {\n        vertical-align: middle;\n    }\n\n    .dataframe tbody tr th {\n        vertical-align: top;\n    }\n\n    .dataframe thead th {\n        text-align: right;\n    }\n</style>\n<table border=\"1\" class=\"dataframe\">\n  <thead>\n    <tr style=\"text-align: right;\">\n      <th></th>\n      <th>event_name</th>\n      <th>user_id</th>\n      <th>% of total users</th>\n    </tr>\n  </thead>\n  <tbody>\n    <tr>\n      <th>0</th>\n      <td>login</td>\n      <td>3674</td>\n      <td>99.97%</td>\n    </tr>\n    <tr>\n      <th>2</th>\n      <td>product_page</td>\n      <td>2303</td>\n      <td>62.67%</td>\n    </tr>\n    <tr>\n      <th>1</th>\n      <td>product_cart</td>\n      <td>1079</td>\n      <td>29.36%</td>\n    </tr>\n    <tr>\n      <th>3</th>\n      <td>purchase</td>\n      <td>1128</td>\n      <td>30.69%</td>\n    </tr>\n  </tbody>\n</table>\n</div>"
     },
     "execution_count": 23,
     "metadata": {},
     "output_type": "execute_result"
    }
   ],
   "source": [
    "# Calculamos la cantidad de usuarios que realizaron cada uno de los eventos participantes del grupo B\n",
    "event_user = data_events_participants.groupby('event_name')['user_id'].nunique().reset_index()\n",
    "event_user['event_name']= pd.Categorical(event_user.event_name,categories=['login', 'product_page', 'product_cart', 'purchase'])\n",
    "event_user=event_user.sort_values('event_name')\n",
    "usuarios_totales = data_events_participants['user_id'].nunique()\n",
    "event_user['% of total users'] = event_user['user_id'] / usuarios_totales\n",
    "event_user['% of total users'] = event_user['% of total users'].map(\"{:.2%}\".format)\n",
    "event_user"
   ],
   "metadata": {
    "collapsed": false,
    "ExecuteTime": {
     "end_time": "2023-07-09T21:57:33.030551Z",
     "start_time": "2023-07-09T21:57:32.959285500Z"
    }
   }
  },
  {
   "cell_type": "code",
   "execution_count": 24,
   "outputs": [
    {
     "data": {
      "text/plain": "     event_name  user_id_x Conversion Conversion a la siguiente etapa\n0         login       3674    100.00%                         100.00%\n1  product_page       2303     62.68%                          62.68%\n2  product_cart       1079     29.37%                          46.85%\n3      purchase       1128     30.70%                         104.54%",
      "text/html": "<div>\n<style scoped>\n    .dataframe tbody tr th:only-of-type {\n        vertical-align: middle;\n    }\n\n    .dataframe tbody tr th {\n        vertical-align: top;\n    }\n\n    .dataframe thead th {\n        text-align: right;\n    }\n</style>\n<table border=\"1\" class=\"dataframe\">\n  <thead>\n    <tr style=\"text-align: right;\">\n      <th></th>\n      <th>event_name</th>\n      <th>user_id_x</th>\n      <th>Conversion</th>\n      <th>Conversion a la siguiente etapa</th>\n    </tr>\n  </thead>\n  <tbody>\n    <tr>\n      <th>0</th>\n      <td>login</td>\n      <td>3674</td>\n      <td>100.00%</td>\n      <td>100.00%</td>\n    </tr>\n    <tr>\n      <th>1</th>\n      <td>product_page</td>\n      <td>2303</td>\n      <td>62.68%</td>\n      <td>62.68%</td>\n    </tr>\n    <tr>\n      <th>2</th>\n      <td>product_cart</td>\n      <td>1079</td>\n      <td>29.37%</td>\n      <td>46.85%</td>\n    </tr>\n    <tr>\n      <th>3</th>\n      <td>purchase</td>\n      <td>1128</td>\n      <td>30.70%</td>\n      <td>104.54%</td>\n    </tr>\n  </tbody>\n</table>\n</div>"
     },
     "execution_count": 24,
     "metadata": {},
     "output_type": "execute_result"
    }
   ],
   "source": [
    "# Seleccionamos la data para el embudo\n",
    "evento_embudo = event_user[['event_name', 'user_id']]\n",
    "# Guardamos los usuarios iniciales\n",
    "usuarios_iniciales = event_user.loc[0:0]['user_id'].max()\n",
    "# Calculamos la primera conversion\n",
    "evento_embudo['Conversion'] = evento_embudo['user_id'] / usuarios_iniciales\n",
    "# Calculamos la conversion a la siguiente etapa\n",
    "first_data = data_events_participants.groupby('event_name')['user_id'].nunique().reset_index()\n",
    "first_data['event_name']= pd.Categorical(first_data.event_name,categories=['login', 'product_page', 'product_cart', 'purchase'])\n",
    "first_data=first_data.sort_values('event_name').groupby('event_name').sum()\n",
    "evento_embudo = evento_embudo.merge(first_data.shift(1).reset_index().fillna(evento_embudo.loc[0:0]), on='event_name')\n",
    "evento_embudo['Conversion a la siguiente etapa'] = evento_embudo['user_id_x'] / evento_embudo['user_id_y']\n",
    "# Le damos formato a los datos y seleccionamos las columnas\n",
    "evento_embudo['Conversion'] = evento_embudo['Conversion'].map(\"{:.2%}\".format)\n",
    "evento_embudo['Conversion a la siguiente etapa'] = evento_embudo['Conversion a la siguiente etapa'].map(\"{:.2%}\".format)\n",
    "evento_embudo_final = evento_embudo[['event_name', 'user_id_x', 'Conversion', 'Conversion a la siguiente etapa']]\n",
    "evento_embudo_final"
   ],
   "metadata": {
    "collapsed": false,
    "ExecuteTime": {
     "end_time": "2023-07-09T21:57:33.104382800Z",
     "start_time": "2023-07-09T21:57:32.991369900Z"
    }
   }
  },
  {
   "cell_type": "markdown",
   "source": [
    "#### Grupo A"
   ],
   "metadata": {
    "collapsed": false
   }
  },
  {
   "cell_type": "code",
   "execution_count": 25,
   "outputs": [
    {
     "data": {
      "text/plain": "     event_name  user_id % of total users\n0         login     2747          100.00%\n2  product_page     1780           64.80%\n1  product_cart      824           30.00%\n3      purchase      872           31.74%",
      "text/html": "<div>\n<style scoped>\n    .dataframe tbody tr th:only-of-type {\n        vertical-align: middle;\n    }\n\n    .dataframe tbody tr th {\n        vertical-align: top;\n    }\n\n    .dataframe thead th {\n        text-align: right;\n    }\n</style>\n<table border=\"1\" class=\"dataframe\">\n  <thead>\n    <tr style=\"text-align: right;\">\n      <th></th>\n      <th>event_name</th>\n      <th>user_id</th>\n      <th>% of total users</th>\n    </tr>\n  </thead>\n  <tbody>\n    <tr>\n      <th>0</th>\n      <td>login</td>\n      <td>2747</td>\n      <td>100.00%</td>\n    </tr>\n    <tr>\n      <th>2</th>\n      <td>product_page</td>\n      <td>1780</td>\n      <td>64.80%</td>\n    </tr>\n    <tr>\n      <th>1</th>\n      <td>product_cart</td>\n      <td>824</td>\n      <td>30.00%</td>\n    </tr>\n    <tr>\n      <th>3</th>\n      <td>purchase</td>\n      <td>872</td>\n      <td>31.74%</td>\n    </tr>\n  </tbody>\n</table>\n</div>"
     },
     "execution_count": 25,
     "metadata": {},
     "output_type": "execute_result"
    }
   ],
   "source": [
    "# Calculamos la cantidad de usuarios que realizaron cada uno de los eventos participantes del grupo B\n",
    "event_user = data_events_participants.query(\"group == 'A'\").groupby('event_name')['user_id'].nunique().reset_index()\n",
    "event_user['event_name']= pd.Categorical(event_user.event_name,categories=['login', 'product_page', 'product_cart', 'purchase'])\n",
    "event_user=event_user.sort_values('event_name')\n",
    "usuarios_totales = data_events_participants.query(\"group == 'A'\")['user_id'].nunique()\n",
    "event_user['% of total users'] = event_user['user_id'] / usuarios_totales\n",
    "event_user['% of total users'] = event_user['% of total users'].map(\"{:.2%}\".format)\n",
    "event_user"
   ],
   "metadata": {
    "collapsed": false,
    "ExecuteTime": {
     "end_time": "2023-07-09T21:57:33.184383700Z",
     "start_time": "2023-07-09T21:57:33.038385300Z"
    }
   }
  },
  {
   "cell_type": "code",
   "execution_count": 26,
   "outputs": [
    {
     "data": {
      "text/plain": "     event_name  user_id_x Conversion Conversion a la siguiente etapa\n0         login       2747    100.00%                         100.00%\n1  product_page       1780     64.80%                          64.80%\n2  product_cart        824     30.00%                          46.29%\n3      purchase        872     31.74%                         105.83%",
      "text/html": "<div>\n<style scoped>\n    .dataframe tbody tr th:only-of-type {\n        vertical-align: middle;\n    }\n\n    .dataframe tbody tr th {\n        vertical-align: top;\n    }\n\n    .dataframe thead th {\n        text-align: right;\n    }\n</style>\n<table border=\"1\" class=\"dataframe\">\n  <thead>\n    <tr style=\"text-align: right;\">\n      <th></th>\n      <th>event_name</th>\n      <th>user_id_x</th>\n      <th>Conversion</th>\n      <th>Conversion a la siguiente etapa</th>\n    </tr>\n  </thead>\n  <tbody>\n    <tr>\n      <th>0</th>\n      <td>login</td>\n      <td>2747</td>\n      <td>100.00%</td>\n      <td>100.00%</td>\n    </tr>\n    <tr>\n      <th>1</th>\n      <td>product_page</td>\n      <td>1780</td>\n      <td>64.80%</td>\n      <td>64.80%</td>\n    </tr>\n    <tr>\n      <th>2</th>\n      <td>product_cart</td>\n      <td>824</td>\n      <td>30.00%</td>\n      <td>46.29%</td>\n    </tr>\n    <tr>\n      <th>3</th>\n      <td>purchase</td>\n      <td>872</td>\n      <td>31.74%</td>\n      <td>105.83%</td>\n    </tr>\n  </tbody>\n</table>\n</div>"
     },
     "execution_count": 26,
     "metadata": {},
     "output_type": "execute_result"
    }
   ],
   "source": [
    "# Seleccionamos la data para el embudo\n",
    "evento_embudo = event_user[['event_name', 'user_id']]\n",
    "# Guardamos los usuarios iniciales\n",
    "usuarios_iniciales = event_user.loc[0:0]['user_id'].max()\n",
    "# Calculamos la primera conversion\n",
    "evento_embudo['Conversion'] = evento_embudo['user_id'] / usuarios_iniciales\n",
    "# Calculamos la conversion a la siguiente etapa\n",
    "first_data = data_events_participants.query(\"group == 'A'\").groupby('event_name')['user_id'].nunique().reset_index()\n",
    "first_data['event_name']= pd.Categorical(first_data.event_name,categories=['login', 'product_page', 'product_cart', 'purchase'])\n",
    "first_data=first_data.sort_values('event_name').groupby('event_name').sum()\n",
    "evento_embudo = evento_embudo.merge(first_data.shift(1).reset_index().fillna(evento_embudo.loc[0:0]), on='event_name')\n",
    "evento_embudo['Conversion a la siguiente etapa'] = evento_embudo['user_id_x'] / evento_embudo['user_id_y']\n",
    "# Le damos formato a los datos y seleccionamos las columnas\n",
    "evento_embudo['Conversion'] = evento_embudo['Conversion'].map(\"{:.2%}\".format)\n",
    "evento_embudo['Conversion a la siguiente etapa'] = evento_embudo['Conversion a la siguiente etapa'].map(\"{:.2%}\".format)\n",
    "evento_embudo_final = evento_embudo[['event_name', 'user_id_x', 'Conversion', 'Conversion a la siguiente etapa']]\n",
    "evento_embudo_final"
   ],
   "metadata": {
    "collapsed": false,
    "ExecuteTime": {
     "end_time": "2023-07-09T21:57:33.185389200Z",
     "start_time": "2023-07-09T21:57:33.084390600Z"
    }
   }
  },
  {
   "cell_type": "markdown",
   "source": [
    "#### Grupo B"
   ],
   "metadata": {
    "collapsed": false
   }
  },
  {
   "cell_type": "code",
   "execution_count": 27,
   "outputs": [
    {
     "data": {
      "text/plain": "     event_name  user_id % of total users\n0         login      927           99.89%\n2  product_page      523           56.36%\n1  product_cart      255           27.48%\n3      purchase      256           27.59%",
      "text/html": "<div>\n<style scoped>\n    .dataframe tbody tr th:only-of-type {\n        vertical-align: middle;\n    }\n\n    .dataframe tbody tr th {\n        vertical-align: top;\n    }\n\n    .dataframe thead th {\n        text-align: right;\n    }\n</style>\n<table border=\"1\" class=\"dataframe\">\n  <thead>\n    <tr style=\"text-align: right;\">\n      <th></th>\n      <th>event_name</th>\n      <th>user_id</th>\n      <th>% of total users</th>\n    </tr>\n  </thead>\n  <tbody>\n    <tr>\n      <th>0</th>\n      <td>login</td>\n      <td>927</td>\n      <td>99.89%</td>\n    </tr>\n    <tr>\n      <th>2</th>\n      <td>product_page</td>\n      <td>523</td>\n      <td>56.36%</td>\n    </tr>\n    <tr>\n      <th>1</th>\n      <td>product_cart</td>\n      <td>255</td>\n      <td>27.48%</td>\n    </tr>\n    <tr>\n      <th>3</th>\n      <td>purchase</td>\n      <td>256</td>\n      <td>27.59%</td>\n    </tr>\n  </tbody>\n</table>\n</div>"
     },
     "execution_count": 27,
     "metadata": {},
     "output_type": "execute_result"
    }
   ],
   "source": [
    "# Calculamos la cantidad de usuarios que realizaron cada uno de los eventos participantes del grupo B\n",
    "event_user = data_events_participants.query(\"group == 'B'\").groupby('event_name')['user_id'].nunique().reset_index()\n",
    "event_user['event_name']= pd.Categorical(event_user.event_name,categories=['login', 'product_page', 'product_cart', 'purchase'])\n",
    "event_user=event_user.sort_values('event_name')\n",
    "usuarios_totales = data_events_participants.query(\"group == 'B'\")['user_id'].nunique()\n",
    "event_user['% of total users'] = event_user['user_id'] / usuarios_totales\n",
    "event_user['% of total users'] = event_user['% of total users'].map(\"{:.2%}\".format)\n",
    "event_user"
   ],
   "metadata": {
    "collapsed": false,
    "ExecuteTime": {
     "end_time": "2023-07-09T21:57:33.217378700Z",
     "start_time": "2023-07-09T21:57:33.130377200Z"
    }
   }
  },
  {
   "cell_type": "code",
   "execution_count": 28,
   "outputs": [
    {
     "data": {
      "text/plain": "     event_name  user_id_x Conversion Conversion a la siguiente etapa\n0         login        927    100.00%                         100.00%\n1  product_page        523     56.42%                          56.42%\n2  product_cart        255     27.51%                          48.76%\n3      purchase        256     27.62%                         100.39%",
      "text/html": "<div>\n<style scoped>\n    .dataframe tbody tr th:only-of-type {\n        vertical-align: middle;\n    }\n\n    .dataframe tbody tr th {\n        vertical-align: top;\n    }\n\n    .dataframe thead th {\n        text-align: right;\n    }\n</style>\n<table border=\"1\" class=\"dataframe\">\n  <thead>\n    <tr style=\"text-align: right;\">\n      <th></th>\n      <th>event_name</th>\n      <th>user_id_x</th>\n      <th>Conversion</th>\n      <th>Conversion a la siguiente etapa</th>\n    </tr>\n  </thead>\n  <tbody>\n    <tr>\n      <th>0</th>\n      <td>login</td>\n      <td>927</td>\n      <td>100.00%</td>\n      <td>100.00%</td>\n    </tr>\n    <tr>\n      <th>1</th>\n      <td>product_page</td>\n      <td>523</td>\n      <td>56.42%</td>\n      <td>56.42%</td>\n    </tr>\n    <tr>\n      <th>2</th>\n      <td>product_cart</td>\n      <td>255</td>\n      <td>27.51%</td>\n      <td>48.76%</td>\n    </tr>\n    <tr>\n      <th>3</th>\n      <td>purchase</td>\n      <td>256</td>\n      <td>27.62%</td>\n      <td>100.39%</td>\n    </tr>\n  </tbody>\n</table>\n</div>"
     },
     "execution_count": 28,
     "metadata": {},
     "output_type": "execute_result"
    }
   ],
   "source": [
    "# Seleccionamos la data para el embudo\n",
    "evento_embudo = event_user[['event_name', 'user_id']]\n",
    "# Guardamos los usuarios iniciales\n",
    "usuarios_iniciales = event_user.loc[0:0]['user_id'].max()\n",
    "# Calculamos la primera conversion\n",
    "evento_embudo['Conversion'] = evento_embudo['user_id'] / usuarios_iniciales\n",
    "# Calculamos la conversion a la siguiente etapa\n",
    "first_data = data_events_participants.query(\"group == 'B'\").groupby('event_name')['user_id'].nunique().reset_index()\n",
    "first_data['event_name']= pd.Categorical(first_data.event_name,categories=['login', 'product_page', 'product_cart', 'purchase'])\n",
    "first_data=first_data.sort_values('event_name').groupby('event_name').sum()\n",
    "evento_embudo = evento_embudo.merge(first_data.shift(1).reset_index().fillna(evento_embudo.loc[0:0]), on='event_name')\n",
    "evento_embudo['Conversion a la siguiente etapa'] = evento_embudo['user_id_x'] / evento_embudo['user_id_y']\n",
    "# Le damos formato a los datos y seleccionamos las columnas\n",
    "evento_embudo['Conversion'] = evento_embudo['Conversion'].map(\"{:.2%}\".format)\n",
    "evento_embudo['Conversion a la siguiente etapa'] = evento_embudo['Conversion a la siguiente etapa'].map(\"{:.2%}\".format)\n",
    "evento_embudo_final = evento_embudo[['event_name', 'user_id_x', 'Conversion', 'Conversion a la siguiente etapa']]\n",
    "evento_embudo_final"
   ],
   "metadata": {
    "collapsed": false,
    "ExecuteTime": {
     "end_time": "2023-07-09T21:57:33.273384Z",
     "start_time": "2023-07-09T21:57:33.165369500Z"
    }
   }
  },
  {
   "cell_type": "markdown",
   "source": [
    "En primera instancia, podemos ver que solo 23,909 eventos del total de 423,761 son de los usuarios participantes en la prueba, por lo que nuestra muestra bajo considerablemente. Viendo los datos pudimos notar que en general y dividido en los grupos de la prueba que tenemos más eventos de purchase que de product_cart (un diferencia minima sin embargo es algo destacable), lo cual nos indica que o hay una opcion para comprar directamente sin pasar a agregar al carrito o el sistema no esta catalogando bien los eventos finales del funnel.\n",
    "\n",
    "En general podemos ver que la conversion de la product_page al carrito es de 46-48% y entre la product_cart y el purchase hay una conversion superior al 100% por en un maximo de 5% más. En general de las personas logeadas un promedio del 60% llega a ver la product_page y un 30% llega a agregar un producto o hacer una compra."
   ],
   "metadata": {
    "collapsed": false
   }
  },
  {
   "cell_type": "markdown",
   "source": [
    "### ¿El número de eventos por usuario está distribuido equitativamente entre las muestras?"
   ],
   "metadata": {
    "collapsed": false
   }
  },
  {
   "cell_type": "code",
   "execution_count": 29,
   "outputs": [
    {
     "data": {
      "text/plain": "       event_name\ngroup            \nA           18627\nB            5282",
      "text/html": "<div>\n<style scoped>\n    .dataframe tbody tr th:only-of-type {\n        vertical-align: middle;\n    }\n\n    .dataframe tbody tr th {\n        vertical-align: top;\n    }\n\n    .dataframe thead th {\n        text-align: right;\n    }\n</style>\n<table border=\"1\" class=\"dataframe\">\n  <thead>\n    <tr style=\"text-align: right;\">\n      <th></th>\n      <th>event_name</th>\n    </tr>\n    <tr>\n      <th>group</th>\n      <th></th>\n    </tr>\n  </thead>\n  <tbody>\n    <tr>\n      <th>A</th>\n      <td>18627</td>\n    </tr>\n    <tr>\n      <th>B</th>\n      <td>5282</td>\n    </tr>\n  </tbody>\n</table>\n</div>"
     },
     "execution_count": 29,
     "metadata": {},
     "output_type": "execute_result"
    }
   ],
   "source": [
    "# Número de eventos por grupo\n",
    "data_events_participants.groupby(['group', 'user_id'])['event_name'].count().reset_index().groupby('group').sum()"
   ],
   "metadata": {
    "collapsed": false,
    "ExecuteTime": {
     "end_time": "2023-07-09T21:57:33.364382600Z",
     "start_time": "2023-07-09T21:57:33.211382900Z"
    }
   }
  },
  {
   "cell_type": "code",
   "execution_count": 30,
   "outputs": [
    {
     "data": {
      "text/plain": "group\nA    2747\nB     928\nName: user_id, dtype: int64"
     },
     "execution_count": 30,
     "metadata": {},
     "output_type": "execute_result"
    }
   ],
   "source": [
    "# Numero de usuarios por grupo\n",
    "data_events_participants.groupby(['group'])['user_id'].nunique()"
   ],
   "metadata": {
    "collapsed": false,
    "ExecuteTime": {
     "end_time": "2023-07-09T21:57:33.364382600Z",
     "start_time": "2023-07-09T21:57:33.243373500Z"
    }
   }
  },
  {
   "cell_type": "code",
   "execution_count": 31,
   "outputs": [
    {
     "data": {
      "text/plain": "       event_name\ngroup            \nA        6.780852\nB        5.691810",
      "text/html": "<div>\n<style scoped>\n    .dataframe tbody tr th:only-of-type {\n        vertical-align: middle;\n    }\n\n    .dataframe tbody tr th {\n        vertical-align: top;\n    }\n\n    .dataframe thead th {\n        text-align: right;\n    }\n</style>\n<table border=\"1\" class=\"dataframe\">\n  <thead>\n    <tr style=\"text-align: right;\">\n      <th></th>\n      <th>event_name</th>\n    </tr>\n    <tr>\n      <th>group</th>\n      <th></th>\n    </tr>\n  </thead>\n  <tbody>\n    <tr>\n      <th>A</th>\n      <td>6.780852</td>\n    </tr>\n    <tr>\n      <th>B</th>\n      <td>5.691810</td>\n    </tr>\n  </tbody>\n</table>\n</div>"
     },
     "execution_count": 31,
     "metadata": {},
     "output_type": "execute_result"
    }
   ],
   "source": [
    "# Número de eventos de promedio por persona en cada grupo\n",
    "data_events_participants.groupby(['group', 'user_id'])['event_name'].count().reset_index().groupby('group').mean()"
   ],
   "metadata": {
    "collapsed": false,
    "ExecuteTime": {
     "end_time": "2023-07-09T21:57:33.365387800Z",
     "start_time": "2023-07-09T21:57:33.272371200Z"
    }
   }
  },
  {
   "cell_type": "markdown",
   "source": [
    "Como podemos notar al inicio, el grupo A tiene mas eventos que el grupo B sin embargo el numero de eventos por usuario promedio no es tan diferente, difiere en uno. Tomando todo esto en cuenta podemos decir que no esta distribuido equitativamente pero la diferencia por usuario es minima."
   ],
   "metadata": {
    "collapsed": false
   }
  },
  {
   "cell_type": "markdown",
   "source": [
    "### ¿Hay usuarios que están presentes en ambas muestras?"
   ],
   "metadata": {
    "collapsed": false
   }
  },
  {
   "cell_type": "code",
   "execution_count": 32,
   "outputs": [
    {
     "name": "stdout",
     "output_type": "stream",
     "text": [
      "Usuarios con más de 1 grupo:  0\n"
     ]
    }
   ],
   "source": [
    "# Agrupamos los usuarios con más de un grupo\n",
    "print('Usuarios con más de 1 grupo: ', data_participants.groupby('user_id')['group'].nunique().reset_index().query('group > 1').size)"
   ],
   "metadata": {
    "collapsed": false,
    "ExecuteTime": {
     "end_time": "2023-07-09T21:57:33.408375400Z",
     "start_time": "2023-07-09T21:57:33.302368500Z"
    }
   }
  },
  {
   "cell_type": "markdown",
   "source": [
    "Gracias a la limpieza que hicimos, cada usuario tiene solo un grupo asignado. Sin duplicados."
   ],
   "metadata": {
    "collapsed": false
   }
  },
  {
   "cell_type": "markdown",
   "source": [
    "### ¿Cómo se distribuye el número de eventos entre los días?"
   ],
   "metadata": {
    "collapsed": false
   }
  },
  {
   "cell_type": "code",
   "execution_count": 33,
   "outputs": [
    {
     "data": {
      "text/plain": "<Figure size 864x432 with 1 Axes>",
      "image/png": "[encoded data removed]"
     },
     "metadata": {},
     "output_type": "display_data"
    }
   ],
   "source": [
    "# Trazamos un histograma de los eventos\n",
    "fig, ax = plt.subplots(figsize=(12, 6))\n",
    "ax.hist(data_events['event_dt'], bins=50)\n",
    "plt.xticks(rotation=45,ha='right')\n",
    "plt.title('Distribución de los eventos',fontsize=16)\n",
    "plt.show()"
   ],
   "metadata": {
    "collapsed": false,
    "ExecuteTime": {
     "end_time": "2023-07-09T21:57:33.951405300Z",
     "start_time": "2023-07-09T21:57:33.319371600Z"
    }
   }
  },
  {
   "cell_type": "markdown",
   "source": [
    "Como podemos observar en la grafica, los eventos tienen una subida entre el 13 y el 17 de diciembre para luego estabilizarse los siguientes dias, hasta el dia 21 donde empieza otra subida que posteriormente empieza a bajar hasta cesar toda actividad el dia 25 de diciembre, posterior a esto vuelve a haber actividad relativamente baja hacia el fin del año"
   ],
   "metadata": {
    "collapsed": false
   }
  },
  {
   "cell_type": "markdown",
   "source": [
    "### ¿Hay alguna peculiaridad en los datos que hay que tener en cuenta antes de iniciar la prueba A/B?\n",
    "\n",
    "Como pudimos notar en el punto anterior no hubo actividad el dia 25 de diciembre, no se registro ningun evento ese dia por lo que tendra que tomarse en cuenta posteriormente. Tambien se debe tomar en cuenta que hay mayor numero de usuarios en el grupo A que en el B y por ende mayor numero de eventos, además de que de los 6,000 usuarios esperados solo participaron menos de 4,000; finalmente tambien se debe tomar en cuenta que hay mas eventos en la categoria purchase que en product_cart por lo que el funnel puede no estar del todo bien agrupado o dividio o se permite comprar sin pasar por el carrito de compras"
   ],
   "metadata": {
    "collapsed": false
   }
  },
  {
   "cell_type": "markdown",
   "source": [
    "## Evaluación de los resultados de la prueba A/B\n",
    "\n",
    "Para esta fase debemos responder realizar y responder los siguientes puntos y preguntas\n",
    "\n",
    "- ¿Qué puedes decir sobre los resultados de la prueba A/B?\n",
    "- Utiliza una prueba z para comprobar la diferencia estadística entre las proporciones."
   ],
   "metadata": {
    "collapsed": false
   }
  },
  {
   "cell_type": "code",
   "execution_count": 34,
   "outputs": [
    {
     "data": {
      "text/plain": "            date group\n0     2020-12-07     A\n1     2020-12-09     A\n3     2020-12-08     A\n11    2020-12-07     B\n12    2020-12-09     B\n13    2020-12-11     B\n14    2020-12-12     B\n15    2020-12-16     B\n27    2020-12-12     A\n28    2020-12-22     A\n39    2020-12-15     B\n47    2020-12-20     A\n54    2020-12-16     A\n55    2020-12-27     A\n65    2020-12-08     B\n66    2020-12-10     B\n82    2020-12-17     B\n83    2020-12-20     B\n115   2020-12-22     B\n129   2020-12-15     A\n137   2020-12-10     A\n138   2020-12-13     A\n139   2020-12-19     A\n150   2020-12-29     B\n161   2020-12-18     A\n185   2020-12-11     A\n198   2020-12-14     A\n212   2020-12-13     B\n213   2020-12-18     B\n278   2020-12-19     B\n279   2020-12-23     B\n280   2020-12-27     B\n288   2020-12-24     A\n289   2020-12-29     A\n338   2020-12-23     A\n339   2020-12-28     A\n361   2020-12-14     B\n389   2020-12-26     B\n403   2020-12-24     B\n510   2020-12-17     A\n589   2020-12-28     B\n620   2020-12-21     A\n640   2020-12-26     A\n653   2020-12-21     B\n9641  2020-12-30     B",
      "text/html": "<div>\n<style scoped>\n    .dataframe tbody tr th:only-of-type {\n        vertical-align: middle;\n    }\n\n    .dataframe tbody tr th {\n        vertical-align: top;\n    }\n\n    .dataframe thead th {\n        text-align: right;\n    }\n</style>\n<table border=\"1\" class=\"dataframe\">\n  <thead>\n    <tr style=\"text-align: right;\">\n      <th></th>\n      <th>date</th>\n      <th>group</th>\n    </tr>\n  </thead>\n  <tbody>\n    <tr>\n      <th>0</th>\n      <td>2020-12-07</td>\n      <td>A</td>\n    </tr>\n    <tr>\n      <th>1</th>\n      <td>2020-12-09</td>\n      <td>A</td>\n    </tr>\n    <tr>\n      <th>3</th>\n      <td>2020-12-08</td>\n      <td>A</td>\n    </tr>\n    <tr>\n      <th>11</th>\n      <td>2020-12-07</td>\n      <td>B</td>\n    </tr>\n    <tr>\n      <th>12</th>\n      <td>2020-12-09</td>\n      <td>B</td>\n    </tr>\n    <tr>\n      <th>13</th>\n      <td>2020-12-11</td>\n      <td>B</td>\n    </tr>\n    <tr>\n      <th>14</th>\n      <td>2020-12-12</td>\n      <td>B</td>\n    </tr>\n    <tr>\n      <th>15</th>\n      <td>2020-12-16</td>\n      <td>B</td>\n    </tr>\n    <tr>\n      <th>27</th>\n      <td>2020-12-12</td>\n      <td>A</td>\n    </tr>\n    <tr>\n      <th>28</th>\n      <td>2020-12-22</td>\n      <td>A</td>\n    </tr>\n    <tr>\n      <th>39</th>\n      <td>2020-12-15</td>\n      <td>B</td>\n    </tr>\n    <tr>\n      <th>47</th>\n      <td>2020-12-20</td>\n      <td>A</td>\n    </tr>\n    <tr>\n      <th>54</th>\n      <td>2020-12-16</td>\n      <td>A</td>\n    </tr>\n    <tr>\n      <th>55</th>\n      <td>2020-12-27</td>\n      <td>A</td>\n    </tr>\n    <tr>\n      <th>65</th>\n      <td>2020-12-08</td>\n      <td>B</td>\n    </tr>\n    <tr>\n      <th>66</th>\n      <td>2020-12-10</td>\n      <td>B</td>\n    </tr>\n    <tr>\n      <th>82</th>\n      <td>2020-12-17</td>\n      <td>B</td>\n    </tr>\n    <tr>\n      <th>83</th>\n      <td>2020-12-20</td>\n      <td>B</td>\n    </tr>\n    <tr>\n      <th>115</th>\n      <td>2020-12-22</td>\n      <td>B</td>\n    </tr>\n    <tr>\n      <th>129</th>\n      <td>2020-12-15</td>\n      <td>A</td>\n    </tr>\n    <tr>\n      <th>137</th>\n      <td>2020-12-10</td>\n      <td>A</td>\n    </tr>\n    <tr>\n      <th>138</th>\n      <td>2020-12-13</td>\n      <td>A</td>\n    </tr>\n    <tr>\n      <th>139</th>\n      <td>2020-12-19</td>\n      <td>A</td>\n    </tr>\n    <tr>\n      <th>150</th>\n      <td>2020-12-29</td>\n      <td>B</td>\n    </tr>\n    <tr>\n      <th>161</th>\n      <td>2020-12-18</td>\n      <td>A</td>\n    </tr>\n    <tr>\n      <th>185</th>\n      <td>2020-12-11</td>\n      <td>A</td>\n    </tr>\n    <tr>\n      <th>198</th>\n      <td>2020-12-14</td>\n      <td>A</td>\n    </tr>\n    <tr>\n      <th>212</th>\n      <td>2020-12-13</td>\n      <td>B</td>\n    </tr>\n    <tr>\n      <th>213</th>\n      <td>2020-12-18</td>\n      <td>B</td>\n    </tr>\n    <tr>\n      <th>278</th>\n      <td>2020-12-19</td>\n      <td>B</td>\n    </tr>\n    <tr>\n      <th>279</th>\n      <td>2020-12-23</td>\n      <td>B</td>\n    </tr>\n    <tr>\n      <th>280</th>\n      <td>2020-12-27</td>\n      <td>B</td>\n    </tr>\n    <tr>\n      <th>288</th>\n      <td>2020-12-24</td>\n      <td>A</td>\n    </tr>\n    <tr>\n      <th>289</th>\n      <td>2020-12-29</td>\n      <td>A</td>\n    </tr>\n    <tr>\n      <th>338</th>\n      <td>2020-12-23</td>\n      <td>A</td>\n    </tr>\n    <tr>\n      <th>339</th>\n      <td>2020-12-28</td>\n      <td>A</td>\n    </tr>\n    <tr>\n      <th>361</th>\n      <td>2020-12-14</td>\n      <td>B</td>\n    </tr>\n    <tr>\n      <th>389</th>\n      <td>2020-12-26</td>\n      <td>B</td>\n    </tr>\n    <tr>\n      <th>403</th>\n      <td>2020-12-24</td>\n      <td>B</td>\n    </tr>\n    <tr>\n      <th>510</th>\n      <td>2020-12-17</td>\n      <td>A</td>\n    </tr>\n    <tr>\n      <th>589</th>\n      <td>2020-12-28</td>\n      <td>B</td>\n    </tr>\n    <tr>\n      <th>620</th>\n      <td>2020-12-21</td>\n      <td>A</td>\n    </tr>\n    <tr>\n      <th>640</th>\n      <td>2020-12-26</td>\n      <td>A</td>\n    </tr>\n    <tr>\n      <th>653</th>\n      <td>2020-12-21</td>\n      <td>B</td>\n    </tr>\n    <tr>\n      <th>9641</th>\n      <td>2020-12-30</td>\n      <td>B</td>\n    </tr>\n  </tbody>\n</table>\n</div>"
     },
     "execution_count": 34,
     "metadata": {},
     "output_type": "execute_result"
    }
   ],
   "source": [
    "## Calcular la conversion para cada grupo y representarla graficamente\n",
    "# Crear una matriz con valores únicos de parejas fecha-grupo\n",
    "data_events_participants['date'] = pd.DatetimeIndex(data_events_participants['event_dt']).date\n",
    "dates_groups = data_events_participants[['date','group']].drop_duplicates()\n",
    "dates_groups"
   ],
   "metadata": {
    "collapsed": false,
    "ExecuteTime": {
     "end_time": "2023-07-09T21:57:33.951405300Z",
     "start_time": "2023-07-09T21:57:33.772371200Z"
    }
   }
  },
  {
   "cell_type": "code",
   "execution_count": 35,
   "outputs": [
    {
     "data": {
      "text/plain": "            date group  user_id  event_name_login  event_name_product_page  \\\n0     2020-12-07     A      154               154                       96   \n11    2020-12-07     B      173               165                      108   \n3     2020-12-08     A      256               313                      204   \n65    2020-12-08     B      220               284                      172   \n1     2020-12-09     A      340               491                      310   \n12    2020-12-09     B      308               456                      278   \n137   2020-12-10     A      407               656                      404   \n66    2020-12-10     B      341               587                      350   \n185   2020-12-11     A      500               841                      506   \n13    2020-12-11     B      362               676                      396   \n27    2020-12-12     A      565              1015                      602   \n14    2020-12-12     B      415               782                      447   \n138   2020-12-13     A      621              1179                      697   \n212   2020-12-13     B      432               869                      491   \n198   2020-12-14     A     1008              1667                     1005   \n361   2020-12-14     B      504              1000                      558   \n129   2020-12-15     A     1216              2140                     1309   \n39    2020-12-15     B      537              1116                      612   \n54    2020-12-16     A     1385              2611                     1610   \n15    2020-12-16     B      636              1288                      713   \n510   2020-12-17     A     1597              3156                     1958   \n82    2020-12-17     B      675              1420                      790   \n161   2020-12-18     A     1817              3729                     2348   \n213   2020-12-18     B      725              1555                      855   \n139   2020-12-19     A     2056              4379                     2777   \n278   2020-12-19     B      772              1703                      934   \n47    2020-12-20     A     2330              5047                     3207   \n83    2020-12-20     B      835              1865                     1019   \n620   2020-12-21     A     2747              5930                     3787   \n653   2020-12-21     B      928              2071                     1130   \n28    2020-12-22     A     2747              6516                     4168   \n115   2020-12-22     B      928              2173                     1176   \n338   2020-12-23     A     2747              6967                     4456   \n279   2020-12-23     B      928              2273                     1225   \n288   2020-12-24     A     2747              7345                     4716   \n403   2020-12-24     B      928              2348                     1262   \n640   2020-12-26     A     2747              7607                     4891   \n389   2020-12-26     B      928              2409                     1300   \n55    2020-12-27     A     2747              7855                     5054   \n280   2020-12-27     B      928              2469                     1325   \n339   2020-12-28     A     2747              8072                     5196   \n589   2020-12-28     B      928              2524                     1353   \n289   2020-12-29     A     2747              8272                     5328   \n150   2020-12-29     B      928              2563                     1373   \n9641  2020-12-30     B      928              2565                     1374   \n\n      event_name_product_cart  event_name_purchase  \n0                          35                   46  \n11                         46                   59  \n3                          72                   83  \n65                         80                   94  \n1                         122                  134  \n12                        123                  134  \n137                       167                  180  \n66                        157                  160  \n185                       212                  222  \n13                        174                  176  \n27                        259                  260  \n14                        195                  201  \n138                       293                  295  \n212                       213                  228  \n198                       436                  439  \n361                       253                  262  \n129                       597                  585  \n39                        283                  294  \n54                        743                  736  \n15                        342                  347  \n510                       929                  909  \n82                        392                  384  \n161                      1106                 1081  \n213                       434                  414  \n139                      1319                 1295  \n278                       477                  448  \n47                       1529                 1515  \n83                        512                  486  \n620                      1780                 1812  \n653                       571                  540  \n28                       1952                 1984  \n115                       590                  568  \n338                      2080                 2122  \n279                       613                  592  \n288                      2204                 2248  \n403                       636                  611  \n640                      2280                 2343  \n389                       649                  624  \n55                       2354                 2430  \n280                       664                  643  \n339                      2427                 2501  \n589                       671                  653  \n289                      2482                 2545  \n150                       677                  665  \n9641                      678                  665  ",
      "text/html": "<div>\n<style scoped>\n    .dataframe tbody tr th:only-of-type {\n        vertical-align: middle;\n    }\n\n    .dataframe tbody tr th {\n        vertical-align: top;\n    }\n\n    .dataframe thead th {\n        text-align: right;\n    }\n</style>\n<table border=\"1\" class=\"dataframe\">\n  <thead>\n    <tr style=\"text-align: right;\">\n      <th></th>\n      <th>date</th>\n      <th>group</th>\n      <th>user_id</th>\n      <th>event_name_login</th>\n      <th>event_name_product_page</th>\n      <th>event_name_product_cart</th>\n      <th>event_name_purchase</th>\n    </tr>\n  </thead>\n  <tbody>\n    <tr>\n      <th>0</th>\n      <td>2020-12-07</td>\n      <td>A</td>\n      <td>154</td>\n      <td>154</td>\n      <td>96</td>\n      <td>35</td>\n      <td>46</td>\n    </tr>\n    <tr>\n      <th>11</th>\n      <td>2020-12-07</td>\n      <td>B</td>\n      <td>173</td>\n      <td>165</td>\n      <td>108</td>\n      <td>46</td>\n      <td>59</td>\n    </tr>\n    <tr>\n      <th>3</th>\n      <td>2020-12-08</td>\n      <td>A</td>\n      <td>256</td>\n      <td>313</td>\n      <td>204</td>\n      <td>72</td>\n      <td>83</td>\n    </tr>\n    <tr>\n      <th>65</th>\n      <td>2020-12-08</td>\n      <td>B</td>\n      <td>220</td>\n      <td>284</td>\n      <td>172</td>\n      <td>80</td>\n      <td>94</td>\n    </tr>\n    <tr>\n      <th>1</th>\n      <td>2020-12-09</td>\n      <td>A</td>\n      <td>340</td>\n      <td>491</td>\n      <td>310</td>\n      <td>122</td>\n      <td>134</td>\n    </tr>\n    <tr>\n      <th>12</th>\n      <td>2020-12-09</td>\n      <td>B</td>\n      <td>308</td>\n      <td>456</td>\n      <td>278</td>\n      <td>123</td>\n      <td>134</td>\n    </tr>\n    <tr>\n      <th>137</th>\n      <td>2020-12-10</td>\n      <td>A</td>\n      <td>407</td>\n      <td>656</td>\n      <td>404</td>\n      <td>167</td>\n      <td>180</td>\n    </tr>\n    <tr>\n      <th>66</th>\n      <td>2020-12-10</td>\n      <td>B</td>\n      <td>341</td>\n      <td>587</td>\n      <td>350</td>\n      <td>157</td>\n      <td>160</td>\n    </tr>\n    <tr>\n      <th>185</th>\n      <td>2020-12-11</td>\n      <td>A</td>\n      <td>500</td>\n      <td>841</td>\n      <td>506</td>\n      <td>212</td>\n      <td>222</td>\n    </tr>\n    <tr>\n      <th>13</th>\n      <td>2020-12-11</td>\n      <td>B</td>\n      <td>362</td>\n      <td>676</td>\n      <td>396</td>\n      <td>174</td>\n      <td>176</td>\n    </tr>\n    <tr>\n      <th>27</th>\n      <td>2020-12-12</td>\n      <td>A</td>\n      <td>565</td>\n      <td>1015</td>\n      <td>602</td>\n      <td>259</td>\n      <td>260</td>\n    </tr>\n    <tr>\n      <th>14</th>\n      <td>2020-12-12</td>\n      <td>B</td>\n      <td>415</td>\n      <td>782</td>\n      <td>447</td>\n      <td>195</td>\n      <td>201</td>\n    </tr>\n    <tr>\n      <th>138</th>\n      <td>2020-12-13</td>\n      <td>A</td>\n      <td>621</td>\n      <td>1179</td>\n      <td>697</td>\n      <td>293</td>\n      <td>295</td>\n    </tr>\n    <tr>\n      <th>212</th>\n      <td>2020-12-13</td>\n      <td>B</td>\n      <td>432</td>\n      <td>869</td>\n      <td>491</td>\n      <td>213</td>\n      <td>228</td>\n    </tr>\n    <tr>\n      <th>198</th>\n      <td>2020-12-14</td>\n      <td>A</td>\n      <td>1008</td>\n      <td>1667</td>\n      <td>1005</td>\n      <td>436</td>\n      <td>439</td>\n    </tr>\n    <tr>\n      <th>361</th>\n      <td>2020-12-14</td>\n      <td>B</td>\n      <td>504</td>\n      <td>1000</td>\n      <td>558</td>\n      <td>253</td>\n      <td>262</td>\n    </tr>\n    <tr>\n      <th>129</th>\n      <td>2020-12-15</td>\n      <td>A</td>\n      <td>1216</td>\n      <td>2140</td>\n      <td>1309</td>\n      <td>597</td>\n      <td>585</td>\n    </tr>\n    <tr>\n      <th>39</th>\n      <td>2020-12-15</td>\n      <td>B</td>\n      <td>537</td>\n      <td>1116</td>\n      <td>612</td>\n      <td>283</td>\n      <td>294</td>\n    </tr>\n    <tr>\n      <th>54</th>\n      <td>2020-12-16</td>\n      <td>A</td>\n      <td>1385</td>\n      <td>2611</td>\n      <td>1610</td>\n      <td>743</td>\n      <td>736</td>\n    </tr>\n    <tr>\n      <th>15</th>\n      <td>2020-12-16</td>\n      <td>B</td>\n      <td>636</td>\n      <td>1288</td>\n      <td>713</td>\n      <td>342</td>\n      <td>347</td>\n    </tr>\n    <tr>\n      <th>510</th>\n      <td>2020-12-17</td>\n      <td>A</td>\n      <td>1597</td>\n      <td>3156</td>\n      <td>1958</td>\n      <td>929</td>\n      <td>909</td>\n    </tr>\n    <tr>\n      <th>82</th>\n      <td>2020-12-17</td>\n      <td>B</td>\n      <td>675</td>\n      <td>1420</td>\n      <td>790</td>\n      <td>392</td>\n      <td>384</td>\n    </tr>\n    <tr>\n      <th>161</th>\n      <td>2020-12-18</td>\n      <td>A</td>\n      <td>1817</td>\n      <td>3729</td>\n      <td>2348</td>\n      <td>1106</td>\n      <td>1081</td>\n    </tr>\n    <tr>\n      <th>213</th>\n      <td>2020-12-18</td>\n      <td>B</td>\n      <td>725</td>\n      <td>1555</td>\n      <td>855</td>\n      <td>434</td>\n      <td>414</td>\n    </tr>\n    <tr>\n      <th>139</th>\n      <td>2020-12-19</td>\n      <td>A</td>\n      <td>2056</td>\n      <td>4379</td>\n      <td>2777</td>\n      <td>1319</td>\n      <td>1295</td>\n    </tr>\n    <tr>\n      <th>278</th>\n      <td>2020-12-19</td>\n      <td>B</td>\n      <td>772</td>\n      <td>1703</td>\n      <td>934</td>\n      <td>477</td>\n      <td>448</td>\n    </tr>\n    <tr>\n      <th>47</th>\n      <td>2020-12-20</td>\n      <td>A</td>\n      <td>2330</td>\n      <td>5047</td>\n      <td>3207</td>\n      <td>1529</td>\n      <td>1515</td>\n    </tr>\n    <tr>\n      <th>83</th>\n      <td>2020-12-20</td>\n      <td>B</td>\n      <td>835</td>\n      <td>1865</td>\n      <td>1019</td>\n      <td>512</td>\n      <td>486</td>\n    </tr>\n    <tr>\n      <th>620</th>\n      <td>2020-12-21</td>\n      <td>A</td>\n      <td>2747</td>\n      <td>5930</td>\n      <td>3787</td>\n      <td>1780</td>\n      <td>1812</td>\n    </tr>\n    <tr>\n      <th>653</th>\n      <td>2020-12-21</td>\n      <td>B</td>\n      <td>928</td>\n      <td>2071</td>\n      <td>1130</td>\n      <td>571</td>\n      <td>540</td>\n    </tr>\n    <tr>\n      <th>28</th>\n      <td>2020-12-22</td>\n      <td>A</td>\n      <td>2747</td>\n      <td>6516</td>\n      <td>4168</td>\n      <td>1952</td>\n      <td>1984</td>\n    </tr>\n    <tr>\n      <th>115</th>\n      <td>2020-12-22</td>\n      <td>B</td>\n      <td>928</td>\n      <td>2173</td>\n      <td>1176</td>\n      <td>590</td>\n      <td>568</td>\n    </tr>\n    <tr>\n      <th>338</th>\n      <td>2020-12-23</td>\n      <td>A</td>\n      <td>2747</td>\n      <td>6967</td>\n      <td>4456</td>\n      <td>2080</td>\n      <td>2122</td>\n    </tr>\n    <tr>\n      <th>279</th>\n      <td>2020-12-23</td>\n      <td>B</td>\n      <td>928</td>\n      <td>2273</td>\n      <td>1225</td>\n      <td>613</td>\n      <td>592</td>\n    </tr>\n    <tr>\n      <th>288</th>\n      <td>2020-12-24</td>\n      <td>A</td>\n      <td>2747</td>\n      <td>7345</td>\n      <td>4716</td>\n      <td>2204</td>\n      <td>2248</td>\n    </tr>\n    <tr>\n      <th>403</th>\n      <td>2020-12-24</td>\n      <td>B</td>\n      <td>928</td>\n      <td>2348</td>\n      <td>1262</td>\n      <td>636</td>\n      <td>611</td>\n    </tr>\n    <tr>\n      <th>640</th>\n      <td>2020-12-26</td>\n      <td>A</td>\n      <td>2747</td>\n      <td>7607</td>\n      <td>4891</td>\n      <td>2280</td>\n      <td>2343</td>\n    </tr>\n    <tr>\n      <th>389</th>\n      <td>2020-12-26</td>\n      <td>B</td>\n      <td>928</td>\n      <td>2409</td>\n      <td>1300</td>\n      <td>649</td>\n      <td>624</td>\n    </tr>\n    <tr>\n      <th>55</th>\n      <td>2020-12-27</td>\n      <td>A</td>\n      <td>2747</td>\n      <td>7855</td>\n      <td>5054</td>\n      <td>2354</td>\n      <td>2430</td>\n    </tr>\n    <tr>\n      <th>280</th>\n      <td>2020-12-27</td>\n      <td>B</td>\n      <td>928</td>\n      <td>2469</td>\n      <td>1325</td>\n      <td>664</td>\n      <td>643</td>\n    </tr>\n    <tr>\n      <th>339</th>\n      <td>2020-12-28</td>\n      <td>A</td>\n      <td>2747</td>\n      <td>8072</td>\n      <td>5196</td>\n      <td>2427</td>\n      <td>2501</td>\n    </tr>\n    <tr>\n      <th>589</th>\n      <td>2020-12-28</td>\n      <td>B</td>\n      <td>928</td>\n      <td>2524</td>\n      <td>1353</td>\n      <td>671</td>\n      <td>653</td>\n    </tr>\n    <tr>\n      <th>289</th>\n      <td>2020-12-29</td>\n      <td>A</td>\n      <td>2747</td>\n      <td>8272</td>\n      <td>5328</td>\n      <td>2482</td>\n      <td>2545</td>\n    </tr>\n    <tr>\n      <th>150</th>\n      <td>2020-12-29</td>\n      <td>B</td>\n      <td>928</td>\n      <td>2563</td>\n      <td>1373</td>\n      <td>677</td>\n      <td>665</td>\n    </tr>\n    <tr>\n      <th>9641</th>\n      <td>2020-12-30</td>\n      <td>B</td>\n      <td>928</td>\n      <td>2565</td>\n      <td>1374</td>\n      <td>678</td>\n      <td>665</td>\n    </tr>\n  </tbody>\n</table>\n</div>"
     },
     "execution_count": 35,
     "metadata": {},
     "output_type": "execute_result"
    }
   ],
   "source": [
    "# Dividimos con dummies nuestros events_name para poder analizarlos\n",
    "data_events_participants_divided = pd.get_dummies(data_events_participants, columns=['event_name'])\n",
    "data_events_participants_divided\n",
    "\n",
    "# Obtenemos los datos diarios acumulados agregados sobre los pedidos\n",
    "events_aggregated = dates_groups.apply(lambda x: data_events_participants_divided[np.logical_and(data_events_participants_divided['date'] <= x['date'], data_events_participants_divided['group'] == x['group'])].agg({'date' : 'max', 'group' : 'max', 'user_id' : pd.Series.nunique, 'event_name_login' : 'sum', 'event_name_product_page' : 'sum', 'event_name_product_cart' : 'sum', 'event_name_purchase' : 'sum'}), axis=1).sort_values(by=['date','group'])\n",
    "events_aggregated"
   ],
   "metadata": {
    "collapsed": false,
    "ExecuteTime": {
     "end_time": "2023-07-09T21:57:34.249376900Z",
     "start_time": "2023-07-09T21:57:33.818370300Z"
    }
   }
  },
  {
   "cell_type": "code",
   "execution_count": 36,
   "outputs": [
    {
     "data": {
      "text/plain": "<matplotlib.legend.Legend at 0x16f4ad5abb0>"
     },
     "execution_count": 36,
     "metadata": {},
     "output_type": "execute_result"
    },
    {
     "data": {
      "text/plain": "<Figure size 1080x1080 with 4 Axes>",
      "image/png": "[encoded data removed]"
     },
     "metadata": {},
     "output_type": "display_data"
    }
   ],
   "source": [
    "# Calculamos la conversión acumulada para cada evento\n",
    "events_aggregated['total_events'] = events_aggregated['event_name_login'] + events_aggregated['event_name_product_page'] + events_aggregated['event_name_product_cart'] + events_aggregated['event_name_purchase']\n",
    "events_aggregated['conversion_product_page'] = events_aggregated['event_name_product_page'] / events_aggregated['total_events']\n",
    "events_aggregated['conversion_product_cart'] = events_aggregated['event_name_product_cart'] / events_aggregated['total_events']\n",
    "events_aggregated['conversion_purchase'] = events_aggregated['event_name_purchase'] / events_aggregated['total_events']\n",
    "\n",
    "# Seleccionar datos en el grupo A\n",
    "cumulative_data_a = events_aggregated[events_aggregated['group']=='A']\n",
    "\n",
    "# Seleccionar datos en el grupo B\n",
    "cumulative_data_b = events_aggregated[events_aggregated['group']=='B']\n",
    "\n",
    "# Subplots\n",
    "fig, axes = plt.subplots(2, 2, figsize=(15, 15))\n",
    "\n",
    "# Trazar los gráficos\n",
    "axes[0,0].plot(cumulative_data_a['date'], cumulative_data_a['conversion_product_page'], label='A')\n",
    "axes[0,0].plot(cumulative_data_b['date'], cumulative_data_b['conversion_product_page'], label='B')\n",
    "axes[0,0].legend()\n",
    "axes[0,0].set_title(\"Conversion vistas de la pagina del producto [product_page]\")\n",
    "axes[0,1].plot(cumulative_data_a['date'], cumulative_data_a['conversion_product_cart'], label='A')\n",
    "axes[0,1].plot(cumulative_data_b['date'], cumulative_data_b['conversion_product_cart'], label='B')\n",
    "axes[0,1].legend()\n",
    "axes[0,1].set_title(\"Conversion instancias de agregar articulos al carrito de compras [product_car]\")\n",
    "axes[1,0].plot(cumulative_data_a['date'], cumulative_data_a['conversion_purchase'], label='A')\n",
    "axes[1,0].plot(cumulative_data_b['date'], cumulative_data_b['conversion_purchase'], label='B')\n",
    "axes[1,0].set_title(\"Conversion compras [purchase]\")\n",
    "axes[1,0].legend()"
   ],
   "metadata": {
    "collapsed": false,
    "ExecuteTime": {
     "end_time": "2023-07-09T21:57:37.147369200Z",
     "start_time": "2023-07-09T21:57:34.213376700Z"
    }
   }
  },
  {
   "cell_type": "markdown",
   "source": [
    "Analizadas las graficas podemos notar lo siguiente:\n",
    "\n",
    "- La conversion de las personas que ven la pagina del producto empezo relativamente similiar en ambos grupos, sin embargo el grupo B empezo a decaer drasticamente mientras que el A crecio tambien drasticamente ocasionando una diferencia en la conversion de ambos grupos de 0.3 o 3% al final de la prueba\n",
    "- La conversion de las personas a agregar articulos al carrito empezo con una diferencia entre los grupos siendo el grupo B el que mayor conversion tenia, sin embargo el grupo A fue gananado conversion hasta que al final se tuvo una diferencia en promedio de 0.005 o 0.5%, siendo el grupo A el que mejor conversion tuvo en este evento\n",
    "- La conversion de productos comprados empezo relativamente alta teniendo un 0.15 para el grubo B pero empezo a decaer para ambos grupos, aunque el grupo A empezo a crecer conforme pasaban los dias mientras que el B solo se estabilizo, resultando en una diferencia de 0.010 o 1%, quedando el grupo A como el que mejor conversion logro."
   ],
   "metadata": {
    "collapsed": false
   }
  },
  {
   "cell_type": "code",
   "execution_count": 37,
   "outputs": [],
   "source": [
    "events_by_user = data_events_participants_divided.groupby('group', as_index=False).agg(({'event_name_login' : 'sum', 'event_name_product_page' : 'sum', 'event_name_product_cart' : 'sum', 'event_name_purchase' : 'sum'}))\n",
    "events_by_user['total_funnel_events'] = events_by_user['event_name_login'] + events_by_user['event_name_product_page'] + events_by_user['event_name_product_cart'] + events_by_user['event_name_purchase']\n",
    "events_by_user_a = events_by_user.query(\"group == 'A'\")\n",
    "events_by_user_b = events_by_user.query(\"group == 'B'\")\n",
    "\n",
    "def stadistic_difference_conversion(alpha, metric, event):\n",
    "\n",
    "    metrics = np.array([events_by_user_a[metric], events_by_user_b[metric]])\n",
    "    events = np.array([events_by_user_a[event], events_by_user_b[event]])\n",
    "\n",
    "    print(metrics)\n",
    "    print(events)\n",
    "\n",
    "    # proporción de éxito del grupo de a\n",
    "    p1 = metrics[0] / events[0]\n",
    "\n",
    "    # proporción de éxito del grupo b\n",
    "    p2 = metrics[1] / events[1]\n",
    "\n",
    "    # proporción de éxito en el dataset unido:\n",
    "    p_combined = (metrics[0] + metrics[1]) / (events[0] + events[1])\n",
    "\n",
    "    # la diferencia entre las proporciones de los datasets\n",
    "    difference = p1 - p2\n",
    "\n",
    "    z_value = difference / mth.sqrt(p_combined * (1 - p_combined) * (1/events[0] + 1/events[1]))\n",
    "\n",
    "    # establece la distribución normal estándar (media 0, desviación estándar 1)\n",
    "    distr = st.norm(0, 1)\n",
    "\n",
    "    p_value = (1 - distr.cdf(abs(z_value))) * 2\n",
    "\n",
    "    print(\"Conversion de total de eventos a\", metric)\n",
    "    print('p-value: ', p_value)\n",
    "    print(p2-p1 * 100)\n",
    "\n",
    "    if p_value < alpha: # escribe tu código aquí\n",
    "        print(\"Rechazar la hipótesis nula: hay una diferencia significativa entre las proporciones\")\n",
    "    else:\n",
    "        print(\"No se pudo rechazar la hipótesis nula: no hay razón para pensar que las proporciones son diferentes\")"
   ],
   "metadata": {
    "collapsed": false,
    "ExecuteTime": {
     "end_time": "2023-07-09T21:57:37.302701500Z",
     "start_time": "2023-07-09T21:57:37.152368700Z"
    }
   }
  },
  {
   "cell_type": "code",
   "execution_count": 38,
   "outputs": [
    {
     "name": "stdout",
     "output_type": "stream",
     "text": [
      "[[5328.]\n",
      " [1374.]]\n",
      "[[18627.]\n",
      " [ 5282.]]\n",
      "Conversion de total de eventos a event_name_product_page\n",
      "p-value:  [0.00021543]\n",
      "[-28.34351114]\n",
      "Rechazar la hipótesis nula: hay una diferencia significativa entre las proporciones\n",
      "\n",
      "[[2482.]\n",
      " [ 678.]]\n",
      "[[18627.]\n",
      " [ 5282.]]\n",
      "Conversion de total de eventos a event_name_product_cart\n",
      "p-value:  [0.35462587]\n",
      "[-13.19638318]\n",
      "No se pudo rechazar la hipótesis nula: no hay razón para pensar que las proporciones son diferentes\n",
      "\n",
      "[[2545.]\n",
      " [ 665.]]\n",
      "[[18627.]\n",
      " [ 5282.]]\n",
      "Conversion de total de eventos a event_name_purchase\n",
      "p-value:  [0.04348652]\n",
      "[-13.53706309]\n",
      "Rechazar la hipótesis nula: hay una diferencia significativa entre las proporciones\n"
     ]
    }
   ],
   "source": [
    "# Calculamos la diferencia estadistica para el evento product_page\n",
    "stadistic_difference_conversion(0.05, \"event_name_product_page\", \"total_funnel_events\")\n",
    "print()\n",
    "# Calculamos la diferencia estadistica para el evento product_cart\n",
    "stadistic_difference_conversion(0.05, \"event_name_product_cart\", \"total_funnel_events\")\n",
    "print()\n",
    "# Calculamos la diferencia estadistica para el evento purchase\n",
    "stadistic_difference_conversion(0.05, \"event_name_purchase\", \"total_funnel_events\")"
   ],
   "metadata": {
    "collapsed": false,
    "ExecuteTime": {
     "end_time": "2023-07-09T21:57:37.302701500Z",
     "start_time": "2023-07-09T21:57:37.179663500Z"
    }
   }
  },
  {
   "cell_type": "markdown",
   "source": [
    "Podemos dar las siguientes conclusiones:\n",
    "\n",
    "- Para el evento product_page podemos ver que hay una diferencia significativa entre las propociones de los grupos, en el cual la conversion del grupo B fue 28.34% menor relativamente a la del grupo A\n",
    "- Para el evento product_car no se detecto una diferencia significativa entre las propociones de los grupos, sin embargo la conversion del grupo B fue 13.19% menor relativamente a la del grupo A\n",
    "- Para el evento purchase podemos ver que hay una diferencia significativa entre las propociones de los grupos, en el cual la conversion del grupo B fue 13.53% menor relativamente a la del grupo A"
   ],
   "metadata": {
    "collapsed": false
   }
  },
  {
   "cell_type": "markdown",
   "source": [
    "## Conclusiones generales y recomendaciones\n",
    "\n",
    "Describe tus conclusiones con respecto a la etapa EDA y los resultados de la prueba A/B."
   ],
   "metadata": {
    "collapsed": false
   }
  },
  {
   "cell_type": "markdown",
   "source": [
    "En general pudimos notar que la prueba de no fue del todo bien implementado y por ende sus resultados podrian estar afectados, esto debido a los siguientes factores:\n",
    "\n",
    "- Aunque el numero de eventos por usuario tenia diferencias minimas en su distribucion, es notable que el numero de usuarios en el grupo A era muy superior al grupo B y por ende su numero de eventos.\n",
    "- De los 6,000 usuarios esperados para participar, solo participaron cerca de 4,000 usuarios\n",
    "- Se detecto que el evento ultimo del funnel tenia mas eventos que su antecesor, esto no deberia pasar y nos indica que hay formas que los usuarios hagan una compra sin pasar por el carrito de compras y por lo tanto el funnel no esta bien definido o hubo un problema en la clasificacion de estos eventos que ocasiono que esta situacion pasara\n",
    "- Las fechas de la prueba no fue la más acorde debido a que colindaba con fechas de fiestas (Navidad y Año Nuevo) por lo que los datos podrian sesgarse y no revelar el verdadero comportamiento de los usuarios, ademas de que se tuvo un paron en los eventos el dia 25 y podrian haber afectado los resultados.\n",
    "\n",
    "Los resultados finales de la prueba, no nos reflejaron el resultado esperado ya que:\n",
    "\n",
    "- Para el evento de `product_page`, la conversion del grupo expuesto tuvo una diferencia significativa con el control pero negativa, ya que este grupo expuesto reporto una conversion 28.34% menor a la del grupo control\n",
    "- Para el evento de `product_car`, la conversion del grupo expuesto no tuvo una diferencia significativa con el control, sin embargo se tuvo una baja relativa de 13.19% respecto al control\n",
    "- Para el evento de `purchase`, la conversion del grupo expuesto tuvo una diferencia significativa con el control pero negativa, ya que este grupo expuesto reporto una conversion 13.53% menor a la del grupo control\n",
    "\n",
    "Debido a estos resultados, la prueba se considera fallida. A pesar de ello, como comentamos al inicio es posible que todas las anomalias encontradas en las pruebas hayan ocasionado estos resultados negativos, por lo que se recomienda realizar una segunda prueba pero asegurandose de cumplir todos los pre-requisitos y cumpliendo bien con los parametros o realizar una nueva hipotesis que pueda ayudarnos a aumentar la conversion con el KPI buscado."
   ],
   "metadata": {
    "collapsed": false
   }
  }
 ],
 "metadata": {
  "kernelspec": {
   "display_name": "Python 3",
   "language": "python",
   "name": "python3"
  },
  "language_info": {
   "codemirror_mode": {
    "name": "ipython",
    "version": 2
   },
   "file_extension": ".py",
   "mimetype": "text/x-python",
   "name": "python",
   "nbconvert_exporter": "python",
   "pygments_lexer": "ipython2",
   "version": "2.7.6"
  }
 },
 "nbformat": 4,
 "nbformat_minor": 0
}
