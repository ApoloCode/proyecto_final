{
 "cells": [
  {
   "cell_type": "markdown",
   "source": [
    "# Proyecto de Telecomunicaciones: Identificar operadores ineficaces\n",
    "\n",
    "El servicio de telefonía virtual CallMeMaybe está desarrollando una nueva función que brindará a los supervisores y las supervisores información sobre los operadores menos eficaces. Se considera que un operador es ineficaz si tiene una gran cantidad de llamadas entrantes perdidas (internas y externas) y un tiempo de espera prolongado para las llamadas entrantes. Además, si se supone que un operador debe realizar llamadas salientes, un número reducido de ellas también será un signo de ineficacia."
   ],
   "metadata": {
    "collapsed": false
   }
  },
  {
   "cell_type": "markdown",
   "source": [
    "# Fases del proyecto\n",
    "\n",
    "- Objetivo de proyecto: Identificar a los operadores más ineficaces para poder realizar acciones especificas en ese personal y poder mejorar el rendimiento del servicio.\n",
    "\n",
    "1. Descarga de datos y estudio de la información general\n",
    "- En esta fase se descargaran los datos a ocupar y se vera una muestra de ellos, junto con información general (tipos de datos, columnas, etc) para identificar ajustes a realizar en la siguiente fase\n",
    "2. Preprocesamiento de datos\n",
    "- En esta fase se realizaran los ajustes previamente identificados y se prepara los datos para el análisis.\n",
    "3. Análisis Exploratorio de los datos (EDA)\n",
    "- Describe el comportamiento de los operadores. Identifica cuantos operadores están activos, su número de llamadas tanto salientes como entrantes, número total de llamadas y llamadas perdidas, calcula el tiempo de espera y tiempo de duración de llamadas promedio.\n",
    "- Describe el comportamiento de los clientes. Identifica que clientes ocupan más el servicio, su tarifa actual, que tanto tiempo llevan con el servicio.\n",
    "4. Análisis\n",
    "- Analiza e identifica a los 5 operadores que menos eficacia tienen respecto al resto.\n",
    "- Analiza e identifica a los 5 operadores que más eficacia tienen respecto al resto\n",
    "5. Prueba las hipótesis\n",
    "- Prueba que el número promedio de llamadas entrantes perdidas de los operadores identificados como menos eficaces y de los operadores identificados como más eficaces difiere.\n",
    "- Prueba que el tiempo de espera promedio de los operadores identificados como menos eficaces y de los operadores identificados como más eficaces difiere.\n",
    "- Prueba que el número promedio de llamadas salientes de los operadores identificados como menos eficaces y de los operadores identificados como más eficaces difiere.\n",
    "6. Escribe conclusiones generales y tus recomendaciones finales y posibles siguientes pasos.\n",
    "- Comenta las conclusiones y recomendaciones finales de todo el proceso.\n",
    "- Escribe los posibles next steps basados en tus conclusiones y recomendaciones finales"
   ],
   "metadata": {
    "collapsed": false
   }
  },
  {
   "cell_type": "markdown",
   "source": [
    "## Tabla de contenidos <a id='back'></a>\n",
    "\n",
    "- [Descarga de datos y estudio de la información general](#descarga_datos)\n",
    "- [Preprocesamiento de datos](#preprocesamiento)\n",
    "- [Análisis exploratorio de datos (EDA)](#eda)\n",
    "- [Prueba las hipótesis](#hipotesis)\n",
    "- [Conclusiones y recomendaciones](#conclusiones_recomendaciones)"
   ],
   "metadata": {
    "collapsed": false
   }
  },
  {
   "cell_type": "markdown",
   "source": [
    "## Descarga de datos y estudio de la información general\n",
    "\n",
    "En esta fase se descargaran los datos a ocupar y se vera una muestra de ellos, junto con información general (tipos de datos, columnas, etc) para identificar ajustes a realizar en la siguiente fase\n"
   ],
   "metadata": {
    "collapsed": false
   }
  },
  {
   "cell_type": "code",
   "execution_count": 2,
   "outputs": [],
   "source": [
    "# Cargar todas las librerías\n",
    "import pandas as pd\n",
    "import numpy as np\n",
    "from datetime import datetime\n",
    "import seaborn as sns\n",
    "import matplotlib.pyplot as plt\n",
    "from plotly import graph_objects as go\n",
    "from scipy import stats as st"
   ],
   "metadata": {
    "collapsed": false,
    "ExecuteTime": {
     "end_time": "2023-07-11T03:47:38.436872200Z",
     "start_time": "2023-07-11T03:47:26.863980100Z"
    }
   }
  },
  {
   "cell_type": "markdown",
   "source": [
    "Vamos a cargar los datos de los siguientes datasets:\n",
    "\n",
    "- `telecom_clients_us.csv`\n",
    "- `telecom_dataset_us.csv`"
   ],
   "metadata": {
    "collapsed": false
   }
  },
  {
   "cell_type": "code",
   "execution_count": 6,
   "outputs": [
    {
     "name": "stdout",
     "output_type": "stream",
     "text": [
      "   user_id tariff_plan  date_start\n",
      "0   166713           A  2019-08-15\n",
      "1   166901           A  2019-08-23\n",
      "2   168527           A  2019-10-29\n",
      "3   167097           A  2019-09-01\n",
      "4   168193           A  2019-10-16\n",
      "\n",
      "\n",
      "   user_id                       date direction internal  operator_id  \\\n",
      "0   166377  2019-08-04 00:00:00+03:00        in    False          NaN   \n",
      "1   166377  2019-08-05 00:00:00+03:00       out     True     880022.0   \n",
      "2   166377  2019-08-05 00:00:00+03:00       out     True     880020.0   \n",
      "3   166377  2019-08-05 00:00:00+03:00       out     True     880020.0   \n",
      "4   166377  2019-08-05 00:00:00+03:00       out    False     880022.0   \n",
      "\n",
      "   is_missed_call  calls_count  call_duration  total_call_duration  \n",
      "0            True            2              0                    4  \n",
      "1            True            3              0                    5  \n",
      "2            True            1              0                    1  \n",
      "3           False            1             10                   18  \n",
      "4            True            3              0                   25  \n"
     ]
    }
   ],
   "source": [
    "# Carga de los archivos de datos\n",
    "data_clients = pd.read_csv('data/telecom_clients_us.csv')\n",
    "data = pd.read_csv('data/telecom_dataset_us.csv')\n",
    "\n",
    "# Verificamos que los datos se hayan cargado correctamente\n",
    "print(data_clients.head())\n",
    "print('\\n')\n",
    "print(data.head())"
   ],
   "metadata": {
    "collapsed": false,
    "ExecuteTime": {
     "end_time": "2023-07-11T03:52:07.327567700Z",
     "start_time": "2023-07-11T03:52:07.243562600Z"
    }
   }
  },
  {
   "cell_type": "markdown",
   "source": [
    "Los datos se han cargado correctamente. Vamos a estudiar los datos que continen nuestros datasets y verificar que los tipos de datos sean correctos para nuestro análisis"
   ],
   "metadata": {
    "collapsed": false
   }
  },
  {
   "cell_type": "code",
   "execution_count": 7,
   "outputs": [
    {
     "name": "stdout",
     "output_type": "stream",
     "text": [
      "<class 'pandas.core.frame.DataFrame'>\n",
      "RangeIndex: 732 entries, 0 to 731\n",
      "Data columns (total 3 columns):\n",
      " #   Column       Non-Null Count  Dtype \n",
      "---  ------       --------------  ----- \n",
      " 0   user_id      732 non-null    int64 \n",
      " 1   tariff_plan  732 non-null    object\n",
      " 2   date_start   732 non-null    object\n",
      "dtypes: int64(1), object(2)\n",
      "memory usage: 17.3+ KB\n"
     ]
    }
   ],
   "source": [
    "# Imprimimos la información general/resumen sobre nuestro primer dataset data_clients\n",
    "data_clients.info()"
   ],
   "metadata": {
    "collapsed": false,
    "ExecuteTime": {
     "end_time": "2023-07-11T03:53:09.003479800Z",
     "start_time": "2023-07-11T03:53:08.929484600Z"
    }
   }
  },
  {
   "cell_type": "code",
   "execution_count": 9,
   "outputs": [
    {
     "data": {
      "text/plain": "   user_id tariff_plan  date_start\n0   166713           A  2019-08-15\n1   166901           A  2019-08-23\n2   168527           A  2019-10-29\n3   167097           A  2019-09-01\n4   168193           A  2019-10-16",
      "text/html": "<div>\n<style scoped>\n    .dataframe tbody tr th:only-of-type {\n        vertical-align: middle;\n    }\n\n    .dataframe tbody tr th {\n        vertical-align: top;\n    }\n\n    .dataframe thead th {\n        text-align: right;\n    }\n</style>\n<table border=\"1\" class=\"dataframe\">\n  <thead>\n    <tr style=\"text-align: right;\">\n      <th></th>\n      <th>user_id</th>\n      <th>tariff_plan</th>\n      <th>date_start</th>\n    </tr>\n  </thead>\n  <tbody>\n    <tr>\n      <th>0</th>\n      <td>166713</td>\n      <td>A</td>\n      <td>2019-08-15</td>\n    </tr>\n    <tr>\n      <th>1</th>\n      <td>166901</td>\n      <td>A</td>\n      <td>2019-08-23</td>\n    </tr>\n    <tr>\n      <th>2</th>\n      <td>168527</td>\n      <td>A</td>\n      <td>2019-10-29</td>\n    </tr>\n    <tr>\n      <th>3</th>\n      <td>167097</td>\n      <td>A</td>\n      <td>2019-09-01</td>\n    </tr>\n    <tr>\n      <th>4</th>\n      <td>168193</td>\n      <td>A</td>\n      <td>2019-10-16</td>\n    </tr>\n  </tbody>\n</table>\n</div>"
     },
     "execution_count": 9,
     "metadata": {},
     "output_type": "execute_result"
    }
   ],
   "source": [
    "data_clients.head()"
   ],
   "metadata": {
    "collapsed": false,
    "ExecuteTime": {
     "end_time": "2023-07-11T04:00:22.716208300Z",
     "start_time": "2023-07-11T04:00:22.685910400Z"
    }
   }
  },
  {
   "cell_type": "markdown",
   "source": [
    "Nuestro dataset `data_clients` que son los datos de los clientes del servicio, contiene los siguientes datos:\n",
    "\n",
    "- `user_id`: ID de usuario/a\n",
    "- `tariff_plan`: tarifa actual de la clientela\n",
    "- `date_start`: fecha de registro de la clientela"
   ],
   "metadata": {
    "collapsed": false
   }
  },
  {
   "cell_type": "code",
   "execution_count": 12,
   "outputs": [
    {
     "name": "stdout",
     "output_type": "stream",
     "text": [
      "Datos duplicados en el dataset: 0\n",
      "Datos duplicados en el user_id del dataset: 0\n"
     ]
    }
   ],
   "source": [
    "# Verificamos que no haya datos duplicados en el dataset completo\n",
    "print('Datos duplicados en el dataset:', data_clients.duplicated().sum())\n",
    "# Verificamos que no haya datos duplicados en user_id\n",
    "print('Datos duplicados en el user_id del dataset:', data_clients['user_id'].duplicated().sum())"
   ],
   "metadata": {
    "collapsed": false,
    "ExecuteTime": {
     "end_time": "2023-07-11T04:11:37.947820300Z",
     "start_time": "2023-07-11T04:11:37.923613100Z"
    }
   }
  },
  {
   "cell_type": "markdown",
   "source": [
    "### Conclusiones del dataset\n",
    "\n",
    "Al ver la muestra y resumen del dataset, no encontramos duplicados ni ausentes. Sin embargo, es necesario cambiar el tipo de dato de la columna `date_start` a datetime para poder realizar operaciones con fechas."
   ],
   "metadata": {
    "collapsed": false
   }
  },
  {
   "cell_type": "code",
   "execution_count": 13,
   "outputs": [
    {
     "name": "stdout",
     "output_type": "stream",
     "text": [
      "<class 'pandas.core.frame.DataFrame'>\n",
      "RangeIndex: 53902 entries, 0 to 53901\n",
      "Data columns (total 9 columns):\n",
      " #   Column               Non-Null Count  Dtype  \n",
      "---  ------               --------------  -----  \n",
      " 0   user_id              53902 non-null  int64  \n",
      " 1   date                 53902 non-null  object \n",
      " 2   direction            53902 non-null  object \n",
      " 3   internal             53785 non-null  object \n",
      " 4   operator_id          45730 non-null  float64\n",
      " 5   is_missed_call       53902 non-null  bool   \n",
      " 6   calls_count          53902 non-null  int64  \n",
      " 7   call_duration        53902 non-null  int64  \n",
      " 8   total_call_duration  53902 non-null  int64  \n",
      "dtypes: bool(1), float64(1), int64(4), object(3)\n",
      "memory usage: 3.3+ MB\n"
     ]
    }
   ],
   "source": [
    "# Imprimimos la información general/resumen sobre nuestro segundo dataset data\n",
    "data.info()"
   ],
   "metadata": {
    "collapsed": false,
    "ExecuteTime": {
     "end_time": "2023-07-11T04:13:46.804108800Z",
     "start_time": "2023-07-11T04:13:46.754066900Z"
    }
   }
  },
  {
   "cell_type": "code",
   "execution_count": 14,
   "outputs": [
    {
     "data": {
      "text/plain": "   user_id                       date direction internal  operator_id  \\\n0   166377  2019-08-04 00:00:00+03:00        in    False          NaN   \n1   166377  2019-08-05 00:00:00+03:00       out     True     880022.0   \n2   166377  2019-08-05 00:00:00+03:00       out     True     880020.0   \n3   166377  2019-08-05 00:00:00+03:00       out     True     880020.0   \n4   166377  2019-08-05 00:00:00+03:00       out    False     880022.0   \n\n   is_missed_call  calls_count  call_duration  total_call_duration  \n0            True            2              0                    4  \n1            True            3              0                    5  \n2            True            1              0                    1  \n3           False            1             10                   18  \n4            True            3              0                   25  ",
      "text/html": "<div>\n<style scoped>\n    .dataframe tbody tr th:only-of-type {\n        vertical-align: middle;\n    }\n\n    .dataframe tbody tr th {\n        vertical-align: top;\n    }\n\n    .dataframe thead th {\n        text-align: right;\n    }\n</style>\n<table border=\"1\" class=\"dataframe\">\n  <thead>\n    <tr style=\"text-align: right;\">\n      <th></th>\n      <th>user_id</th>\n      <th>date</th>\n      <th>direction</th>\n      <th>internal</th>\n      <th>operator_id</th>\n      <th>is_missed_call</th>\n      <th>calls_count</th>\n      <th>call_duration</th>\n      <th>total_call_duration</th>\n    </tr>\n  </thead>\n  <tbody>\n    <tr>\n      <th>0</th>\n      <td>166377</td>\n      <td>2019-08-04 00:00:00+03:00</td>\n      <td>in</td>\n      <td>False</td>\n      <td>NaN</td>\n      <td>True</td>\n      <td>2</td>\n      <td>0</td>\n      <td>4</td>\n    </tr>\n    <tr>\n      <th>1</th>\n      <td>166377</td>\n      <td>2019-08-05 00:00:00+03:00</td>\n      <td>out</td>\n      <td>True</td>\n      <td>880022.0</td>\n      <td>True</td>\n      <td>3</td>\n      <td>0</td>\n      <td>5</td>\n    </tr>\n    <tr>\n      <th>2</th>\n      <td>166377</td>\n      <td>2019-08-05 00:00:00+03:00</td>\n      <td>out</td>\n      <td>True</td>\n      <td>880020.0</td>\n      <td>True</td>\n      <td>1</td>\n      <td>0</td>\n      <td>1</td>\n    </tr>\n    <tr>\n      <th>3</th>\n      <td>166377</td>\n      <td>2019-08-05 00:00:00+03:00</td>\n      <td>out</td>\n      <td>True</td>\n      <td>880020.0</td>\n      <td>False</td>\n      <td>1</td>\n      <td>10</td>\n      <td>18</td>\n    </tr>\n    <tr>\n      <th>4</th>\n      <td>166377</td>\n      <td>2019-08-05 00:00:00+03:00</td>\n      <td>out</td>\n      <td>False</td>\n      <td>880022.0</td>\n      <td>True</td>\n      <td>3</td>\n      <td>0</td>\n      <td>25</td>\n    </tr>\n  </tbody>\n</table>\n</div>"
     },
     "execution_count": 14,
     "metadata": {},
     "output_type": "execute_result"
    }
   ],
   "source": [
    "data.head()"
   ],
   "metadata": {
    "collapsed": false,
    "ExecuteTime": {
     "end_time": "2023-07-11T04:14:27.136136Z",
     "start_time": "2023-07-11T04:14:27.106138700Z"
    }
   }
  },
  {
   "cell_type": "markdown",
   "source": [
    "Nuestro dataset `data` que son los datos sobre las llamadas realizadas por los operadores o recibidas por ellos, contiene las siguientes columnas:\n",
    "\n",
    "- `user_id`: ID de la cuenta de cliente\n",
    "- `date`: fecha en la que se recuperaron las estadísticas\n",
    "- `direction`: - \"dirección\" de llamada (`out` para saliente, `in` para entrante)\n",
    "- `internal`: si la llamada fue interna (entre los operadores de un cliente o clienta)\n",
    "- `operator_id`: identificador del operador\n",
    "- `is_missed_call`: si fue una llamada perdida\n",
    "- `calls_count`: número de llamadas\n",
    "- `call_duration`: duración de la llamada (sin incluir el tiempo de espera)\n",
    "- `total_call_duration`: duración de la llamada (incluido el tiempo de espera)"
   ],
   "metadata": {
    "collapsed": false
   }
  },
  {
   "cell_type": "code",
   "execution_count": 17,
   "outputs": [
    {
     "name": "stdout",
     "output_type": "stream",
     "text": [
      "Datos duplicados en el dataset: 4900\n"
     ]
    }
   ],
   "source": [
    "# Verificamos que no haya datos duplicados en el dataset completo\n",
    "print('Datos duplicados en el dataset:', data.duplicated().sum())"
   ],
   "metadata": {
    "collapsed": false,
    "ExecuteTime": {
     "end_time": "2023-07-11T05:39:44.730331400Z",
     "start_time": "2023-07-11T05:39:44.676565300Z"
    }
   }
  },
  {
   "cell_type": "markdown",
   "source": [
    "### Conclusiones del dataset\n",
    "\n",
    "Al ver la muestra y resumen del dataset, encontramos 2 columnas con datos ausentes `internal` y `operator_id`; por la muestra que vimos de los datos si la llamada es dirección entrante el operator_id no es registrado y de ahi los nulos de esta columna, sin embargo, se debe hacer un análisis a fondo para tomar la mejor decision para tratarlos. Junto a esto, se detectaron 4900 datos duplicados, estos también deben investigarse para tomar la mejor decisión de como tratarlos. Finalmente se deben cambiar los tipos de datos de las siguientes columnas `date` a datetime, `internal` a bool y `operator_id` a int."
   ],
   "metadata": {
    "collapsed": false
   }
  },
  {
   "cell_type": "markdown",
   "source": [
    "## Preprocesamiento de datos\n",
    "\n",
    "En esta fase haremos los ajustes identificados en la fase anterior, los cuales se encuentran ambos datasets."
   ],
   "metadata": {
    "collapsed": false
   }
  },
  {
   "cell_type": "markdown",
   "source": [
    "### Datos Ausentes\n",
    "\n",
    "Como comentamos anteriormente, se encontraron 2 columnas con datos ausentes\n",
    "\n",
    "- `internal`\n",
    "- `operator_id`\n",
    "\n",
    "Investiguemos las columnas para tomar la mejor decisión de como procesarlos."
   ],
   "metadata": {
    "collapsed": false
   }
  },
  {
   "cell_type": "code",
   "execution_count": 18,
   "outputs": [
    {
     "data": {
      "text/plain": "user_id                 0.000000\ndate                    0.000000\ndirection               0.000000\ninternal                0.217061\noperator_id            15.160847\nis_missed_call          0.000000\ncalls_count             0.000000\ncall_duration           0.000000\ntotal_call_duration     0.000000\ndtype: float64"
     },
     "execution_count": 18,
     "metadata": {},
     "output_type": "execute_result"
    }
   ],
   "source": [
    "# Vamos a checar el porcentaje de valores ausentes en general\n",
    "porcentaje_nulos = lambda x: x * 100 / data.user_id.size\n",
    "data.isna().sum().apply(porcentaje_nulos)"
   ],
   "metadata": {
    "collapsed": false,
    "ExecuteTime": {
     "end_time": "2023-07-11T06:22:36.788170400Z",
     "start_time": "2023-07-11T06:22:36.747153100Z"
    }
   }
  },
  {
   "cell_type": "code",
   "execution_count": 20,
   "outputs": [
    {
     "data": {
      "text/plain": "      user_id                       date direction internal  operator_id  \\\n1007   166405  2019-09-18 00:00:00+03:00        in      NaN          NaN   \n1090   166405  2019-10-01 00:00:00+03:00        in      NaN          NaN   \n1864   166406  2019-08-20 00:00:00+03:00        in      NaN          NaN   \n1924   166406  2019-09-02 00:00:00+03:00        in      NaN     879898.0   \n6210   166541  2019-09-26 00:00:00+03:00        in      NaN     908960.0   \n\n      is_missed_call  calls_count  call_duration  total_call_duration  \n1007            True            1              0                   59  \n1090            True            1              0                    1  \n1864            True            1              0                   36  \n1924           False            1              2                    9  \n6210           False            1            393                  423  ",
      "text/html": "<div>\n<style scoped>\n    .dataframe tbody tr th:only-of-type {\n        vertical-align: middle;\n    }\n\n    .dataframe tbody tr th {\n        vertical-align: top;\n    }\n\n    .dataframe thead th {\n        text-align: right;\n    }\n</style>\n<table border=\"1\" class=\"dataframe\">\n  <thead>\n    <tr style=\"text-align: right;\">\n      <th></th>\n      <th>user_id</th>\n      <th>date</th>\n      <th>direction</th>\n      <th>internal</th>\n      <th>operator_id</th>\n      <th>is_missed_call</th>\n      <th>calls_count</th>\n      <th>call_duration</th>\n      <th>total_call_duration</th>\n    </tr>\n  </thead>\n  <tbody>\n    <tr>\n      <th>1007</th>\n      <td>166405</td>\n      <td>2019-09-18 00:00:00+03:00</td>\n      <td>in</td>\n      <td>NaN</td>\n      <td>NaN</td>\n      <td>True</td>\n      <td>1</td>\n      <td>0</td>\n      <td>59</td>\n    </tr>\n    <tr>\n      <th>1090</th>\n      <td>166405</td>\n      <td>2019-10-01 00:00:00+03:00</td>\n      <td>in</td>\n      <td>NaN</td>\n      <td>NaN</td>\n      <td>True</td>\n      <td>1</td>\n      <td>0</td>\n      <td>1</td>\n    </tr>\n    <tr>\n      <th>1864</th>\n      <td>166406</td>\n      <td>2019-08-20 00:00:00+03:00</td>\n      <td>in</td>\n      <td>NaN</td>\n      <td>NaN</td>\n      <td>True</td>\n      <td>1</td>\n      <td>0</td>\n      <td>36</td>\n    </tr>\n    <tr>\n      <th>1924</th>\n      <td>166406</td>\n      <td>2019-09-02 00:00:00+03:00</td>\n      <td>in</td>\n      <td>NaN</td>\n      <td>879898.0</td>\n      <td>False</td>\n      <td>1</td>\n      <td>2</td>\n      <td>9</td>\n    </tr>\n    <tr>\n      <th>6210</th>\n      <td>166541</td>\n      <td>2019-09-26 00:00:00+03:00</td>\n      <td>in</td>\n      <td>NaN</td>\n      <td>908960.0</td>\n      <td>False</td>\n      <td>1</td>\n      <td>393</td>\n      <td>423</td>\n    </tr>\n  </tbody>\n</table>\n</div>"
     },
     "execution_count": 20,
     "metadata": {},
     "output_type": "execute_result"
    }
   ],
   "source": [
    "## Investiguemos la columna internal\n",
    "# Veamos una muestra de los datos donde hay ausentes\n",
    "data[data['internal'].isna()].head()"
   ],
   "metadata": {
    "collapsed": false,
    "ExecuteTime": {
     "end_time": "2023-07-11T06:24:22.423006900Z",
     "start_time": "2023-07-11T06:24:22.393967900Z"
    }
   }
  },
  {
   "cell_type": "markdown",
   "source": [
    "Parece indicar que todas las llamadas internas vacías son llamadas entrantes, verifiquemos."
   ],
   "metadata": {
    "collapsed": false
   }
  },
  {
   "cell_type": "code",
   "execution_count": 21,
   "outputs": [
    {
     "data": {
      "text/plain": "in     115\nout      2\nName: direction, dtype: int64"
     },
     "execution_count": 21,
     "metadata": {},
     "output_type": "execute_result"
    }
   ],
   "source": [
    "# Vemos los valores en direction de las rows con valores ausentes en internal\n",
    "data[data['internal'].isna()]['direction'].value_counts()"
   ],
   "metadata": {
    "collapsed": false,
    "ExecuteTime": {
     "end_time": "2023-07-11T06:26:35.609946600Z",
     "start_time": "2023-07-11T06:26:35.578130800Z"
    }
   }
  },
  {
   "cell_type": "markdown",
   "source": [
    "Como podemos observar, tenemos 115 llamadas entrantes y 2 salientes; por lo que nuestra hipotesis del inicio no fue cierta. Tomando en cuenta que sin otra posible conexion con las demás columnas no seria posible recuperar los posibles datos faltantes y que los datos ausentes representan un 0.21% de nuestra total data, se toma la decisión de eliminar los datos ausentes de esta columna."
   ],
   "metadata": {
    "collapsed": false
   }
  },
  {
   "cell_type": "code",
   "execution_count": 37,
   "outputs": [
    {
     "data": {
      "text/plain": "user_id                 0.00000\ndate                    0.00000\ndirection               0.00000\ninternal                0.00000\noperator_id            15.08785\nis_missed_call          0.00000\ncalls_count             0.00000\ncall_duration           0.00000\ntotal_call_duration     0.00000\ndtype: float64"
     },
     "execution_count": 37,
     "metadata": {},
     "output_type": "execute_result"
    }
   ],
   "source": [
    "# Eliminamos los datos ausentes de la columna internal\n",
    "data = data[~data['internal'].isna()]\n",
    "# Vamos a checar el porcentaje de valores ausentes en general\n",
    "porcentaje_nulos = lambda x: x * 100 / data.user_id.size\n",
    "data.isna().sum().apply(porcentaje_nulos)"
   ],
   "metadata": {
    "collapsed": false,
    "ExecuteTime": {
     "end_time": "2023-07-11T06:41:59.584836400Z",
     "start_time": "2023-07-11T06:41:59.526793200Z"
    }
   }
  },
  {
   "cell_type": "code",
   "execution_count": 39,
   "outputs": [
    {
     "data": {
      "text/plain": "    user_id                       date direction internal  operator_id  \\\n0    166377  2019-08-04 00:00:00+03:00        in    False          NaN   \n7    166377  2019-08-05 00:00:00+03:00        in    False          NaN   \n9    166377  2019-08-06 00:00:00+03:00        in    False          NaN   \n17   166377  2019-08-07 00:00:00+03:00        in    False          NaN   \n27   166377  2019-08-12 00:00:00+03:00        in    False          NaN   \n\n    is_missed_call  calls_count  call_duration  total_call_duration  \n0             True            2              0                    4  \n7             True            6              0                   35  \n9             True            4              0                   62  \n17            True            2              0                   24  \n27            True            2              0                   34  ",
      "text/html": "<div>\n<style scoped>\n    .dataframe tbody tr th:only-of-type {\n        vertical-align: middle;\n    }\n\n    .dataframe tbody tr th {\n        vertical-align: top;\n    }\n\n    .dataframe thead th {\n        text-align: right;\n    }\n</style>\n<table border=\"1\" class=\"dataframe\">\n  <thead>\n    <tr style=\"text-align: right;\">\n      <th></th>\n      <th>user_id</th>\n      <th>date</th>\n      <th>direction</th>\n      <th>internal</th>\n      <th>operator_id</th>\n      <th>is_missed_call</th>\n      <th>calls_count</th>\n      <th>call_duration</th>\n      <th>total_call_duration</th>\n    </tr>\n  </thead>\n  <tbody>\n    <tr>\n      <th>0</th>\n      <td>166377</td>\n      <td>2019-08-04 00:00:00+03:00</td>\n      <td>in</td>\n      <td>False</td>\n      <td>NaN</td>\n      <td>True</td>\n      <td>2</td>\n      <td>0</td>\n      <td>4</td>\n    </tr>\n    <tr>\n      <th>7</th>\n      <td>166377</td>\n      <td>2019-08-05 00:00:00+03:00</td>\n      <td>in</td>\n      <td>False</td>\n      <td>NaN</td>\n      <td>True</td>\n      <td>6</td>\n      <td>0</td>\n      <td>35</td>\n    </tr>\n    <tr>\n      <th>9</th>\n      <td>166377</td>\n      <td>2019-08-06 00:00:00+03:00</td>\n      <td>in</td>\n      <td>False</td>\n      <td>NaN</td>\n      <td>True</td>\n      <td>4</td>\n      <td>0</td>\n      <td>62</td>\n    </tr>\n    <tr>\n      <th>17</th>\n      <td>166377</td>\n      <td>2019-08-07 00:00:00+03:00</td>\n      <td>in</td>\n      <td>False</td>\n      <td>NaN</td>\n      <td>True</td>\n      <td>2</td>\n      <td>0</td>\n      <td>24</td>\n    </tr>\n    <tr>\n      <th>27</th>\n      <td>166377</td>\n      <td>2019-08-12 00:00:00+03:00</td>\n      <td>in</td>\n      <td>False</td>\n      <td>NaN</td>\n      <td>True</td>\n      <td>2</td>\n      <td>0</td>\n      <td>34</td>\n    </tr>\n  </tbody>\n</table>\n</div>"
     },
     "execution_count": 39,
     "metadata": {},
     "output_type": "execute_result"
    }
   ],
   "source": [
    "## Investiguemos la columna operator_id\n",
    "# Veamos una muestra de los datos donde hay ausentes\n",
    "data[data['operator_id'].isna()].head()"
   ],
   "metadata": {
    "collapsed": false,
    "ExecuteTime": {
     "end_time": "2023-07-11T06:43:10.771389800Z",
     "start_time": "2023-07-11T06:43:10.732326500Z"
    }
   }
  },
  {
   "cell_type": "code",
   "execution_count": 43,
   "outputs": [
    {
     "name": "stdout",
     "output_type": "stream",
     "text": [
      "Direction\n",
      "in     7917\n",
      "out     198\n",
      "Name: direction, dtype: int64\n",
      "\n",
      "Internal\n",
      "False    7760\n",
      "True      355\n",
      "Name: internal, dtype: int64\n",
      "\n",
      "Is_missed_call\n",
      "True     7993\n",
      "False     122\n",
      "Name: is_missed_call, dtype: int64\n",
      "\n",
      "user_id\n",
      "168252    145\n",
      "166405    120\n",
      "166582    118\n",
      "166782    117\n",
      "166658    111\n",
      "         ... \n",
      "168010      1\n",
      "167139      1\n",
      "166507      1\n",
      "166554      1\n",
      "168013      1\n",
      "Name: user_id, Length: 305, dtype: int64\n"
     ]
    }
   ],
   "source": [
    "# Veamos los valores unicos de las columnas direction, internal, is_missed_call y user_id\n",
    "print('Direction')\n",
    "print(data[data['operator_id'].isna()]['direction'].value_counts())\n",
    "print('\\nInternal')\n",
    "print(data[data['operator_id'].isna()]['internal'].value_counts())\n",
    "print('\\nIs_missed_call')\n",
    "print(data[data['operator_id'].isna()]['is_missed_call'].value_counts())\n",
    "print('\\nuser_id')\n",
    "print(data[data['operator_id'].isna()]['user_id'].value_counts())"
   ],
   "metadata": {
    "collapsed": false,
    "ExecuteTime": {
     "end_time": "2023-07-11T06:46:00.791223900Z",
     "start_time": "2023-07-11T06:46:00.758395800Z"
    }
   }
  },
  {
   "cell_type": "markdown",
   "source": [
    "Como podemos ver, las primeras 3 columnas tienen datos ausentes en las 2 opciones por lo que no podriamos generar una relación desde ellas para rellenar estos datos, sin embargo podemos ver que tenemos 305 clientes sin operador_id y si cada cliente tiene un unico operador, podemos generar una relación y recuperar los datos. Primero verifiquemos que cada cliente tiene un solo operador."
   ],
   "metadata": {
    "collapsed": false
   }
  },
  {
   "cell_type": "code",
   "execution_count": 44,
   "outputs": [
    {
     "data": {
      "text/plain": "user_id\n166377     5\n166391     2\n166392     3\n166399     1\n166405    10\n          ..\n168583     2\n168598     1\n168601     2\n168603     1\n168606     1\nName: operator_id, Length: 307, dtype: int64"
     },
     "execution_count": 44,
     "metadata": {},
     "output_type": "execute_result"
    }
   ],
   "source": [
    "# Verificamos si cada cliente tiene un solo operador\n",
    "data.groupby('user_id')['operator_id'].nunique()"
   ],
   "metadata": {
    "collapsed": false,
    "ExecuteTime": {
     "end_time": "2023-07-11T06:49:40.730400100Z",
     "start_time": "2023-07-11T06:49:40.698418400Z"
    }
   }
  },
  {
   "cell_type": "markdown",
   "source": [
    "Como podemos ver en la tabla, hay clientes que tiene hasta 10 operadores por lo que no es posible saber con seguridad que operador cubrio la llamada. Tomando en cuenta todo esto se decide por ultimo eliminarlos del dataset, la perdida seria del 15% de nuestra información, sin embargo, al no poder recuperar los datos del operador no podriamos realizar un análisis correctamente."
   ],
   "metadata": {
    "collapsed": false
   }
  },
  {
   "cell_type": "code",
   "execution_count": 45,
   "outputs": [
    {
     "data": {
      "text/plain": "user_id                0.0\ndate                   0.0\ndirection              0.0\ninternal               0.0\noperator_id            0.0\nis_missed_call         0.0\ncalls_count            0.0\ncall_duration          0.0\ntotal_call_duration    0.0\ndtype: float64"
     },
     "execution_count": 45,
     "metadata": {},
     "output_type": "execute_result"
    }
   ],
   "source": [
    "# Eliminamos los datos ausentes de la columna internal\n",
    "data = data[~data['operator_id'].isna()]\n",
    "# Vamos a checar el porcentaje de valores ausentes en general\n",
    "porcentaje_nulos = lambda x: x * 100 / data.user_id.size\n",
    "data.isna().sum().apply(porcentaje_nulos)"
   ],
   "metadata": {
    "collapsed": false,
    "ExecuteTime": {
     "end_time": "2023-07-11T06:54:20.020917600Z",
     "start_time": "2023-07-11T06:54:19.967611700Z"
    }
   }
  },
  {
   "cell_type": "code",
   "execution_count": 47,
   "outputs": [
    {
     "name": "stdout",
     "output_type": "stream",
     "text": [
      "<class 'pandas.core.frame.DataFrame'>\n",
      "Int64Index: 45670 entries, 1 to 53900\n",
      "Data columns (total 9 columns):\n",
      " #   Column               Non-Null Count  Dtype  \n",
      "---  ------               --------------  -----  \n",
      " 0   user_id              45670 non-null  int64  \n",
      " 1   date                 45670 non-null  object \n",
      " 2   direction            45670 non-null  object \n",
      " 3   internal             45670 non-null  object \n",
      " 4   operator_id          45670 non-null  float64\n",
      " 5   is_missed_call       45670 non-null  bool   \n",
      " 6   calls_count          45670 non-null  int64  \n",
      " 7   call_duration        45670 non-null  int64  \n",
      " 8   total_call_duration  45670 non-null  int64  \n",
      "dtypes: bool(1), float64(1), int64(4), object(3)\n",
      "memory usage: 3.2+ MB\n"
     ]
    }
   ],
   "source": [
    "data.info()"
   ],
   "metadata": {
    "collapsed": false,
    "ExecuteTime": {
     "end_time": "2023-07-11T06:55:04.576459900Z",
     "start_time": "2023-07-11T06:55:04.522465100Z"
    }
   }
  },
  {
   "cell_type": "markdown",
   "source": [
    "Al eliminar los datos ausentes, pasamos de 53,902 rows a 45,670 rows, un número todavia apto para realizar nuestro análisis."
   ],
   "metadata": {
    "collapsed": false
   }
  },
  {
   "cell_type": "markdown",
   "source": [
    "### Datos duplicados\n",
    "\n",
    "Se detectaron un total de 4,900 datos duplicados, los cuales deben estudiarse para ver la mejor opción para tratarlos"
   ],
   "metadata": {
    "collapsed": false
   }
  },
  {
   "cell_type": "code",
   "execution_count": 50,
   "outputs": [
    {
     "data": {
      "text/plain": "       user_id                       date direction internal  operator_id  \\\n8       166377  2019-08-05 00:00:00+03:00       out    False     880020.0   \n44      166377  2019-08-14 00:00:00+03:00       out    False     880026.0   \n51      166377  2019-08-15 00:00:00+03:00       out    False     880026.0   \n62      166377  2019-08-19 00:00:00+03:00       out    False     880026.0   \n78      166377  2019-08-22 00:00:00+03:00       out    False     880026.0   \n...        ...                        ...       ...      ...          ...   \n53861   168601  2019-11-20 00:00:00+03:00       out    False     952914.0   \n53869   168601  2019-11-25 00:00:00+03:00        in    False     952914.0   \n53874   168601  2019-11-26 00:00:00+03:00        in    False     952914.0   \n53885   168603  2019-11-20 00:00:00+03:00       out    False     959118.0   \n53900   168606  2019-11-15 00:00:00+03:00       out     True     957922.0   \n\n       is_missed_call  calls_count  call_duration  total_call_duration  \n8                True            8              0                   50  \n44              False           10           1567                 1654  \n51              False           11           1413                 1473  \n62              False           14           1519                 1598  \n78               True            6              0                   55  \n...               ...          ...            ...                  ...  \n53861            True            1              0                    2  \n53869           False            7           1229                 1282  \n53874           False            4            539                  562  \n53885            True            3              0                   89  \n53900           False            4           3130                 3190  \n\n[4179 rows x 9 columns]",
      "text/html": "<div>\n<style scoped>\n    .dataframe tbody tr th:only-of-type {\n        vertical-align: middle;\n    }\n\n    .dataframe tbody tr th {\n        vertical-align: top;\n    }\n\n    .dataframe thead th {\n        text-align: right;\n    }\n</style>\n<table border=\"1\" class=\"dataframe\">\n  <thead>\n    <tr style=\"text-align: right;\">\n      <th></th>\n      <th>user_id</th>\n      <th>date</th>\n      <th>direction</th>\n      <th>internal</th>\n      <th>operator_id</th>\n      <th>is_missed_call</th>\n      <th>calls_count</th>\n      <th>call_duration</th>\n      <th>total_call_duration</th>\n    </tr>\n  </thead>\n  <tbody>\n    <tr>\n      <th>8</th>\n      <td>166377</td>\n      <td>2019-08-05 00:00:00+03:00</td>\n      <td>out</td>\n      <td>False</td>\n      <td>880020.0</td>\n      <td>True</td>\n      <td>8</td>\n      <td>0</td>\n      <td>50</td>\n    </tr>\n    <tr>\n      <th>44</th>\n      <td>166377</td>\n      <td>2019-08-14 00:00:00+03:00</td>\n      <td>out</td>\n      <td>False</td>\n      <td>880026.0</td>\n      <td>False</td>\n      <td>10</td>\n      <td>1567</td>\n      <td>1654</td>\n    </tr>\n    <tr>\n      <th>51</th>\n      <td>166377</td>\n      <td>2019-08-15 00:00:00+03:00</td>\n      <td>out</td>\n      <td>False</td>\n      <td>880026.0</td>\n      <td>False</td>\n      <td>11</td>\n      <td>1413</td>\n      <td>1473</td>\n    </tr>\n    <tr>\n      <th>62</th>\n      <td>166377</td>\n      <td>2019-08-19 00:00:00+03:00</td>\n      <td>out</td>\n      <td>False</td>\n      <td>880026.0</td>\n      <td>False</td>\n      <td>14</td>\n      <td>1519</td>\n      <td>1598</td>\n    </tr>\n    <tr>\n      <th>78</th>\n      <td>166377</td>\n      <td>2019-08-22 00:00:00+03:00</td>\n      <td>out</td>\n      <td>False</td>\n      <td>880026.0</td>\n      <td>True</td>\n      <td>6</td>\n      <td>0</td>\n      <td>55</td>\n    </tr>\n    <tr>\n      <th>...</th>\n      <td>...</td>\n      <td>...</td>\n      <td>...</td>\n      <td>...</td>\n      <td>...</td>\n      <td>...</td>\n      <td>...</td>\n      <td>...</td>\n      <td>...</td>\n    </tr>\n    <tr>\n      <th>53861</th>\n      <td>168601</td>\n      <td>2019-11-20 00:00:00+03:00</td>\n      <td>out</td>\n      <td>False</td>\n      <td>952914.0</td>\n      <td>True</td>\n      <td>1</td>\n      <td>0</td>\n      <td>2</td>\n    </tr>\n    <tr>\n      <th>53869</th>\n      <td>168601</td>\n      <td>2019-11-25 00:00:00+03:00</td>\n      <td>in</td>\n      <td>False</td>\n      <td>952914.0</td>\n      <td>False</td>\n      <td>7</td>\n      <td>1229</td>\n      <td>1282</td>\n    </tr>\n    <tr>\n      <th>53874</th>\n      <td>168601</td>\n      <td>2019-11-26 00:00:00+03:00</td>\n      <td>in</td>\n      <td>False</td>\n      <td>952914.0</td>\n      <td>False</td>\n      <td>4</td>\n      <td>539</td>\n      <td>562</td>\n    </tr>\n    <tr>\n      <th>53885</th>\n      <td>168603</td>\n      <td>2019-11-20 00:00:00+03:00</td>\n      <td>out</td>\n      <td>False</td>\n      <td>959118.0</td>\n      <td>True</td>\n      <td>3</td>\n      <td>0</td>\n      <td>89</td>\n    </tr>\n    <tr>\n      <th>53900</th>\n      <td>168606</td>\n      <td>2019-11-15 00:00:00+03:00</td>\n      <td>out</td>\n      <td>True</td>\n      <td>957922.0</td>\n      <td>False</td>\n      <td>4</td>\n      <td>3130</td>\n      <td>3190</td>\n    </tr>\n  </tbody>\n</table>\n<p>4179 rows × 9 columns</p>\n</div>"
     },
     "execution_count": 50,
     "metadata": {},
     "output_type": "execute_result"
    }
   ],
   "source": [
    "# Veamos una muestra de los datos donde hay ausentes\n",
    "data[data.duplicated()]"
   ],
   "metadata": {
    "collapsed": false,
    "ExecuteTime": {
     "end_time": "2023-07-11T06:59:49.820419200Z",
     "start_time": "2023-07-11T06:59:49.773437700Z"
    }
   }
  },
  {
   "cell_type": "markdown",
   "source": [
    "Una vez viendo una muestra podemos ver que los datos que se encontraron duplicados fue en su mayoria porque compartian user_id, operator_id y otras columnas que tienden a repetirse debido a la naturaleza de como estan los datos, sin embargo las fechas difieren para cada columna."
   ],
   "metadata": {
    "collapsed": false
   }
  }
 ],
 "metadata": {
  "kernelspec": {
   "display_name": "Python 3",
   "language": "python",
   "name": "python3"
  },
  "language_info": {
   "codemirror_mode": {
    "name": "ipython",
    "version": 2
   },
   "file_extension": ".py",
   "mimetype": "text/x-python",
   "name": "python",
   "nbconvert_exporter": "python",
   "pygments_lexer": "ipython2",
   "version": "2.7.6"
  }
 },
 "nbformat": 4,
 "nbformat_minor": 0
}
