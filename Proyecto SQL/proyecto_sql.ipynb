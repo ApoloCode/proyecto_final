{
 "cells": [
  {
   "cell_type": "markdown",
   "source": [
    "# Proyecto SQL\n",
    "\n",
    "El coronavirus tomó al mundo entero por sorpresa, cambiando la rutina diaria de todos y todas. Los habitantes de las ciudades ya no pasaban su tiempo libre fuera, yendo a cafés y centros comerciales; sino que más gente se quedaba en casa, leyendo libros. Eso atrajo la atención de las startups (empresas emergentes) que se apresuraron a desarrollar nuevas aplicaciones para los amantes de los libros.\n",
    "\n",
    "Te han dado una base de datos de uno de los servicios que compiten en este mercado. Contiene datos sobre libros, editoriales, autores y calificaciones de clientes y reseñas de libros. Esta información se utilizará para generar una propuesta de valor para un nuevo producto."
   ],
   "metadata": {
    "collapsed": false
   }
  },
  {
   "cell_type": "code",
   "execution_count": 1,
   "outputs": [],
   "source": [
    "# Librerias\n",
    "import pandas as pd\n",
    "from sqlalchemy import create_engine"
   ],
   "metadata": {
    "collapsed": false,
    "ExecuteTime": {
     "end_time": "2023-07-10T07:28:29.387906600Z",
     "start_time": "2023-07-10T07:28:28.221094Z"
    }
   }
  },
  {
   "cell_type": "markdown",
   "source": [
    "# Tabla de contenidos <a id='back'></a>\n",
    "\n",
    "1. [Conexión a la base de datos y análisis de tablas](#descarga_datos)\n",
    "2. [Resolución de ejercicios](#eda)\n",
    "3. [Conclusiones generales y recomendaciones](#conclusiones)"
   ],
   "metadata": {
    "collapsed": false
   }
  },
  {
   "cell_type": "markdown",
   "source": [
    "## Conexión a la base de datos y análisis de tablas\n",
    "\n",
    "En este paso, se hara la conexion y primer analisis de las tablas"
   ],
   "metadata": {
    "collapsed": false
   }
  },
  {
   "cell_type": "code",
   "execution_count": 2,
   "outputs": [],
   "source": [
    "# Conexion a la base de datos\n",
    "db_config = {'user': 'practicum_student', # nombre de usuario\n",
    "             'pwd': 's65BlTKV3faNIGhmvJVzOqhs', # contraseña\n",
    "             'host': 'rc1b-wcoijxj3yxfsf3fs.mdb.yandexcloud.net',\n",
    "             'port': 6432, # puerto de conexión\n",
    "             'db': 'data-analyst-final-project-db'} # nombre de la base de datos\n",
    "connection_string = 'postgresql://{}:{}@{}:{}/{}'.format(db_config['user'],\n",
    "                                                         db_config['pwd'],\n",
    "                                                         db_config['host'],\n",
    "                                                         db_config['port'],\n",
    "                                                         db_config['db'])\n",
    "\n",
    "engine = create_engine(connection_string, connect_args={'sslmode':'require'})"
   ],
   "metadata": {
    "collapsed": false,
    "ExecuteTime": {
     "end_time": "2023-07-10T07:28:29.464887300Z",
     "start_time": "2023-07-10T07:28:29.390915900Z"
    }
   }
  },
  {
   "cell_type": "code",
   "execution_count": 3,
   "outputs": [
    {
     "data": {
      "text/plain": "   book_id  author_id                                              title  \\\n0        1        546                                       'Salem's Lot   \n1        2        465                 1 000 Places to See Before You Die   \n2        3        407  13 Little Blue Envelopes (Little Blue Envelope...   \n3        4         82  1491: New Revelations of the Americas Before C...   \n4        5        125                                               1776   \n\n   num_pages publication_date  publisher_id  \n0        594       2005-11-01            93  \n1        992       2003-05-22           336  \n2        322       2010-12-21           135  \n3        541       2006-10-10           309  \n4        386       2006-07-04           268  ",
      "text/html": "<div>\n<style scoped>\n    .dataframe tbody tr th:only-of-type {\n        vertical-align: middle;\n    }\n\n    .dataframe tbody tr th {\n        vertical-align: top;\n    }\n\n    .dataframe thead th {\n        text-align: right;\n    }\n</style>\n<table border=\"1\" class=\"dataframe\">\n  <thead>\n    <tr style=\"text-align: right;\">\n      <th></th>\n      <th>book_id</th>\n      <th>author_id</th>\n      <th>title</th>\n      <th>num_pages</th>\n      <th>publication_date</th>\n      <th>publisher_id</th>\n    </tr>\n  </thead>\n  <tbody>\n    <tr>\n      <th>0</th>\n      <td>1</td>\n      <td>546</td>\n      <td>'Salem's Lot</td>\n      <td>594</td>\n      <td>2005-11-01</td>\n      <td>93</td>\n    </tr>\n    <tr>\n      <th>1</th>\n      <td>2</td>\n      <td>465</td>\n      <td>1 000 Places to See Before You Die</td>\n      <td>992</td>\n      <td>2003-05-22</td>\n      <td>336</td>\n    </tr>\n    <tr>\n      <th>2</th>\n      <td>3</td>\n      <td>407</td>\n      <td>13 Little Blue Envelopes (Little Blue Envelope...</td>\n      <td>322</td>\n      <td>2010-12-21</td>\n      <td>135</td>\n    </tr>\n    <tr>\n      <th>3</th>\n      <td>4</td>\n      <td>82</td>\n      <td>1491: New Revelations of the Americas Before C...</td>\n      <td>541</td>\n      <td>2006-10-10</td>\n      <td>309</td>\n    </tr>\n    <tr>\n      <th>4</th>\n      <td>5</td>\n      <td>125</td>\n      <td>1776</td>\n      <td>386</td>\n      <td>2006-07-04</td>\n      <td>268</td>\n    </tr>\n  </tbody>\n</table>\n</div>"
     },
     "execution_count": 3,
     "metadata": {},
     "output_type": "execute_result"
    }
   ],
   "source": [
    "# Vemos el contenido de la tabla books\n",
    "query = ''' SELECT * FROM books '''\n",
    "data_books = pd.io.sql.read_sql(query, con=engine)\n",
    "\n",
    "data_books.head(5)"
   ],
   "metadata": {
    "collapsed": false,
    "ExecuteTime": {
     "end_time": "2023-07-10T07:28:34.459628600Z",
     "start_time": "2023-07-10T07:28:29.467914Z"
    }
   }
  },
  {
   "cell_type": "markdown",
   "source": [],
   "metadata": {
    "collapsed": false
   }
  },
  {
   "cell_type": "markdown",
   "source": [
    "Nuestra tabla `books` que son los datos sobre libros, contiene las siguientes columnas:\n",
    "\n",
    "- `book_id`: identificación del libro\n",
    "- `author_id`: identificación del autor o autora\n",
    "- `title`: título\n",
    "- `num_pages`: número de páginas\n",
    "- `publication_date`: fecha de la publicación\n",
    "- `publisher_id`: identificación de la editorial"
   ],
   "metadata": {
    "collapsed": false
   }
  },
  {
   "cell_type": "code",
   "execution_count": 4,
   "outputs": [
    {
     "data": {
      "text/plain": "   book_id  author_id                                              title  \\\n0        1        546                                       'Salem's Lot   \n1        2        465                 1 000 Places to See Before You Die   \n2        3        407  13 Little Blue Envelopes (Little Blue Envelope...   \n3        4         82  1491: New Revelations of the Americas Before C...   \n4        5        125                                               1776   \n\n   num_pages publication_date  publisher_id  \n0        594       2005-11-01            93  \n1        992       2003-05-22           336  \n2        322       2010-12-21           135  \n3        541       2006-10-10           309  \n4        386       2006-07-04           268  ",
      "text/html": "<div>\n<style scoped>\n    .dataframe tbody tr th:only-of-type {\n        vertical-align: middle;\n    }\n\n    .dataframe tbody tr th {\n        vertical-align: top;\n    }\n\n    .dataframe thead th {\n        text-align: right;\n    }\n</style>\n<table border=\"1\" class=\"dataframe\">\n  <thead>\n    <tr style=\"text-align: right;\">\n      <th></th>\n      <th>book_id</th>\n      <th>author_id</th>\n      <th>title</th>\n      <th>num_pages</th>\n      <th>publication_date</th>\n      <th>publisher_id</th>\n    </tr>\n  </thead>\n  <tbody>\n    <tr>\n      <th>0</th>\n      <td>1</td>\n      <td>546</td>\n      <td>'Salem's Lot</td>\n      <td>594</td>\n      <td>2005-11-01</td>\n      <td>93</td>\n    </tr>\n    <tr>\n      <th>1</th>\n      <td>2</td>\n      <td>465</td>\n      <td>1 000 Places to See Before You Die</td>\n      <td>992</td>\n      <td>2003-05-22</td>\n      <td>336</td>\n    </tr>\n    <tr>\n      <th>2</th>\n      <td>3</td>\n      <td>407</td>\n      <td>13 Little Blue Envelopes (Little Blue Envelope...</td>\n      <td>322</td>\n      <td>2010-12-21</td>\n      <td>135</td>\n    </tr>\n    <tr>\n      <th>3</th>\n      <td>4</td>\n      <td>82</td>\n      <td>1491: New Revelations of the Americas Before C...</td>\n      <td>541</td>\n      <td>2006-10-10</td>\n      <td>309</td>\n    </tr>\n    <tr>\n      <th>4</th>\n      <td>5</td>\n      <td>125</td>\n      <td>1776</td>\n      <td>386</td>\n      <td>2006-07-04</td>\n      <td>268</td>\n    </tr>\n  </tbody>\n</table>\n</div>"
     },
     "execution_count": 4,
     "metadata": {},
     "output_type": "execute_result"
    }
   ],
   "source": [
    "# Vemos el contenido de la tabla authors\n",
    "query = ''' SELECT * FROM authors '''\n",
    "data_authors = pd.io.sql.read_sql(query, con=engine)\n",
    "\n",
    "data_books.head(5)"
   ],
   "metadata": {
    "collapsed": false,
    "ExecuteTime": {
     "end_time": "2023-07-10T07:28:35.740584400Z",
     "start_time": "2023-07-10T07:28:34.464671900Z"
    }
   }
  },
  {
   "cell_type": "markdown",
   "source": [
    "Nuestra tabla `authors` que son los datos sobre autores, contiene las siguientes columnas:\n",
    "\n",
    "- `author_id`: identificación del autor o autora\n",
    "- `author`: el autor o la autora"
   ],
   "metadata": {
    "collapsed": false
   }
  },
  {
   "cell_type": "code",
   "execution_count": 5,
   "outputs": [
    {
     "data": {
      "text/plain": "   book_id  author_id                                              title  \\\n0        1        546                                       'Salem's Lot   \n1        2        465                 1 000 Places to See Before You Die   \n2        3        407  13 Little Blue Envelopes (Little Blue Envelope...   \n3        4         82  1491: New Revelations of the Americas Before C...   \n4        5        125                                               1776   \n\n   num_pages publication_date  publisher_id  \n0        594       2005-11-01            93  \n1        992       2003-05-22           336  \n2        322       2010-12-21           135  \n3        541       2006-10-10           309  \n4        386       2006-07-04           268  ",
      "text/html": "<div>\n<style scoped>\n    .dataframe tbody tr th:only-of-type {\n        vertical-align: middle;\n    }\n\n    .dataframe tbody tr th {\n        vertical-align: top;\n    }\n\n    .dataframe thead th {\n        text-align: right;\n    }\n</style>\n<table border=\"1\" class=\"dataframe\">\n  <thead>\n    <tr style=\"text-align: right;\">\n      <th></th>\n      <th>book_id</th>\n      <th>author_id</th>\n      <th>title</th>\n      <th>num_pages</th>\n      <th>publication_date</th>\n      <th>publisher_id</th>\n    </tr>\n  </thead>\n  <tbody>\n    <tr>\n      <th>0</th>\n      <td>1</td>\n      <td>546</td>\n      <td>'Salem's Lot</td>\n      <td>594</td>\n      <td>2005-11-01</td>\n      <td>93</td>\n    </tr>\n    <tr>\n      <th>1</th>\n      <td>2</td>\n      <td>465</td>\n      <td>1 000 Places to See Before You Die</td>\n      <td>992</td>\n      <td>2003-05-22</td>\n      <td>336</td>\n    </tr>\n    <tr>\n      <th>2</th>\n      <td>3</td>\n      <td>407</td>\n      <td>13 Little Blue Envelopes (Little Blue Envelope...</td>\n      <td>322</td>\n      <td>2010-12-21</td>\n      <td>135</td>\n    </tr>\n    <tr>\n      <th>3</th>\n      <td>4</td>\n      <td>82</td>\n      <td>1491: New Revelations of the Americas Before C...</td>\n      <td>541</td>\n      <td>2006-10-10</td>\n      <td>309</td>\n    </tr>\n    <tr>\n      <th>4</th>\n      <td>5</td>\n      <td>125</td>\n      <td>1776</td>\n      <td>386</td>\n      <td>2006-07-04</td>\n      <td>268</td>\n    </tr>\n  </tbody>\n</table>\n</div>"
     },
     "execution_count": 5,
     "metadata": {},
     "output_type": "execute_result"
    }
   ],
   "source": [
    "# Vemos el contenido de la tabla ratings\n",
    "query = ''' SELECT * FROM ratings '''\n",
    "data_ratings = pd.io.sql.read_sql(query, con=engine)\n",
    "\n",
    "data_books.head(5)"
   ],
   "metadata": {
    "collapsed": false,
    "ExecuteTime": {
     "end_time": "2023-07-10T07:28:37.522355200Z",
     "start_time": "2023-07-10T07:28:35.745577400Z"
    }
   }
  },
  {
   "cell_type": "markdown",
   "source": [
    "Nuestra tabla `ratings` que son los datos sobre las calificaciones de usuarios, contiene las siguientes columnas:\n",
    "\n",
    "- `rating_id`: identificación de la calificación\n",
    "- `book_id`: identificación del libro\n",
    "- `username`: el nombre del usuario que revisó el libro\n",
    "- `rating`: calificación"
   ],
   "metadata": {
    "collapsed": false
   }
  },
  {
   "cell_type": "code",
   "execution_count": 6,
   "outputs": [
    {
     "data": {
      "text/plain": "   book_id  author_id                                              title  \\\n0        1        546                                       'Salem's Lot   \n1        2        465                 1 000 Places to See Before You Die   \n2        3        407  13 Little Blue Envelopes (Little Blue Envelope...   \n3        4         82  1491: New Revelations of the Americas Before C...   \n4        5        125                                               1776   \n\n   num_pages publication_date  publisher_id  \n0        594       2005-11-01            93  \n1        992       2003-05-22           336  \n2        322       2010-12-21           135  \n3        541       2006-10-10           309  \n4        386       2006-07-04           268  ",
      "text/html": "<div>\n<style scoped>\n    .dataframe tbody tr th:only-of-type {\n        vertical-align: middle;\n    }\n\n    .dataframe tbody tr th {\n        vertical-align: top;\n    }\n\n    .dataframe thead th {\n        text-align: right;\n    }\n</style>\n<table border=\"1\" class=\"dataframe\">\n  <thead>\n    <tr style=\"text-align: right;\">\n      <th></th>\n      <th>book_id</th>\n      <th>author_id</th>\n      <th>title</th>\n      <th>num_pages</th>\n      <th>publication_date</th>\n      <th>publisher_id</th>\n    </tr>\n  </thead>\n  <tbody>\n    <tr>\n      <th>0</th>\n      <td>1</td>\n      <td>546</td>\n      <td>'Salem's Lot</td>\n      <td>594</td>\n      <td>2005-11-01</td>\n      <td>93</td>\n    </tr>\n    <tr>\n      <th>1</th>\n      <td>2</td>\n      <td>465</td>\n      <td>1 000 Places to See Before You Die</td>\n      <td>992</td>\n      <td>2003-05-22</td>\n      <td>336</td>\n    </tr>\n    <tr>\n      <th>2</th>\n      <td>3</td>\n      <td>407</td>\n      <td>13 Little Blue Envelopes (Little Blue Envelope...</td>\n      <td>322</td>\n      <td>2010-12-21</td>\n      <td>135</td>\n    </tr>\n    <tr>\n      <th>3</th>\n      <td>4</td>\n      <td>82</td>\n      <td>1491: New Revelations of the Americas Before C...</td>\n      <td>541</td>\n      <td>2006-10-10</td>\n      <td>309</td>\n    </tr>\n    <tr>\n      <th>4</th>\n      <td>5</td>\n      <td>125</td>\n      <td>1776</td>\n      <td>386</td>\n      <td>2006-07-04</td>\n      <td>268</td>\n    </tr>\n  </tbody>\n</table>\n</div>"
     },
     "execution_count": 6,
     "metadata": {},
     "output_type": "execute_result"
    }
   ],
   "source": [
    "# Vemos el contenido de la tabla reviews\n",
    "query = ''' SELECT * FROM reviews '''\n",
    "data_reviews = pd.io.sql.read_sql(query, con=engine)\n",
    "\n",
    "data_books.head(5)"
   ],
   "metadata": {
    "collapsed": false,
    "ExecuteTime": {
     "end_time": "2023-07-10T07:28:39.077095500Z",
     "start_time": "2023-07-10T07:28:37.523357300Z"
    }
   }
  },
  {
   "cell_type": "markdown",
   "source": [
    "Nuestra tabla `reviews` que contiene datos sobre las reseñas de los y las clientes, presenta las siguientes columnas:\n",
    "\n",
    "- `review_id`: identificación de la reseña\n",
    "- `book_id`: identificación del libro\n",
    "- `username`: el nombre del usuario que revisó el libro\n",
    "- `text`: el texto de la reseña"
   ],
   "metadata": {
    "collapsed": false
   }
  },
  {
   "cell_type": "code",
   "execution_count": 7,
   "outputs": [
    {
     "data": {
      "text/plain": "   book_id  author_id                                              title  \\\n0        1        546                                       'Salem's Lot   \n1        2        465                 1 000 Places to See Before You Die   \n2        3        407  13 Little Blue Envelopes (Little Blue Envelope...   \n3        4         82  1491: New Revelations of the Americas Before C...   \n4        5        125                                               1776   \n\n   num_pages publication_date  publisher_id  \n0        594       2005-11-01            93  \n1        992       2003-05-22           336  \n2        322       2010-12-21           135  \n3        541       2006-10-10           309  \n4        386       2006-07-04           268  ",
      "text/html": "<div>\n<style scoped>\n    .dataframe tbody tr th:only-of-type {\n        vertical-align: middle;\n    }\n\n    .dataframe tbody tr th {\n        vertical-align: top;\n    }\n\n    .dataframe thead th {\n        text-align: right;\n    }\n</style>\n<table border=\"1\" class=\"dataframe\">\n  <thead>\n    <tr style=\"text-align: right;\">\n      <th></th>\n      <th>book_id</th>\n      <th>author_id</th>\n      <th>title</th>\n      <th>num_pages</th>\n      <th>publication_date</th>\n      <th>publisher_id</th>\n    </tr>\n  </thead>\n  <tbody>\n    <tr>\n      <th>0</th>\n      <td>1</td>\n      <td>546</td>\n      <td>'Salem's Lot</td>\n      <td>594</td>\n      <td>2005-11-01</td>\n      <td>93</td>\n    </tr>\n    <tr>\n      <th>1</th>\n      <td>2</td>\n      <td>465</td>\n      <td>1 000 Places to See Before You Die</td>\n      <td>992</td>\n      <td>2003-05-22</td>\n      <td>336</td>\n    </tr>\n    <tr>\n      <th>2</th>\n      <td>3</td>\n      <td>407</td>\n      <td>13 Little Blue Envelopes (Little Blue Envelope...</td>\n      <td>322</td>\n      <td>2010-12-21</td>\n      <td>135</td>\n    </tr>\n    <tr>\n      <th>3</th>\n      <td>4</td>\n      <td>82</td>\n      <td>1491: New Revelations of the Americas Before C...</td>\n      <td>541</td>\n      <td>2006-10-10</td>\n      <td>309</td>\n    </tr>\n    <tr>\n      <th>4</th>\n      <td>5</td>\n      <td>125</td>\n      <td>1776</td>\n      <td>386</td>\n      <td>2006-07-04</td>\n      <td>268</td>\n    </tr>\n  </tbody>\n</table>\n</div>"
     },
     "execution_count": 7,
     "metadata": {},
     "output_type": "execute_result"
    }
   ],
   "source": [
    "# Vemos el contenido de la tabla publishers\n",
    "query = ''' SELECT * FROM publishers '''\n",
    "data_publishers = pd.io.sql.read_sql(query, con=engine)\n",
    "\n",
    "data_books.head(5)"
   ],
   "metadata": {
    "collapsed": false,
    "ExecuteTime": {
     "end_time": "2023-07-10T07:28:40.368522100Z",
     "start_time": "2023-07-10T07:28:39.080090500Z"
    }
   }
  },
  {
   "cell_type": "markdown",
   "source": [
    "Nuestra tabla `publishers` que contiene datos sobre editoriales, presenta las siguientes columnas:\n",
    "\n",
    "- `publisher_id`: identificación de la editorial\n",
    "- `publisher`: la editorial"
   ],
   "metadata": {
    "collapsed": false
   }
  },
  {
   "cell_type": "markdown",
   "source": [
    "## Resolución de ejercicios\n",
    "\n",
    "1. Encuentra el número de libros publicados después del 1 de enero de 2000.\n",
    "2. Encuentra el número de reseñas de usuarios y la calificación promedio para cada libro.\n",
    "3. Identifica la editorial que ha publicado el mayor número de libros con más de 50 páginas (esto te ayudará a excluir folletos y publicaciones similares de tu análisis).\n",
    "4. Identifica al autor que tiene la más alta calificación promedio del libro: mira solo los libros con al menos 50 calificaciones.\n",
    "5. Encuentra el número promedio de reseñas de texto entre los usuarios que calificaron más de 50 libros."
   ],
   "metadata": {
    "collapsed": false
   }
  },
  {
   "cell_type": "markdown",
   "source": [
    "### Encuentra el número de libros publicados después del 1 de enero de 2000."
   ],
   "metadata": {
    "collapsed": false
   }
  },
  {
   "cell_type": "code",
   "execution_count": 8,
   "outputs": [
    {
     "data": {
      "text/plain": "   cnt\n0  819",
      "text/html": "<div>\n<style scoped>\n    .dataframe tbody tr th:only-of-type {\n        vertical-align: middle;\n    }\n\n    .dataframe tbody tr th {\n        vertical-align: top;\n    }\n\n    .dataframe thead th {\n        text-align: right;\n    }\n</style>\n<table border=\"1\" class=\"dataframe\">\n  <thead>\n    <tr style=\"text-align: right;\">\n      <th></th>\n      <th>cnt</th>\n    </tr>\n  </thead>\n  <tbody>\n    <tr>\n      <th>0</th>\n      <td>819</td>\n    </tr>\n  </tbody>\n</table>\n</div>"
     },
     "execution_count": 8,
     "metadata": {},
     "output_type": "execute_result"
    }
   ],
   "source": [
    "# Número de libros publicados después del 1 de enero del 2000\n",
    "query = ''' SELECT COUNT(*) AS cnt FROM BOOKS WHERE publication_date > '2000-01-01' '''\n",
    "exercise1 = pd.io.sql.read_sql(query, con=engine)\n",
    "exercise1"
   ],
   "metadata": {
    "collapsed": false,
    "ExecuteTime": {
     "end_time": "2023-07-10T07:28:41.646318200Z",
     "start_time": "2023-07-10T07:28:40.371533400Z"
    }
   }
  },
  {
   "cell_type": "markdown",
   "source": [
    "Podemos ver que el número de libros publicados despues del 1 de enero del 2000 son 819"
   ],
   "metadata": {
    "collapsed": false
   }
  },
  {
   "cell_type": "markdown",
   "source": [
    "### Encuentra el número de reseñas de usuarios y la calificación promedio para cada libro."
   ],
   "metadata": {
    "collapsed": false
   }
  },
  {
   "cell_type": "code",
   "execution_count": 9,
   "outputs": [
    {
     "data": {
      "text/plain": "       id                                          book_name  mean_rating  \\\n0       1                                       'Salem's Lot     3.666667   \n1       2                 1 000 Places to See Before You Die     2.500000   \n2       3  13 Little Blue Envelopes (Little Blue Envelope...     4.666667   \n3       4  1491: New Revelations of the Americas Before C...     4.500000   \n4       5                                               1776     4.000000   \n..    ...                                                ...          ...   \n995   996           Wyrd Sisters (Discworld  #6; Witches #2)     3.666667   \n996   997                        Xenocide (Ender's Saga  #3)     3.400000   \n997   998                                    Year of Wonders     3.200000   \n998   999                        You Suck (A Love Story  #2)     4.500000   \n999  1000  Zen and the Art of Motorcycle Maintenance: An ...     3.833333   \n\n     count_reviews  \n0              2.0  \n1              1.0  \n2              3.0  \n3              2.0  \n4              4.0  \n..             ...  \n995            3.0  \n996            3.0  \n997            4.0  \n998            2.0  \n999            4.0  \n\n[1000 rows x 4 columns]",
      "text/html": "<div>\n<style scoped>\n    .dataframe tbody tr th:only-of-type {\n        vertical-align: middle;\n    }\n\n    .dataframe tbody tr th {\n        vertical-align: top;\n    }\n\n    .dataframe thead th {\n        text-align: right;\n    }\n</style>\n<table border=\"1\" class=\"dataframe\">\n  <thead>\n    <tr style=\"text-align: right;\">\n      <th></th>\n      <th>id</th>\n      <th>book_name</th>\n      <th>mean_rating</th>\n      <th>count_reviews</th>\n    </tr>\n  </thead>\n  <tbody>\n    <tr>\n      <th>0</th>\n      <td>1</td>\n      <td>'Salem's Lot</td>\n      <td>3.666667</td>\n      <td>2.0</td>\n    </tr>\n    <tr>\n      <th>1</th>\n      <td>2</td>\n      <td>1 000 Places to See Before You Die</td>\n      <td>2.500000</td>\n      <td>1.0</td>\n    </tr>\n    <tr>\n      <th>2</th>\n      <td>3</td>\n      <td>13 Little Blue Envelopes (Little Blue Envelope...</td>\n      <td>4.666667</td>\n      <td>3.0</td>\n    </tr>\n    <tr>\n      <th>3</th>\n      <td>4</td>\n      <td>1491: New Revelations of the Americas Before C...</td>\n      <td>4.500000</td>\n      <td>2.0</td>\n    </tr>\n    <tr>\n      <th>4</th>\n      <td>5</td>\n      <td>1776</td>\n      <td>4.000000</td>\n      <td>4.0</td>\n    </tr>\n    <tr>\n      <th>...</th>\n      <td>...</td>\n      <td>...</td>\n      <td>...</td>\n      <td>...</td>\n    </tr>\n    <tr>\n      <th>995</th>\n      <td>996</td>\n      <td>Wyrd Sisters (Discworld  #6; Witches #2)</td>\n      <td>3.666667</td>\n      <td>3.0</td>\n    </tr>\n    <tr>\n      <th>996</th>\n      <td>997</td>\n      <td>Xenocide (Ender's Saga  #3)</td>\n      <td>3.400000</td>\n      <td>3.0</td>\n    </tr>\n    <tr>\n      <th>997</th>\n      <td>998</td>\n      <td>Year of Wonders</td>\n      <td>3.200000</td>\n      <td>4.0</td>\n    </tr>\n    <tr>\n      <th>998</th>\n      <td>999</td>\n      <td>You Suck (A Love Story  #2)</td>\n      <td>4.500000</td>\n      <td>2.0</td>\n    </tr>\n    <tr>\n      <th>999</th>\n      <td>1000</td>\n      <td>Zen and the Art of Motorcycle Maintenance: An ...</td>\n      <td>3.833333</td>\n      <td>4.0</td>\n    </tr>\n  </tbody>\n</table>\n<p>1000 rows × 4 columns</p>\n</div>"
     },
     "execution_count": 9,
     "metadata": {},
     "output_type": "execute_result"
    }
   ],
   "source": [
    "# Número de reseñas de usuarios y la calificacion promedio de cada libro\n",
    "query = ''' SELECT id, book_name, mean_rating, count_reviews FROM\n",
    "    (SELECT ratings.book_id as id, books.title as book_name, AVG(ratings.rating) as mean_rating FROM ratings INNER JOIN books ON books.book_id = ratings.book_id GROUP BY id, book_name) as SUB1\n",
    "    LEFT JOIN (SELECT book_id, COUNT(username) as count_reviews FROM reviews GROUP BY book_id) AS SUB2\n",
    "    ON SUB1.id = SUB2.book_id\n",
    "    ORDER BY id ASC;\n",
    "'''\n",
    "exercise2 = pd.io.sql.read_sql(query, con=engine)\n",
    "exercise2"
   ],
   "metadata": {
    "collapsed": false,
    "ExecuteTime": {
     "end_time": "2023-07-10T07:28:43.094858Z",
     "start_time": "2023-07-10T07:28:41.649298500Z"
    }
   }
  },
  {
   "cell_type": "markdown",
   "source": [
    "Como podemos observar, tenemos una tabla con la calificación promedio y número de reseñas por cada libro junto con su titulo. Por ejemplo, el libro de `Salem's Lot` tiene una calificación media de 3.6 y un total de reviews de 2. Esto nos puede ayudar a ver los libros mejor rankeados y cuantas reviews podemos encontrar de ellos."
   ],
   "metadata": {
    "collapsed": false
   }
  },
  {
   "cell_type": "markdown",
   "source": [
    "### Identifica la editorial que ha publicado el mayor número de libros con más de 50 páginas (esto te ayudará a excluir folletos y publicaciones similares de tu análisis)."
   ],
   "metadata": {
    "collapsed": false
   }
  },
  {
   "cell_type": "code",
   "execution_count": 10,
   "outputs": [
    {
     "data": {
      "text/plain": "    id publisher_name  count_books\n0  212  Penguin Books           42",
      "text/html": "<div>\n<style scoped>\n    .dataframe tbody tr th:only-of-type {\n        vertical-align: middle;\n    }\n\n    .dataframe tbody tr th {\n        vertical-align: top;\n    }\n\n    .dataframe thead th {\n        text-align: right;\n    }\n</style>\n<table border=\"1\" class=\"dataframe\">\n  <thead>\n    <tr style=\"text-align: right;\">\n      <th></th>\n      <th>id</th>\n      <th>publisher_name</th>\n      <th>count_books</th>\n    </tr>\n  </thead>\n  <tbody>\n    <tr>\n      <th>0</th>\n      <td>212</td>\n      <td>Penguin Books</td>\n      <td>42</td>\n    </tr>\n  </tbody>\n</table>\n</div>"
     },
     "execution_count": 10,
     "metadata": {},
     "output_type": "execute_result"
    }
   ],
   "source": [
    "# Editorial que ha publicado mayor número de libros con más de 50 páginas\n",
    "query = ''' SELECT\n",
    "    SUB.publisher_id AS id,\n",
    "    publishers.publisher AS publisher_name,\n",
    "    COUNT(SUB.book_id) as count_books\n",
    "    FROM\n",
    "    (SELECT book_id, publisher_id\n",
    "    FROM books\n",
    "    WHERE num_pages > 50) AS SUB\n",
    "    INNER JOIN publishers ON publishers.publisher_id = SUB.publisher_id\n",
    "    GROUP BY id, publisher_name\n",
    "    ORDER BY count_books DESC\n",
    "    LIMIT 1\n",
    "'''\n",
    "exercise3 = pd.io.sql.read_sql(query, con=engine)\n",
    "exercise3"
   ],
   "metadata": {
    "collapsed": false,
    "ExecuteTime": {
     "end_time": "2023-07-10T07:28:44.367760900Z",
     "start_time": "2023-07-10T07:28:43.097860700Z"
    }
   }
  },
  {
   "cell_type": "markdown",
   "source": [
    "De acuerdo a la consulta, podemos ver que la editorial Penguin Books es la que mayor número de libros ha publicado con 42 libros con más de 50 páginas. Un análisis posterior podria indicarnos el promedio de las reviews de los libros de la editorial"
   ],
   "metadata": {
    "collapsed": false
   }
  },
  {
   "cell_type": "markdown",
   "source": [
    "### Identifica al autor que tiene la más alta calificación promedio del libro: mira solo los libros con al menos 50 calificaciones."
   ],
   "metadata": {
    "collapsed": false
   }
  },
  {
   "cell_type": "code",
   "execution_count": 11,
   "outputs": [
    {
     "data": {
      "text/plain": "   author_id                      author  avg_ratings\n0        236  J.K. Rowling/Mary GrandPré     4.283844",
      "text/html": "<div>\n<style scoped>\n    .dataframe tbody tr th:only-of-type {\n        vertical-align: middle;\n    }\n\n    .dataframe tbody tr th {\n        vertical-align: top;\n    }\n\n    .dataframe thead th {\n        text-align: right;\n    }\n</style>\n<table border=\"1\" class=\"dataframe\">\n  <thead>\n    <tr style=\"text-align: right;\">\n      <th></th>\n      <th>author_id</th>\n      <th>author</th>\n      <th>avg_ratings</th>\n    </tr>\n  </thead>\n  <tbody>\n    <tr>\n      <th>0</th>\n      <td>236</td>\n      <td>J.K. Rowling/Mary GrandPré</td>\n      <td>4.283844</td>\n    </tr>\n  </tbody>\n</table>\n</div>"
     },
     "execution_count": 11,
     "metadata": {},
     "output_type": "execute_result"
    }
   ],
   "source": [
    "# Autor con calificacion promedio más alta de libros con al menos 50 calificaciones\n",
    "query = ''' SELECT\n",
    "    books.author_id,\n",
    "    author,\n",
    "    AVG(avg_rating) AS avg_ratings\n",
    "    FROM\n",
    "    (SELECT\n",
    "    books.book_id AS id_book,\n",
    "    COUNT(rating_id) as count_ratings,\n",
    "    AVG(rating) as avg_rating\n",
    "    FROM\n",
    "    ratings\n",
    "    INNER JOIN books ON books.book_id = ratings.book_id\n",
    "    GROUP BY id_book) AS SUB\n",
    "    INNER JOIN books ON books.book_id = SUB.id_book\n",
    "    INNER JOIN authors ON authors.author_id = books.author_id\n",
    "    WHERE count_ratings >= 50\n",
    "    GROUP BY books.author_id, author\n",
    "    ORDER BY avg_ratings DESC\n",
    "    LIMIT 1\n",
    "'''\n",
    "\n",
    "exercise4 = pd.io.sql.read_sql(query, con=engine)\n",
    "exercise4"
   ],
   "metadata": {
    "collapsed": false,
    "ExecuteTime": {
     "end_time": "2023-07-10T07:28:45.848407900Z",
     "start_time": "2023-07-10T07:28:44.371763200Z"
    }
   }
  },
  {
   "cell_type": "markdown",
   "source": [
    "Como podemos ver en la consulta, la autora J.K. Rowling es la autora con mejor calificacion promedio de sus libros con más de 50 calificaciones."
   ],
   "metadata": {
    "collapsed": false
   }
  },
  {
   "cell_type": "markdown",
   "source": [
    "### Encuentra el número promedio de reseñas de texto entre los usuarios que calificaron más de 50 libros."
   ],
   "metadata": {
    "collapsed": false
   }
  },
  {
   "cell_type": "code",
   "execution_count": 12,
   "outputs": [
    {
     "data": {
      "text/plain": "   avg_reviews\n0    24.333333",
      "text/html": "<div>\n<style scoped>\n    .dataframe tbody tr th:only-of-type {\n        vertical-align: middle;\n    }\n\n    .dataframe tbody tr th {\n        vertical-align: top;\n    }\n\n    .dataframe thead th {\n        text-align: right;\n    }\n</style>\n<table border=\"1\" class=\"dataframe\">\n  <thead>\n    <tr style=\"text-align: right;\">\n      <th></th>\n      <th>avg_reviews</th>\n    </tr>\n  </thead>\n  <tbody>\n    <tr>\n      <th>0</th>\n      <td>24.333333</td>\n    </tr>\n  </tbody>\n</table>\n</div>"
     },
     "execution_count": 12,
     "metadata": {},
     "output_type": "execute_result"
    }
   ],
   "source": [
    "# Número promedio de reseñas de texto entre los usuarios que calificaron más de 50 libros\n",
    "query = ''' SELECT\n",
    "    AVG(count_reviews) AS avg_reviews\n",
    "    FROM\n",
    "    (SELECT\n",
    "    username,\n",
    "    count(rating) as count_rating\n",
    "    FROM\n",
    "    ratings\n",
    "    GROUP BY username) AS SUB\n",
    "    INNER JOIN\n",
    "    (SELECT\n",
    "    username,\n",
    "    COUNT(text) as count_reviews\n",
    "    FROM\n",
    "    reviews\n",
    "    GROUP BY username) AS SUB1\n",
    "    ON SUB.username = SUB1.username\n",
    "    WHERE count_rating > 50\n",
    "'''\n",
    "\n",
    "exercise5 = pd.io.sql.read_sql(query, con=engine)\n",
    "exercise5"
   ],
   "metadata": {
    "collapsed": false,
    "ExecuteTime": {
     "end_time": "2023-07-10T07:28:47.140120Z",
     "start_time": "2023-07-10T07:28:45.853460600Z"
    }
   }
  },
  {
   "cell_type": "markdown",
   "source": [
    "Podemos ver por la consulta, que el numero promedio de reseñas de texto que realizan usuarios que califican más de 50 libros es 24.3, minimo el 50% de los libros que han calificado."
   ],
   "metadata": {
    "collapsed": false
   }
  },
  {
   "cell_type": "markdown",
   "source": [
    "## Conclusiones generales\n",
    "\n",
    "En general, los resultados de nuestras consultas son los siguientes:\n",
    "- El total de libros publicados despues del 1 de enero del 200 son 819.\n",
    "- Se logro generar una tabla donde por cada libro se tiene su rating promedio y su número de reseñas de texto\n",
    "- La editorial con mayor número de libros mayores a 50 páginas es Penguin Books con 42\n",
    "- J.K. Rowling es la autora con mejor calificacion promedio (4.2) en libros con más de 50 calificaciones\n",
    "- El número promedio de reseñas de texto que realizan usuarios que califican más de 50 libros es de 24.3, minimo el 50% de los libros que han calificado"
   ],
   "metadata": {
    "collapsed": false
   }
  }
 ],
 "metadata": {
  "kernelspec": {
   "display_name": "Python 3",
   "language": "python",
   "name": "python3"
  },
  "language_info": {
   "codemirror_mode": {
    "name": "ipython",
    "version": 2
   },
   "file_extension": ".py",
   "mimetype": "text/x-python",
   "name": "python",
   "nbconvert_exporter": "python",
   "pygments_lexer": "ipython2",
   "version": "2.7.6"
  }
 },
 "nbformat": 4,
 "nbformat_minor": 0
}
